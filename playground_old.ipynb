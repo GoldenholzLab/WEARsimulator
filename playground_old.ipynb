{
 "cells": [
  {
   "cell_type": "code",
   "execution_count": 1,
   "metadata": {},
   "outputs": [
    {
     "data": {
      "application/vnd.jupyter.widget-view+json": {
       "model_id": "1e0db73662a04731bfbe57a39e37fb3c",
       "version_major": 2,
       "version_minor": 0
      },
      "text/plain": [
       "  0%|          | 0/7 [00:00<?, ?it/s]"
      ]
     },
     "metadata": {},
     "output_type": "display_data"
    },
    {
     "data": {
      "application/vnd.jupyter.widget-view+json": {
       "model_id": "75e5f612a8944b9c89e1ecc5a0a4c6f9",
       "version_major": 2,
       "version_minor": 0
      },
      "text/plain": [
       "  0%|          | 0/1000 [00:00<?, ?it/s]"
      ]
     },
     "metadata": {},
     "output_type": "display_data"
    },
    {
     "name": "stderr",
     "output_type": "stream",
     "text": [
      "/Users/danielgoldenholz/miniforge3/envs/deep3g/lib/python3.9/site-packages/numpy/core/fromnumeric.py:86: VisibleDeprecationWarning: Creating an ndarray from ragged nested sequences (which is a list-or-tuple of lists-or-tuples-or ndarrays with different lengths or shapes) is deprecated. If you meant to do this, you must specify 'dtype=object' when creating the ndarray.\n",
      "  return ufunc.reduce(obj, axis, dtype, out, **passkwargs)\n",
      "/Users/danielgoldenholz/miniforge3/envs/deep3g/lib/python3.9/site-packages/numpy/core/fromnumeric.py:86: VisibleDeprecationWarning: Creating an ndarray from ragged nested sequences (which is a list-or-tuple of lists-or-tuples-or ndarrays with different lengths or shapes) is deprecated. If you meant to do this, you must specify 'dtype=object' when creating the ndarray.\n",
      "  return ufunc.reduce(obj, axis, dtype, out, **passkwargs)\n",
      "/Users/danielgoldenholz/miniforge3/envs/deep3g/lib/python3.9/site-packages/numpy/core/fromnumeric.py:86: VisibleDeprecationWarning: Creating an ndarray from ragged nested sequences (which is a list-or-tuple of lists-or-tuples-or ndarrays with different lengths or shapes) is deprecated. If you meant to do this, you must specify 'dtype=object' when creating the ndarray.\n",
      "  return ufunc.reduce(obj, axis, dtype, out, **passkwargs)\n",
      "/Users/danielgoldenholz/miniforge3/envs/deep3g/lib/python3.9/site-packages/numpy/core/fromnumeric.py:86: VisibleDeprecationWarning: Creating an ndarray from ragged nested sequences (which is a list-or-tuple of lists-or-tuples-or ndarrays with different lengths or shapes) is deprecated. If you meant to do this, you must specify 'dtype=object' when creating the ndarray.\n",
      "  return ufunc.reduce(obj, axis, dtype, out, **passkwargs)\n",
      "/Users/danielgoldenholz/miniforge3/envs/deep3g/lib/python3.9/site-packages/numpy/core/fromnumeric.py:86: VisibleDeprecationWarning: Creating an ndarray from ragged nested sequences (which is a list-or-tuple of lists-or-tuples-or ndarrays with different lengths or shapes) is deprecated. If you meant to do this, you must specify 'dtype=object' when creating the ndarray.\n",
      "  return ufunc.reduce(obj, axis, dtype, out, **passkwargs)\n",
      "/Users/danielgoldenholz/miniforge3/envs/deep3g/lib/python3.9/site-packages/numpy/core/fromnumeric.py:86: VisibleDeprecationWarning: Creating an ndarray from ragged nested sequences (which is a list-or-tuple of lists-or-tuples-or ndarrays with different lengths or shapes) is deprecated. If you meant to do this, you must specify 'dtype=object' when creating the ndarray.\n",
      "  return ufunc.reduce(obj, axis, dtype, out, **passkwargs)\n",
      "/Users/danielgoldenholz/miniforge3/envs/deep3g/lib/python3.9/site-packages/numpy/core/fromnumeric.py:86: VisibleDeprecationWarning: Creating an ndarray from ragged nested sequences (which is a list-or-tuple of lists-or-tuples-or ndarrays with different lengths or shapes) is deprecated. If you meant to do this, you must specify 'dtype=object' when creating the ndarray.\n",
      "  return ufunc.reduce(obj, axis, dtype, out, **passkwargs)\n",
      "/Users/danielgoldenholz/miniforge3/envs/deep3g/lib/python3.9/site-packages/numpy/core/fromnumeric.py:86: VisibleDeprecationWarning: Creating an ndarray from ragged nested sequences (which is a list-or-tuple of lists-or-tuples-or ndarrays with different lengths or shapes) is deprecated. If you meant to do this, you must specify 'dtype=object' when creating the ndarray.\n",
      "  return ufunc.reduce(obj, axis, dtype, out, **passkwargs)\n",
      "/Users/danielgoldenholz/miniforge3/envs/deep3g/lib/python3.9/site-packages/numpy/core/fromnumeric.py:86: VisibleDeprecationWarning: Creating an ndarray from ragged nested sequences (which is a list-or-tuple of lists-or-tuples-or ndarrays with different lengths or shapes) is deprecated. If you meant to do this, you must specify 'dtype=object' when creating the ndarray.\n",
      "  return ufunc.reduce(obj, axis, dtype, out, **passkwargs)\n"
     ]
    },
    {
     "data": {
      "application/vnd.jupyter.widget-view+json": {
       "model_id": "c54b03f1607641bea68cbf1245f5c3ee",
       "version_major": 2,
       "version_minor": 0
      },
      "text/plain": [
       "  0%|          | 0/1000 [00:00<?, ?it/s]"
      ]
     },
     "metadata": {},
     "output_type": "display_data"
    },
    {
     "data": {
      "application/vnd.jupyter.widget-view+json": {
       "model_id": "e09c68b0a0ee49d5b2f4177e0f29f74e",
       "version_major": 2,
       "version_minor": 0
      },
      "text/plain": [
       "  0%|          | 0/1000 [00:00<?, ?it/s]"
      ]
     },
     "metadata": {},
     "output_type": "display_data"
    },
    {
     "data": {
      "application/vnd.jupyter.widget-view+json": {
       "model_id": "4feba551b04148cb8ae7e013453c46d9",
       "version_major": 2,
       "version_minor": 0
      },
      "text/plain": [
       "  0%|          | 0/1000 [00:00<?, ?it/s]"
      ]
     },
     "metadata": {},
     "output_type": "display_data"
    },
    {
     "data": {
      "application/vnd.jupyter.widget-view+json": {
       "model_id": "052763969cfc4b3bb1b06463342db4de",
       "version_major": 2,
       "version_minor": 0
      },
      "text/plain": [
       "  0%|          | 0/1000 [00:00<?, ?it/s]"
      ]
     },
     "metadata": {},
     "output_type": "display_data"
    },
    {
     "data": {
      "application/vnd.jupyter.widget-view+json": {
       "model_id": "a4bba52bdb87481d89f3880f0023c41d",
       "version_major": 2,
       "version_minor": 0
      },
      "text/plain": [
       "  0%|          | 0/1000 [00:00<?, ?it/s]"
      ]
     },
     "metadata": {},
     "output_type": "display_data"
    },
    {
     "data": {
      "application/vnd.jupyter.widget-view+json": {
       "model_id": "625c280abdc144368ac64daec42a83e3",
       "version_major": 2,
       "version_minor": 0
      },
      "text/plain": [
       "  0%|          | 0/1000 [00:00<?, ?it/s]"
      ]
     },
     "metadata": {},
     "output_type": "display_data"
    },
    {
     "data": {
      "image/png": "[encoded data removed]",
      "text/plain": [
       "<Figure size 432x288 with 1 Axes>"
      ]
     },
     "metadata": {
      "needs_background": "light"
     },
     "output_type": "display_data"
    },
    {
     "name": "stdout",
     "output_type": "stream",
     "text": [
      "[[0.168 0.426]\n",
      " [0.309 0.603]\n",
      " [0.339 0.639]\n",
      " [0.389 0.702]\n",
      " [0.58  0.889]\n",
      " [0.591 0.896]\n",
      " [0.642 0.924]]\n"
     ]
    }
   ],
   "source": [
    "# make a simple picture of trial size vs power\n",
    "\n",
    "%reload_ext autoreload\n",
    "%autoreload 2\n",
    "from weargroup import find_detector_thresh_tester,get_pow\n",
    "import numpy as np\n",
    "from tqdm.notebook import trange, tqdm\n",
    "import matplotlib.pyplot as plt\n",
    "#find_detector_thresh_tester()\n",
    "# 100 was 30%, 300 was 88%\n",
    "# note: 325 = 90.65%\n",
    "DRG=0.2\n",
    "REPS = 1000\n",
    "Nlist = [100,150,175,200,300,325,350]\n",
    "plist = np.array([ get_pow(N=Nlist[Ni],numCPUs=9,REPS=REPS,DRG=DRG) for Ni in trange(len(Nlist) )],dtype=float)\n",
    "plt.plot(Nlist,plist[:,0],'x-',label='RR50')\n",
    "plt.plot(Nlist,plist[:,1],'o-',label='MPC')\n",
    "plt.plot([Nlist[0],Nlist[-1]],[.9,.9],'b--',label='90% power')\n",
    "plt.title(f'Statistical power in {REPS} trials')\n",
    "plt.xlabel('Number of patients per trial')\n",
    "plt.ylabel('Power')\n",
    "plt.legend()\n",
    "plt.show()\n",
    "print(plist)"
   ]
  },
  {
   "cell_type": "code",
   "execution_count": null,
   "metadata": {},
   "outputs": [],
   "source": [
    "def do_full_case1_sim_v2(figname,numCPUs=9,REPS=5000,DRG=0.2): \n",
    "    T1 = time.time()\n",
    "    highestN = 1000\n",
    "    sensSET = [1]\n",
    "    FARset = [0,1]\n",
    "  \n",
    "    fig,ax = plt.subplots(2,2,sharex=True,sharey=True,figsize=(10,5))\n",
    "    \n",
    "    #metriclist= ['RR50','MPC']\n",
    "    metriclist = ['MPC']\n",
    "    for im,metric_type in enumerate(metriclist):\n",
    "        #if im==0:\n",
    "        #Nlist = [75,100,125,150,175,200]\n",
    "        Nlist = [40,50,60,70,80,90,100]\n",
    "        \n",
    "        #else:\n",
    "        #    Nlist=  [100,200,300,400,500,600,700,800]\n",
    "            \n",
    "        for ic,clinTF in enumerate([True,False]):\n",
    "        \n",
    "        #ic = 0\n",
    "            L = len(FARset)*len(sensSET)\n",
    "            k = pd.DataFrame(np.zeros((L,3)),columns=['FAR','sensitivity','N'])\n",
    "            ind = 0\n",
    "            for fi,FAR in enumerate(FARset):\n",
    "                for si,sensitivity in enumerate(sensSET): \n",
    "                    finalN = highestN\n",
    "                    for N in Nlist:\n",
    "                        p = get_pow_kind_full(N,numCPUs,REPS,DRG,sensitivity,FAR,clinTF,metric_type)\n",
    "                        if p>0.9:\n",
    "                            finalN=N\n",
    "                            break\n",
    "                    print(f'FAR={FAR} sensitivity={sensitivity} FinalN={finalN}')\n",
    "                    k.iloc[ind,:] = [FAR,sensitivity,finalN]\n",
    "                    #thexy[ind,:] = [FAR,sensitivity,finalN]\n",
    "                    ind+=1\n",
    "            k['N'] = k['N'].astype('int')\n",
    "            #k = pd.DataFrame({'FAR':thexy[0,:],'sensitivity':thexy[1,:],'N':thexy[2,:].astype('int')})\n",
    "            thispow = k.pivot('FAR','sensitivity','N')\n",
    "            print(k)\n",
    "            sns.heatmap(thispow, annot=True,fmt='d',linewidths=0.5, ax=ax[im,ic])\n",
    "            ax[im,ic].set_title(f'Power Metric={metric_type} clinTF={clinTF}')    \n",
    "    plt.savefig(figname,dpi=300)\n",
    "    plt.show()    \n",
    "    T2 = time.time()\n",
    "    print(f'Elapsed: {T2-T1}')"
   ]
  },
  {
   "cell_type": "code",
   "execution_count": null,
   "metadata": {},
   "outputs": [],
   "source": [
    "def run_big_RCT_sim(REPS,sensSET,FARset,lowest_N_list,numCPUs,im,DRG):\n",
    "    T1= time.time()\n",
    "    #lowest_N_list = [325,175]  # the lowest N for getting 90% power with these parameters\n",
    "    #REPS = 100\n",
    "\n",
    "    #sensSET = np.linspace(0,1,30)\n",
    "    #FARset = np.linspace(.1,3,30)\n",
    "    fig,ax = plt.subplots(2,1,sharex=True,sharey=True,figsize=(10,10))\n",
    "    metriclist= ['RR50','MPC']\n",
    "    im = 0\n",
    "    metric = metriclist[im]\n",
    "    lowest_N = lowest_N_list[im]\n",
    "    #for im,metric in enumerate(]):\n",
    "#        \n",
    "    for ib,clinTF in enumerate([True,False]):\n",
    "        pow = np.zeros((len(FARset),len(sensSET)))\n",
    "        xyz = np.zeros((len(FARset)*len(sensSET),3))\n",
    "        ind = 0\n",
    "        for i in trange(len(FARset)):\n",
    "            for j in trange(len(sensSET)):\n",
    "                pow[i,j] = run1Power_kind(REPS=REPS,numCPUs=numCPUs,minSz=4,N=lowest_N,DRG=DRG,PCB=0,\n",
    "                    baseline=56,test=84,sensitivity=sensSET[j],FAR=FARset[i],clinTF=clinTF,metric_type=metric)\n",
    "                xyz[ind,:] = [FARset[i],sensSET[j],pow[i,j]]\n",
    "                ind+=1\n",
    "\n",
    "        k = pd.DataFrame(xyz,columns=['FAR','sensitivity','power'])\n",
    "        thispow = k.pivot('FAR','sensitivity','power')\n",
    "        sns.heatmap(thispow, annot=True,linewidths=0.5, ax=ax[ib]).set(\n",
    "            title=f'Power Metric={metric} clinTF={clinTF}')\n",
    "    plt.show()\n",
    "    T2= time.time()\n",
    "    print(f'total time = {T2-T1}')\n",
    "    \n",
    "REPS=5000\n",
    "#lowest_N_list = [325,175]  # the lowest N for getting 90% power with these parameters\n",
    "lowest_N_list = [325,50]  # the lowest N for getting 90% power with these parameters\n",
    "\n",
    "sensSET = [.01, .5, .99]\n",
    "FARset = [.6, .8, .9]\n",
    "run_big_RCT_sim(REPS,sensSET,FARset,lowest_N_list,numCPUs=9,im=0,DRG=0.3)\n",
    "\n",
    "\n",
    "#######\n",
    "\n",
    "\n",
    "\n",
    "REPS=1000\n",
    "#lowest_N_list = [325,175]  # the lowest N for getting 90% power with these parameters\n",
    "lowest_N_list = [325,175]  # the lowest N for getting 90% power with these parameters\n",
    "\n",
    "sensSET = [0,.25,.5,.75,1]\n",
    "FARset = [.6,.7,.8,1]\n",
    "run_big_RCT_sim(REPS,sensSET,FARset,lowest_N_list,numCPUs=9,im=1,DRG=0.3)\n",
    "\n",
    "\n",
    "###\n",
    "\n",
    "REPS=500\n",
    "#lowest_N_list = [325,175]  # the lowest N for getting 90% power with these parameters\n",
    "lowest_N_list = [700,350]  # the lowest N for getting 90% power with these parameters\n",
    "\n",
    "sensSET = [0,.25,.5,.75,1]\n",
    "FARset = [.4,.5,.6]\n",
    "run_big_RCT_sim(REPS,sensSET,FARset,lowest_N_list,numCPUs=9,im=0,DRG=0.2)\n",
    "\n",
    "#REPS=5000\n",
    "\n",
    "sensSET = [0,.25,.5,.75,1]\n",
    "FARset = [.4,.5,.6]\n",
    "run_big_RCT_sim(REPS,sensSET,FARset,lowest_N_list,numCPUs=9,im=1,DRG=0.2)\n",
    "\n",
    "###\n",
    "\n",
    "REPS=5000\n",
    "#lowest_N_list = [325,175]  # the lowest N for getting 90% power with these parameters\n",
    "lowest_N_list = [700,350]  # the lowest N for getting 90% power with these parameters\n",
    "\n",
    "sensSET = [0,.25,.5,.75,1]\n",
    "FARset = [.4,.5,.6]\n",
    "run_big_RCT_sim(REPS,sensSET,FARset,lowest_N_list,numCPUs=9,im=0,DRG=0.2)\n",
    "\n",
    "#REPS=5000\n",
    "\n",
    "sensSET = [0,.25,.5,.75,1]\n",
    "FARset = [.4,.5,.6]\n",
    "run_big_RCT_sim(REPS,sensSET,FARset,lowest_N_list,numCPUs=9,im=1,DRG=0.2)"
   ]
  },
  {
   "cell_type": "code",
   "execution_count": null,
   "metadata": {},
   "outputs": [],
   "source": [
    "%reload_ext autoreload\n",
    "%autoreload 2\n",
    "from weargroup import run1Power_kind,run1trial_kind,build_a_kind_of_diary\n",
    "import numpy as np\n",
    "import time\n",
    "import matplotlib.pyplot as plt\n",
    "from tqdm.notebook import trange, tqdm\n",
    "from mpl_toolkits.axes_grid1 import make_axes_locatable\n",
    "import seaborn as sns\n",
    "T1= time.time()\n",
    "lowest_N_list = [325,175]  # the lowest N for getting 90% power with these parameters\n",
    "REPS = 1000\n",
    "\n",
    "sensSET = np.linspace(0,1,30)\n",
    "FARset = np.linspace(.1,3,30)\n",
    "fig,ax = plt.subplots(2,2,sharex=True,sharey=True,figsize=(10,10))\n",
    "for im,metric in enumerate(['RR50','MPC']):\n",
    "    lowest_N = lowest_N_list[im]\n",
    "    for ib,clinTF in enumerate([True,False]):\n",
    "        pow = np.zeros((len(FARset),len(sensSET)))\n",
    "        xyz = np.zeros((len(FARset)*len(sensSET),3))\n",
    "        ind = 0\n",
    "        for i in trange(len(FARset)):\n",
    "            for j in trange(len(sensSET)):\n",
    "                pow[i,j] = run1Power_kind(REPS=REPS,numCPUs=9,minSz=4,N=lowest_N,DRG=0.3,PCB=0,\n",
    "                    baseline=56,test=84,sensitivity=sensSET[j],FAR=FARset[i],clinTF=clinTF,metric_type=metric)\n",
    "                xyz[ind,:] = [FARset[i],sensSET[j],pow[i,j]]\n",
    "                ind+=1\n",
    "\n",
    "        k = pd.DataFrame(xyz,columns=['FAR','sensitivity','power'])\n",
    "        thispow = k.pivot('FAR','sensitivity','power')\n",
    "        sns.heatmap(thispow, annot=True,linewidths=0.5, ax=ax[im,ib]).set(\n",
    "                title=f'Power Metric={metric} clinTF={clinTF}')\n",
    "plt.show()\n",
    "T2= time.time()\n",
    "print(f'total time = {T2-T1}')"
   ]
  },
  {
   "cell_type": "code",
   "execution_count": 2,
   "metadata": {},
   "outputs": [
    {
     "ename": "NameError",
     "evalue": "name 'FARset' is not defined",
     "output_type": "error",
     "traceback": [
      "\u001b[0;31m---------------------------------------------------------------------------\u001b[0m",
      "\u001b[0;31mNameError\u001b[0m                                 Traceback (most recent call last)",
      "\u001b[1;32m/Users/danielgoldenholz/Documents/GitHub/WEARsimulator/playground_old.ipynb Cell 5\u001b[0m in \u001b[0;36m<cell line: 3>\u001b[0;34m()\u001b[0m\n\u001b[1;32m      <a href='vscode-notebook-cell:/Users/danielgoldenholz/Documents/GitHub/WEARsimulator/playground_old.ipynb#ch0000005?line=0'>1</a>\u001b[0m \u001b[39mimport\u001b[39;00m \u001b[39mpandas\u001b[39;00m \u001b[39mas\u001b[39;00m \u001b[39mpd\u001b[39;00m\n\u001b[1;32m      <a href='vscode-notebook-cell:/Users/danielgoldenholz/Documents/GitHub/WEARsimulator/playground_old.ipynb#ch0000005?line=1'>2</a>\u001b[0m \u001b[39mimport\u001b[39;00m \u001b[39mseaborn\u001b[39;00m \u001b[39mas\u001b[39;00m \u001b[39msns\u001b[39;00m\n\u001b[0;32m----> <a href='vscode-notebook-cell:/Users/danielgoldenholz/Documents/GitHub/WEARsimulator/playground_old.ipynb#ch0000005?line=2'>3</a>\u001b[0m x \u001b[39m=\u001b[39m FARset\n\u001b[1;32m      <a href='vscode-notebook-cell:/Users/danielgoldenholz/Documents/GitHub/WEARsimulator/playground_old.ipynb#ch0000005?line=3'>4</a>\u001b[0m y \u001b[39m=\u001b[39m sensSET\n\u001b[1;32m      <a href='vscode-notebook-cell:/Users/danielgoldenholz/Documents/GitHub/WEARsimulator/playground_old.ipynb#ch0000005?line=5'>6</a>\u001b[0m xyz \u001b[39m=\u001b[39m np\u001b[39m.\u001b[39mzeros((\u001b[39mlen\u001b[39m(FARset)\u001b[39m*\u001b[39m\u001b[39mlen\u001b[39m(sensSET),\u001b[39m3\u001b[39m))\n",
      "\u001b[0;31mNameError\u001b[0m: name 'FARset' is not defined"
     ]
    }
   ],
   "source": [
    "import pandas as pd\n",
    "import seaborn as sns\n",
    "x = FARset\n",
    "y = sensSET\n",
    "\n",
    "xyz = np.zeros((len(FARset)*len(sensSET),3))\n",
    "ind = 0\n",
    "for i in range(len(FARset)):\n",
    "    for j in range(len(sensSET)):\n",
    "        xyz[ind,:] = [FARset[i],sensSET[j],pow[i,j]]\n",
    "        ind+=1\n",
    "k = pd.DataFrame(xyz,columns=['FAR','sensitivity','power'])\n",
    "thispow = k.pivot('FAR','sensitivity','power')\n",
    "sns.heatmap(thispow, annot=True,linewidths=0.5)"
   ]
  },
  {
   "cell_type": "code",
   "execution_count": null,
   "metadata": {},
   "outputs": [],
   "source": [
    "%reload_ext autoreload\n",
    "%autoreload 2\n",
    "from weargroup import find_detector_thresh_tester\n",
    "\n",
    "def find_detector_thresh_tester():\n",
    "    numCPUs = 9\n",
    "    baseline = 56\n",
    "    test = 84\n",
    "    numCPUs = 9\n",
    "    minSz=8\n",
    "    howmanydays = baseline+test\n",
    "    DRG=0.3\n",
    "    PCB=0.0\n",
    "    REPS = 1000\n",
    "\n",
    "    Nlist = np.linspace(100,500,17)\n",
    "    for plotx,metric_type in enumerate(['MPC','RR50']):\n",
    "        for ploty,clinTF in enumerate([True,False]):\n",
    "            \n",
    "            # figure out minimum N for 90% power with obs\n",
    "            pows = [ get_pow(N,metric_type,numCPUs) for N in Nlist ]\n",
    "            goodOnes = Nlist[pows>0.9]\n",
    "            lowest_N = goodOnes[0]\n",
    "            print(f'metric={metric_type}, clinTF={clinTF}, lowestN={lowest_N}')\n",
    "            \n",
    "def get_pow(N,numCPUs,REPS,DRG):\n",
    "    # INPUTS:\n",
    "    # N - total number of patients\n",
    "    # metric_type - 'MPC' or 'RR50'\n",
    "    # numCPUs \n",
    "    #\n",
    "    # OUTPUTS:\n",
    "    #  pow = the % of trials that successfully distinguish drug from placebo\n",
    "    #\n",
    "    minSz = 4\n",
    "    #DRG = 0.3\n",
    "    PCB = 0.0\n",
    "    baseline = 56\n",
    "    test = 84\n",
    "\n",
    "    #REPS = 10000\n",
    "    \n",
    "    if numCPUs == 1:\n",
    "        plist = [get_one_pow(N,minSz,DRG,PCB,baseline,test) for _ in trange(REPS)]\n",
    "    else:\n",
    "        with Parallel(n_jobs=numCPUs, verbose=False) as par:\n",
    "            plist = par(delayed(get_one_pow)(N,minSz,DRG,PCB,baseline,test) for _ in trange(REPS))\n",
    "    plist = np.array(plist,dtype=float)\n",
    "    pow = np.mean(plist<0.05,axis=0)\n",
    "    return pow\n",
    "\n",
    "\n",
    "import numpy as np\n",
    "from tqdm.notebook import trange, tqdm\n",
    "import matplotlib.pyplot as plt\n",
    "#find_detector_thresh_tester()\n",
    "# 100 was 30%, 300 was 88%\n",
    "# note: 325 = 90.65%\n",
    "DRG=0.2\n",
    "REPS = 5000\n",
    "Nlist = [200,300,325,350,400,600,650,700,750,800]\n",
    "plist = np.array([ get_pow(N=Nlist[Ni],numCPUs=9,REPS=REPS,DRG=DRG) for Ni in trange(len(Nlist) )],dtype=float)\n",
    "plt.plot(Nlist,plist[:,0],'x-',label='RR50')\n",
    "plt.plot(Nlist,plist[:,1],'o-',label='MPC')\n",
    "plt.plot([Nlist[0],Nlist[-1]],[.9,.9],'b--',label='90% power')\n",
    "plt.title(f'Statistical power in {REPS} trials')\n",
    "plt.xlabel('Number of patients per trial')\n",
    "plt.ylabel('Power')\n",
    "plt.legend()\n",
    "plt.show()\n",
    "print(plist)\n",
    "# conclusion: 350 for MPC,700 for RR50"
   ]
  },
  {
   "cell_type": "code",
   "execution_count": null,
   "metadata": {},
   "outputs": [],
   "source": [
    "%reload_ext autoreload\n",
    "%autoreload 2\n",
    "from weargroup import find_detector_thresh_tester,get_pow_kind_full\n",
    "import numpy as np\n",
    "from tqdm.notebook import trange, tqdm\n",
    "import seaborn as sns\n",
    "import time\n",
    "import matplotlib.pyplot as plt\n",
    "import pandas as pd\n",
    "numCPUs=9\n",
    "REPS=5000\n",
    "DRG=0.2\n",
    "sensitivity=1\n",
    "FAR=0\n",
    "#clinTF=True\n",
    "#metric_type='MPC'\n",
    "sensSET = [.33,.66,1]\n",
    "FARset = [0,.2,.4]\n",
    "#sensSET = [.5]\n",
    "#FARset = [.4]\n",
    "\n",
    "#Nlist= np.linspace(100,900,17).astype('int')\n",
    "\n",
    "\n",
    "fig,ax = plt.subplots(2,1,sharex=True,sharey=True,figsize=(10,10))\n",
    "metriclist= ['RR50','MPC']\n",
    "for im,metric_type in enumerate(metriclist):\n",
    "    if im==1:\n",
    "        Nlist = [75,100,125,150,175,200]\n",
    "    else:\n",
    "        Nlist=  [100,200,300,400,500,600,700,800]\n",
    "        \n",
    "    for ic,clinTF in enumerate([True,False]):\n",
    "    #ic = 0\n",
    "        thexy = np.zeros((len(FARset)*len(sensSET),3))\n",
    "        ind = 0\n",
    "        for fi,FAR in enumerate(FARset):\n",
    "            for si,sensitivity in enumerate(sensSET): \n",
    "                for N in Nlist:\n",
    "                    p = get_pow_kind_full(N,numCPUs,REPS,DRG,sensitivity,FAR,clinTF,metric_type)\n",
    "                    if p>0.9:\n",
    "                        finalN=N\n",
    "                        break\n",
    "                print(f'FAR={FAR} sensitivity={sensitivity} FinalN={finalN}')\n",
    "                thexy[ind,:] = [FAR,sensitivity,finalN]\n",
    "                ind+=1\n",
    "                \n",
    "        k = pd.DataFrame(thexy,columns=['FAR','sensitivity','power'])\n",
    "        thispow = k.pivot('FAR','sensitivity','power')\n",
    "        sns.heatmap(thispow, annot=True,fmt='d',linewidths=0.5, ax=ax[ic]).set(\n",
    "            title=f'Power Metric={metric_type} clinTF={clinTF}')    \n",
    "    plt.show()    "
   ]
  },
  {
   "cell_type": "code",
   "execution_count": null,
   "metadata": {},
   "outputs": [],
   "source": [
    "%reload_ext autoreload\n",
    "%autoreload 2\n",
    "from weargroup import do_full_case1_sim\n",
    "from realSim import downsample\n",
    "number_of_years = 10\n",
    "num_patients = 10000\n",
    "sampRATE = 1\n",
    "howmanydays = sampRATE*30*12*number_of_years\n",
    "sensitivity = 0.8\n",
    "FAR = 0.2\n",
    "clinTF = True\n",
    "conservativeClinician = 0.8\n",
    "for N in range(num_patients):\n",
    "    true_e_diary, true_clin_diary, observed_clin_diary, detector_e_diary, detector_clin_diary=build_full_set_of_diaries(sampRATE,howmanydays,clin_sensitivity,clin_FAR,e_sensitivity,e_FAR)\n",
    "    \n",
    "    diary = build_a_kind_of_diary(sampRATE,howmanydays,sensitivity,FAR,clinTF)\n",
    "    chunks = downsample(diary,90)\n",
    "    L = len(chunks)\n",
    "    noChange = 0\n",
    "    druglist = np.zeros(L)\n",
    "    \n",
    "    for i in range(L):\n",
    "        \n",
    "        if i==0:\n",
    "            noChange=1\n",
    "        else:\n",
    "            thisChunk = chunks[i]\n",
    "            lastChunk = chunks[i-1]\n",
    "            if (thisChunk==0) or (thisChunk <= lastChunk*0.5):\n",
    "                noChange+=1\n",
    "            else:\n",
    "                # there are >= 50% seizures this time vs last. Need a change maybe\n",
    "                noChange=0\n",
    "                if np.random.random()<conservativeClinician:\n",
    "                    # the conservative clinician would be inclined to add med\n",
    "                    druglist[i] += 1\n",
    "                    \n",
    "            if noChange==24:\n",
    "                # REMOVE DRUG, because no change in 2 years\n",
    "                druglist[i] = np.max([0,i-1])\n",
    "            \n",
    "            "
   ]
  },
  {
   "cell_type": "code",
   "execution_count": null,
   "metadata": {},
   "outputs": [],
   "source": [
    "# try the same with much less subtypes\n",
    "%reload_ext autoreload\n",
    "%autoreload 2\n",
    "from weargroup import get_pow_kind_full,run1trial_kind,makeTrial_kind,getPC\n",
    "import time\n",
    "theN = 70\n",
    "DRG = 0.2\n",
    "reps = 100\n",
    "for theN in [20,30,40]:\n",
    "    d1 = np.zeros(reps)\n",
    "    for K in range(reps):\n",
    "        trialData = makeTrial_kind(minSz=4,N=theN,DRG=DRG,PCB=0,baseline=56,test=84,sensitivity=1,FAR=0,clinTF=True)\n",
    "        PC1 = getPC(trialData,baseline=56,test=84)\n",
    "        P1 = np.median(PC1[:int(theN/2)])\n",
    "        P1d = np.median(PC1[int(theN/2):])\n",
    "        d1[K] = P1d-P1\n",
    "    d2 = np.zeros(reps)\n",
    "    for K in range(reps):\n",
    "        trialData = makeTrial_kind(minSz=4,N=theN,DRG=DRG,PCB=0,baseline=56,test=84,sensitivity=1,FAR=0,clinTF=False)\n",
    "        PC2 = getPC(trialData,baseline=56,test=84)\n",
    "        P2 = np.median(PC2[:int(theN/2)])\n",
    "        P2d = np.median(PC2[int(theN/2):])\n",
    "        d2[K] = P2d-P2\n",
    "    print(f'N = {theN} P1 = {np.mean(d1)} P2 = {np.mean(d2)}')\n",
    "\n",
    "if 0:\n",
    "    pF = run1trial_kind(minSz=4,N=theN,DRG=DRG,PCB=0, baseline=56,test=84,sensitivity=1,FAR=0,clinTF=False,metric_type='MPC')\n",
    "    pT = run1trial_kind(minSz=4,N=theN,DRG=DRG,PCB=0, baseline=56,test=84,sensitivity=1,FAR=0,clinTF=True,metric_type='MPC')\n",
    "    print(f'pF = {pF:0.2} pT = {pT:0.2}')\n",
    "if 0:\n",
    "    T1 = time.time()\n",
    "    p = get_pow_kind_full(N=theN,numCPUs=9,REPS=5000,DRG=0.4,sensitivity=1,FAR=0,clinTF=True,metric_type='MPC')\n",
    "    T2 = time.time()\n",
    "    print(f'Clinical   p={p:0.2} time = {T2-T1}')\n",
    "    if 0:\n",
    "        p = get_pow_kind_full(N=theN,numCPUs=9,REPS=5000,DRG=0.2,sensitivity=0.5,FAR=0,clinTF=True,metric_type='MPC')\n",
    "        T2 = time.time()\n",
    "        print(f'Sens = 0.5  p={p:0.2} time = {T2-T1}')\n",
    "        p = get_pow_kind_full(N=theN,numCPUs=9,REPS=5000,DRG=0.2,sensitivity=1,FAR=2,clinTF=True,metric_type='MPC')\n",
    "        T2 = time.time()\n",
    "        print(f'FAR = 2   p={p:0.2} time = {T2-T1}')\n",
    "    p = get_pow_kind_full(N=theN,numCPUs=9,REPS=5000,DRG=0.2,sensitivity=1,FAR=0,clinTF=False,metric_type='MPC')\n",
    "    T2 = time.time()\n",
    "    print(f'clin=FALSE   p={p:0.2} time = {T2-T1}')\n"
   ]
  },
  {
   "cell_type": "code",
   "execution_count": null,
   "metadata": {},
   "outputs": [],
   "source": [
    "\n",
    "\n",
    "def find_detector_thresh():\n",
    "    numCPUs = 9\n",
    "    baseline = 56\n",
    "    test = 84\n",
    "    numCPUs = 9\n",
    "    minSz=8\n",
    "    howmanydays = baseline+test\n",
    "    DRG=0.3\n",
    "    PCB=0.0\n",
    "    REPS = 1000\n",
    "    fig, ax = plt.subplots(2, 2,figsize=(12,8))\n",
    "\n",
    "    Nlist = np.linspace(100,500,17)\n",
    "    for plotx,metric_type in enumerate(['MPC','RR50']):\n",
    "        for ploty,clinTF in enumerate([True,False]):\n",
    "            \n",
    "            # figure out minimum N for 90% power with obs\n",
    "            pows = [ get_pow(N,metric_type,numCPUs) for N in Nlist ]\n",
    "            goodOnes = Nlist[pows>0.9]\n",
    "            lowest_N = goodOnes[0]\n",
    "            \n",
    "            # sequence through detector sensitivities to reach 90%\n",
    "            sensitivity_sweep = np.linspace(50,100,26)\n",
    "            FAR_sweep = np.linspace(0,1,26)\n",
    "            powgrid = np.zeros((sensitivity_sweep.shape[0],FAR_sweep.shape[0]))\n",
    "            for a,device_sens in enumerate(sensitivity_sweep):\n",
    "                for b,FAR in enumerate(FAR_sweep):\n",
    "                    powgrid[a,b] = run1Power_kind(REPS,numCPUs,minSz,lowest_N,DRG,PCB,baseline,test,device_sens,FAR,clinTF,metric_type)\n",
    "            ax[plotx,ploty].imshow(powgrid, extent=[0, 1, 0, 1])\n",
    "            ax[plotx,ploty].title(f'Using metric {metric_type} and clinTF={clinTF}')\n",
    "    fig.supxlabel('Sensitivity')\n",
    "    fig.supylabel('FAR')"
   ]
  },
  {
   "cell_type": "code",
   "execution_count": 25,
   "metadata": {},
   "outputs": [
    {
     "data": {
      "application/vnd.jupyter.widget-view+json": {
       "model_id": "5563dda002f34d0c94d08c82cb1f068b",
       "version_major": 2,
       "version_minor": 0
      },
      "text/plain": [
       "FAR:   0%|          | 0/2 [00:00<?, ?it/s]"
      ]
     },
     "metadata": {},
     "output_type": "display_data"
    },
    {
     "data": {
      "application/vnd.jupyter.widget-view+json": {
       "model_id": "207a4210370d4a5e959d6abe6a203fd7",
       "version_major": 2,
       "version_minor": 0
      },
      "text/plain": [
       "sens:   0%|          | 0/2 [00:00<?, ?it/s]"
      ]
     },
     "metadata": {},
     "output_type": "display_data"
    },
    {
     "data": {
      "application/vnd.jupyter.widget-view+json": {
       "model_id": "d4e1ed7041be4725a87a8de680108f0d",
       "version_major": 2,
       "version_minor": 0
      },
      "text/plain": [
       "N:   0%|          | 0/52 [00:00<?, ?it/s]"
      ]
     },
     "metadata": {},
     "output_type": "display_data"
    },
    {
     "data": {
      "application/vnd.jupyter.widget-view+json": {
       "model_id": "1d5513524a5848c49b05a47cf01793d9",
       "version_major": 2,
       "version_minor": 0
      },
      "text/plain": [
       "outer loop:   0%|          | 0/12 [00:00<?, ?it/s]"
      ]
     },
     "metadata": {},
     "output_type": "display_data"
    },
    {
     "data": {
      "application/vnd.jupyter.widget-view+json": {
       "model_id": "54d3dd44e442443fbe9067294a4202df",
       "version_major": 2,
       "version_minor": 0
      },
      "text/plain": [
       "outer loop:   0%|          | 0/12 [00:00<?, ?it/s]"
      ]
     },
     "metadata": {},
     "output_type": "display_data"
    },
    {
     "data": {
      "application/vnd.jupyter.widget-view+json": {
       "model_id": "5a257839a998494ca23ec28f12d8d3d1",
       "version_major": 2,
       "version_minor": 0
      },
      "text/plain": [
       "outer loop:   0%|          | 0/12 [00:00<?, ?it/s]"
      ]
     },
     "metadata": {},
     "output_type": "display_data"
    },
    {
     "data": {
      "application/vnd.jupyter.widget-view+json": {
       "model_id": "fd958046ce17420bba295a130c07e1e3",
       "version_major": 2,
       "version_minor": 0
      },
      "text/plain": [
       "outer loop:   0%|          | 0/12 [00:00<?, ?it/s]"
      ]
     },
     "metadata": {},
     "output_type": "display_data"
    },
    {
     "data": {
      "application/vnd.jupyter.widget-view+json": {
       "model_id": "0f5d5992024b4224948bdf821f0aec7d",
       "version_major": 2,
       "version_minor": 0
      },
      "text/plain": [
       "outer loop:   0%|          | 0/12 [00:00<?, ?it/s]"
      ]
     },
     "metadata": {},
     "output_type": "display_data"
    },
    {
     "data": {
      "application/vnd.jupyter.widget-view+json": {
       "model_id": "a23f4253efdc4f52b6bd91cad1f021ee",
       "version_major": 2,
       "version_minor": 0
      },
      "text/plain": [
       "outer loop:   0%|          | 0/12 [00:00<?, ?it/s]"
      ]
     },
     "metadata": {},
     "output_type": "display_data"
    },
    {
     "data": {
      "application/vnd.jupyter.widget-view+json": {
       "model_id": "1176cff1a71f480b806cda09675e3967",
       "version_major": 2,
       "version_minor": 0
      },
      "text/plain": [
       "outer loop:   0%|          | 0/12 [00:00<?, ?it/s]"
      ]
     },
     "metadata": {},
     "output_type": "display_data"
    },
    {
     "data": {
      "application/vnd.jupyter.widget-view+json": {
       "model_id": "a9c4832ec3da4c71a16158b61dcb3876",
       "version_major": 2,
       "version_minor": 0
      },
      "text/plain": [
       "outer loop:   0%|          | 0/12 [00:00<?, ?it/s]"
      ]
     },
     "metadata": {},
     "output_type": "display_data"
    },
    {
     "data": {
      "application/vnd.jupyter.widget-view+json": {
       "model_id": "e9d17325f2c340d680772ad31378d741",
       "version_major": 2,
       "version_minor": 0
      },
      "text/plain": [
       "outer loop:   0%|          | 0/12 [00:00<?, ?it/s]"
      ]
     },
     "metadata": {},
     "output_type": "display_data"
    },
    {
     "data": {
      "application/vnd.jupyter.widget-view+json": {
       "model_id": "a3cf406cf18e4663b75d9a27c5a32c60",
       "version_major": 2,
       "version_minor": 0
      },
      "text/plain": [
       "outer loop:   0%|          | 0/12 [00:00<?, ?it/s]"
      ]
     },
     "metadata": {},
     "output_type": "display_data"
    },
    {
     "data": {
      "application/vnd.jupyter.widget-view+json": {
       "model_id": "2e0c36473c20411fbad60af01db07416",
       "version_major": 2,
       "version_minor": 0
      },
      "text/plain": [
       "outer loop:   0%|          | 0/12 [00:00<?, ?it/s]"
      ]
     },
     "metadata": {},
     "output_type": "display_data"
    },
    {
     "data": {
      "application/vnd.jupyter.widget-view+json": {
       "model_id": "07572ddbe5d24830bc6302e328f63024",
       "version_major": 2,
       "version_minor": 0
      },
      "text/plain": [
       "N:   0%|          | 0/52 [00:00<?, ?it/s]"
      ]
     },
     "metadata": {},
     "output_type": "display_data"
    },
    {
     "data": {
      "application/vnd.jupyter.widget-view+json": {
       "model_id": "6df32d9406b649ba8fb5e6e04aabb373",
       "version_major": 2,
       "version_minor": 0
      },
      "text/plain": [
       "outer loop:   0%|          | 0/12 [00:00<?, ?it/s]"
      ]
     },
     "metadata": {},
     "output_type": "display_data"
    },
    {
     "data": {
      "application/vnd.jupyter.widget-view+json": {
       "model_id": "0c90f093474642fca33ffdfe164bfe8a",
       "version_major": 2,
       "version_minor": 0
      },
      "text/plain": [
       "outer loop:   0%|          | 0/12 [00:00<?, ?it/s]"
      ]
     },
     "metadata": {},
     "output_type": "display_data"
    },
    {
     "data": {
      "application/vnd.jupyter.widget-view+json": {
       "model_id": "c742568d69684495916a9638d7987182",
       "version_major": 2,
       "version_minor": 0
      },
      "text/plain": [
       "outer loop:   0%|          | 0/12 [00:00<?, ?it/s]"
      ]
     },
     "metadata": {},
     "output_type": "display_data"
    },
    {
     "data": {
      "application/vnd.jupyter.widget-view+json": {
       "model_id": "9b3bde1b49ee4cf38d4836f85cb3cac2",
       "version_major": 2,
       "version_minor": 0
      },
      "text/plain": [
       "outer loop:   0%|          | 0/12 [00:00<?, ?it/s]"
      ]
     },
     "metadata": {},
     "output_type": "display_data"
    },
    {
     "data": {
      "application/vnd.jupyter.widget-view+json": {
       "model_id": "447fb4e4c6d54c46b66707b7a31222aa",
       "version_major": 2,
       "version_minor": 0
      },
      "text/plain": [
       "outer loop:   0%|          | 0/12 [00:00<?, ?it/s]"
      ]
     },
     "metadata": {},
     "output_type": "display_data"
    },
    {
     "data": {
      "application/vnd.jupyter.widget-view+json": {
       "model_id": "73ade67c86a0445b87ebfde597596675",
       "version_major": 2,
       "version_minor": 0
      },
      "text/plain": [
       "outer loop:   0%|          | 0/12 [00:00<?, ?it/s]"
      ]
     },
     "metadata": {},
     "output_type": "display_data"
    },
    {
     "data": {
      "application/vnd.jupyter.widget-view+json": {
       "model_id": "ba2d54e9228344d0a0ad0184db641db2",
       "version_major": 2,
       "version_minor": 0
      },
      "text/plain": [
       "sens:   0%|          | 0/2 [00:00<?, ?it/s]"
      ]
     },
     "metadata": {},
     "output_type": "display_data"
    },
    {
     "data": {
      "application/vnd.jupyter.widget-view+json": {
       "model_id": "ed306f68e70b41c08784e7c011c81916",
       "version_major": 2,
       "version_minor": 0
      },
      "text/plain": [
       "N:   0%|          | 0/52 [00:00<?, ?it/s]"
      ]
     },
     "metadata": {},
     "output_type": "display_data"
    },
    {
     "data": {
      "application/vnd.jupyter.widget-view+json": {
       "model_id": "91eeb50a4e374fcbb8b1efe6744efff9",
       "version_major": 2,
       "version_minor": 0
      },
      "text/plain": [
       "outer loop:   0%|          | 0/12 [00:00<?, ?it/s]"
      ]
     },
     "metadata": {},
     "output_type": "display_data"
    },
    {
     "data": {
      "application/vnd.jupyter.widget-view+json": {
       "model_id": "e52e5353652345669a443a11d87cef74",
       "version_major": 2,
       "version_minor": 0
      },
      "text/plain": [
       "outer loop:   0%|          | 0/12 [00:00<?, ?it/s]"
      ]
     },
     "metadata": {},
     "output_type": "display_data"
    },
    {
     "data": {
      "application/vnd.jupyter.widget-view+json": {
       "model_id": "b30fdf156647442f8dca12100abbbb67",
       "version_major": 2,
       "version_minor": 0
      },
      "text/plain": [
       "outer loop:   0%|          | 0/12 [00:00<?, ?it/s]"
      ]
     },
     "metadata": {},
     "output_type": "display_data"
    },
    {
     "data": {
      "application/vnd.jupyter.widget-view+json": {
       "model_id": "172e370e1daf40398cd7912860592bf1",
       "version_major": 2,
       "version_minor": 0
      },
      "text/plain": [
       "outer loop:   0%|          | 0/12 [00:00<?, ?it/s]"
      ]
     },
     "metadata": {},
     "output_type": "display_data"
    },
    {
     "data": {
      "application/vnd.jupyter.widget-view+json": {
       "model_id": "b5374bd12ba046f293f1524a16018cb3",
       "version_major": 2,
       "version_minor": 0
      },
      "text/plain": [
       "outer loop:   0%|          | 0/12 [00:00<?, ?it/s]"
      ]
     },
     "metadata": {},
     "output_type": "display_data"
    },
    {
     "data": {
      "application/vnd.jupyter.widget-view+json": {
       "model_id": "e39fdb33b5a64f26b031b0e45400ad50",
       "version_major": 2,
       "version_minor": 0
      },
      "text/plain": [
       "outer loop:   0%|          | 0/12 [00:00<?, ?it/s]"
      ]
     },
     "metadata": {},
     "output_type": "display_data"
    },
    {
     "data": {
      "application/vnd.jupyter.widget-view+json": {
       "model_id": "024b9ce867424c8381941559d94a56e1",
       "version_major": 2,
       "version_minor": 0
      },
      "text/plain": [
       "outer loop:   0%|          | 0/12 [00:00<?, ?it/s]"
      ]
     },
     "metadata": {},
     "output_type": "display_data"
    },
    {
     "data": {
      "application/vnd.jupyter.widget-view+json": {
       "model_id": "ecb35d36753a4b43be2bfab2092bd3f9",
       "version_major": 2,
       "version_minor": 0
      },
      "text/plain": [
       "outer loop:   0%|          | 0/12 [00:00<?, ?it/s]"
      ]
     },
     "metadata": {},
     "output_type": "display_data"
    },
    {
     "data": {
      "application/vnd.jupyter.widget-view+json": {
       "model_id": "207af0cd9a84432480d800fbccece5a8",
       "version_major": 2,
       "version_minor": 0
      },
      "text/plain": [
       "N:   0%|          | 0/52 [00:00<?, ?it/s]"
      ]
     },
     "metadata": {},
     "output_type": "display_data"
    },
    {
     "data": {
      "application/vnd.jupyter.widget-view+json": {
       "model_id": "02947b23b36940a585f633fe31c6c47e",
       "version_major": 2,
       "version_minor": 0
      },
      "text/plain": [
       "outer loop:   0%|          | 0/12 [00:00<?, ?it/s]"
      ]
     },
     "metadata": {},
     "output_type": "display_data"
    },
    {
     "data": {
      "application/vnd.jupyter.widget-view+json": {
       "model_id": "93d92aeaffe041c5bfd99ad909588061",
       "version_major": 2,
       "version_minor": 0
      },
      "text/plain": [
       "outer loop:   0%|          | 0/12 [00:00<?, ?it/s]"
      ]
     },
     "metadata": {},
     "output_type": "display_data"
    },
    {
     "data": {
      "application/vnd.jupyter.widget-view+json": {
       "model_id": "38cee6996c874fc0acd7eb05ef2ed484",
       "version_major": 2,
       "version_minor": 0
      },
      "text/plain": [
       "outer loop:   0%|          | 0/12 [00:00<?, ?it/s]"
      ]
     },
     "metadata": {},
     "output_type": "display_data"
    },
    {
     "data": {
      "application/vnd.jupyter.widget-view+json": {
       "model_id": "6065023d105a47d39bf027f240825e95",
       "version_major": 2,
       "version_minor": 0
      },
      "text/plain": [
       "outer loop:   0%|          | 0/12 [00:00<?, ?it/s]"
      ]
     },
     "metadata": {},
     "output_type": "display_data"
    },
    {
     "data": {
      "application/vnd.jupyter.widget-view+json": {
       "model_id": "cb58937be0d94e73ab5571f62cec265b",
       "version_major": 2,
       "version_minor": 0
      },
      "text/plain": [
       "outer loop:   0%|          | 0/12 [00:00<?, ?it/s]"
      ]
     },
     "metadata": {},
     "output_type": "display_data"
    },
    {
     "data": {
      "application/vnd.jupyter.widget-view+json": {
       "model_id": "95eef4e4ebdb4afeb1f735d01866a1e8",
       "version_major": 2,
       "version_minor": 0
      },
      "text/plain": [
       "outer loop:   0%|          | 0/12 [00:00<?, ?it/s]"
      ]
     },
     "metadata": {},
     "output_type": "display_data"
    },
    {
     "data": {
      "image/png": "[encoded data removed]",
      "text/plain": [
       "<Figure size 360x360 with 2 Axes>"
      ]
     },
     "metadata": {
      "needs_background": "light"
     },
     "output_type": "display_data"
    },
    {
     "name": "stdout",
     "output_type": "stream",
     "text": [
      "Time = 4416.036698102951\n"
     ]
    }
   ],
   "source": [
    "%reload_ext autoreload\n",
    "%autoreload 2\n",
    "np.warnings.filterwarnings('ignore', category=np.VisibleDeprecationWarning)   \n",
    "from weargroup import do_simple_case1_sim\n",
    "do_simple_case1_sim(clinTF=True)\n"
   ]
  },
  {
   "cell_type": "code",
   "execution_count": 26,
   "metadata": {},
   "outputs": [
    {
     "data": {
      "application/vnd.jupyter.widget-view+json": {
       "model_id": "55dfe4c0a36144009f67b53d8d5732be",
       "version_major": 2,
       "version_minor": 0
      },
      "text/plain": [
       "FAR:   0%|          | 0/2 [00:00<?, ?it/s]"
      ]
     },
     "metadata": {},
     "output_type": "display_data"
    },
    {
     "data": {
      "application/vnd.jupyter.widget-view+json": {
       "model_id": "694afe96624f4404a834e8c64a39851e",
       "version_major": 2,
       "version_minor": 0
      },
      "text/plain": [
       "sens:   0%|          | 0/2 [00:00<?, ?it/s]"
      ]
     },
     "metadata": {},
     "output_type": "display_data"
    },
    {
     "data": {
      "application/vnd.jupyter.widget-view+json": {
       "model_id": "8491b613a8794d5ab3329db9d8cc6bd1",
       "version_major": 2,
       "version_minor": 0
      },
      "text/plain": [
       "N:   0%|          | 0/52 [00:00<?, ?it/s]"
      ]
     },
     "metadata": {},
     "output_type": "display_data"
    }
   ],
   "source": [
    "%reload_ext autoreload\n",
    "%autoreload 2\n",
    "np.warnings.filterwarnings('ignore', category=np.VisibleDeprecationWarning)   \n",
    "from weargroup import do_simple_case1_sim\n",
    "do_simple_case1_sim(clinTF=False)"
   ]
  }
 ],
 "metadata": {
  "kernelspec": {
   "display_name": "Python 3.9.12 ('deep3g')",
   "language": "python",
   "name": "python3"
  },
  "language_info": {
   "codemirror_mode": {
    "name": "ipython",
    "version": 3
   },
   "file_extension": ".py",
   "mimetype": "text/x-python",
   "name": "python",
   "nbconvert_exporter": "python",
   "pygments_lexer": "ipython3",
   "version": "3.9.12"
  },
  "orig_nbformat": 4,
  "vscode": {
   "interpreter": {
    "hash": "515927336135dd8ee9affbbb9f9d747314abba0a3ac8600bed15b57f61c890b1"
   }
  }
 },
 "nbformat": 4,
 "nbformat_minor": 2
}
