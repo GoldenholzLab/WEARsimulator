{
 "cells": [
  {
   "cell_type": "code",
   "execution_count": 61,
   "metadata": {},
   "outputs": [
    {
     "name": "stdout",
     "output_type": "stream",
     "text": [
      "28.000414386455024\n"
     ]
    },
    {
     "data": {
      "image/png": "[encoded data removed]",
      "text/plain": [
       "<Figure size 432x288 with 1 Axes>"
      ]
     },
     "metadata": {
      "needs_background": "light"
     },
     "output_type": "display_data"
    }
   ],
   "source": [
    "import numpy as np\n",
    "import matplotlib.pyplot as plt\n",
    "N = 28\n",
    "FAR = 1\n",
    "inflater = 2\n",
    "k = FAR*inflater*np.random.rand(N,100000) - inflater/2\n",
    "#print(np.sum(k,axis=0))\n",
    "adder = N\n",
    "print( adder + np.mean(np.sum(k,axis=0)))\n",
    "x = plt.hist( adder + np.sum(k,axis=0),bins=100,density=True)"
   ]
  },
  {
   "cell_type": "code",
   "execution_count": 65,
   "metadata": {},
   "outputs": [
    {
     "data": {
      "text/plain": [
       "1.71"
      ]
     },
     "execution_count": 65,
     "metadata": {},
     "output_type": "execute_result"
    }
   ],
   "source": [
    "x = np.random.random(10000)>0.5 + 0.0\n",
    "x2 = np.convolve([1,1,1,1,1,1],x)\n",
    "100*np.sum(x2==6) / 10000"
   ]
  },
  {
   "cell_type": "code",
   "execution_count": 8,
   "metadata": {},
   "outputs": [
    {
     "name": "stdout",
     "output_type": "stream",
     "text": [
      "PC_sens0.1_FAR0_2000x800.npy\n"
     ]
    },
    {
     "data": {
      "application/vnd.jupyter.widget-view+json": {
       "model_id": "1b5aadba8f7c438eb6393bfa64ff1cc5",
       "version_major": 2,
       "version_minor": 0
      },
      "text/plain": [
       "trials:   0%|          | 0/2000 [00:00<?, ?it/s]"
      ]
     },
     "metadata": {},
     "output_type": "display_data"
    },
    {
     "name": "stdout",
     "output_type": "stream",
     "text": [
      "Calculating wins = 10.0 minutes\n",
      "Saving....\n",
      "Threshold ...640. runtime = 0.0 minutes\n",
      "Threshold ...590. runtime = 0.0 minutes\n",
      "   sensitivity  FAR  RR50  MPC\n",
      "0          0.1    0   640  590\n",
      "PC_sens1_FAR0_2000x800.npy\n"
     ]
    },
    {
     "data": {
      "application/vnd.jupyter.widget-view+json": {
       "model_id": "a915ceadaeee48bb950e89dc4b91db4d",
       "version_major": 2,
       "version_minor": 0
      },
      "text/plain": [
       "trials:   0%|          | 0/2000 [00:00<?, ?it/s]"
      ]
     },
     "metadata": {},
     "output_type": "display_data"
    },
    {
     "name": "stdout",
     "output_type": "stream",
     "text": [
      "Calculating wins = 2.0 minutes\n",
      "Saving....\n",
      "Threshold ...610. runtime = 0.0 minutes\n",
      "Threshold ...560. runtime = 0.0 minutes\n",
      "   sensitivity  FAR  RR50  MPC\n",
      "0            1    0   610  560\n",
      "   sensitivity  FAR  RR50  MPC\n",
      "0          0.1    0   640  590\n",
      "0          1.0    0   610  560\n"
     ]
    }
   ],
   "source": [
    "%reload_ext autoreload\n",
    "%autoreload 2\n",
    "import numpy as np\n",
    "from weargroup_v2 import buildSET_of_N\n",
    "\n",
    "buildSET_of_N([0.1,1],[0],recalc=True,numCPUs=7,thiscsv='deleteme.csv',clinTF=False,REPS=2000,maxN=800,DRG=0.3)\n"
   ]
  },
  {
   "cell_type": "code",
   "execution_count": 21,
   "metadata": {},
   "outputs": [
    {
     "name": "stdout",
     "output_type": "stream",
     "text": [
      "[[ 56.  57.  59.  53.  55.]\n",
      " [ 59.  93.  85.  86.  64.]\n",
      " [ 56.  50.  61.  55.  58.]\n",
      " [ 67.  59.  56.  69.  78.]\n",
      " [ 60.  54.  53.  56.  56.]\n",
      " [ 61.  59.  61.  50.  63.]\n",
      " [ 55.  62.  68.  60.  77.]\n",
      " [159. 242.  92. 193. 173.]\n",
      " [ 60.  59.  59.  65.  61.]\n",
      " [ 59.  53.  57.  58.  57.]]\n"
     ]
    }
   ],
   "source": [
    "%reload_ext autoreload\n",
    "%autoreload 2\n",
    "import numpy as np\n",
    "from weargroup_v2 import get_a_qualified_patient,applyDrug\n",
    "\n",
    "trialDur = 5\n",
    "minSz = 4\n",
    "baseline = 2\n",
    "clinTF = True\n",
    "sensitivity = 1\n",
    "FAR = 1\n",
    "PCB = 0\n",
    "DRG = 0.3\n",
    "N = 10\n",
    "halfN =5\n",
    " \n",
    "# build trial data (number of patients by number of months\n",
    "trialData = np.zeros((N,trialDur))\n",
    "for counter in range(N):\n",
    "    trialData[counter,:] = get_a_qualified_patient(minSz,baseline,trialDur,clinTF,sensitivity,FAR,PCB,DRG,(counter>=halfN))\n",
    "        \n",
    "print(trialData)"
   ]
  },
  {
   "cell_type": "code",
   "execution_count": 1,
   "metadata": {},
   "outputs": [
    {
     "data": {
      "application/vnd.jupyter.widget-view+json": {
       "model_id": "c41f138ca9974097a7cd986a5f0cc401",
       "version_major": 2,
       "version_minor": 0
      },
      "text/plain": [
       "trials:   0%|          | 0/10000 [00:00<?, ?it/s]"
      ]
     },
     "metadata": {},
     "output_type": "display_data"
    },
    {
     "name": "stdout",
     "output_type": "stream",
     "text": [
      "Calculating wins = 51.0 minutes\n",
      "Saving....\n",
      "Threshold ...1050. runtime = 0.0 minutes\n",
      "Threshold ...990. runtime = 1.0 minutes\n",
      "   sensitivity  FAR  RR50  MPC\n",
      "0          0.5    0  1050  990\n",
      "   sensitivity  FAR  RR50  MPC\n",
      "0          0.5    0  1050  990\n"
     ]
    }
   ],
   "source": [
    "%reload_ext autoreload\n",
    "%autoreload 2\n",
    "import numpy as np\n",
    "from weargroup_v2 import buildSET_of_N\n",
    "#/Users/dgodenh/OneDrive - Beth Israel Lahey Health/Comprehensive Epilepsy Program & EEG Lab/Research/Goldenholz Lab/wear\n",
    "#buildSET_of_N([0.1,1],[0,1],recalc=True,thiscsv='deletemeT.csv',clinTF=False,REPS=1000,maxN=600,DRG=0.3,mini=True)\n",
    "buildSET_of_N([0.5],[0],recalc=True,thiscsv='deletemeT.csv',clinTF=True,REPS=10000,maxN=1500,DRG=0.3,mini=True)"
   ]
  },
  {
   "cell_type": "code",
   "execution_count": 2,
   "metadata": {},
   "outputs": [
    {
     "data": {
      "application/vnd.jupyter.widget-view+json": {
       "model_id": "b7376c63707b4386b65eb1b035ff2154",
       "version_major": 2,
       "version_minor": 0
      },
      "text/plain": [
       "trials:   0%|          | 0/1000 [00:00<?, ?it/s]"
      ]
     },
     "metadata": {},
     "output_type": "display_data"
    },
    {
     "name": "stdout",
     "output_type": "stream",
     "text": [
      "Calculating wins = 4.0 minutes\n",
      "Saving....\n",
      "Threshold ...860. runtime = 0.0 minutes\n",
      "Threshold ...810. runtime = 0.0 minutes\n",
      "   sensitivity  FAR  RR50  MPC\n",
      "0          0.5    0   860  810\n",
      "   sensitivity  FAR  RR50  MPC\n",
      "0          0.5    0   860  810\n"
     ]
    }
   ],
   "source": [
    "%reload_ext autoreload\n",
    "%autoreload 2\n",
    "import numpy as np\n",
    "from weargroup_v2 import buildSET_of_N\n",
    "#/Users/dgodenh/OneDrive - Beth Israel Lahey Health/Comprehensive Epilepsy Program & EEG Lab/Research/Goldenholz Lab/wear\n",
    "#buildSET_of_N([0.1,1],[0,1],recalc=True,thiscsv='deletemeT.csv',clinTF=False,REPS=1000,maxN=600,DRG=0.3,mini=True)\n",
    "buildSET_of_N([0.5],[0],recalc=True,thiscsv='deletemeT.csv',clinTF=True,REPS=1000,maxN=1200,DRG=0.3,mini=True)"
   ]
  },
  {
   "cell_type": "code",
   "execution_count": 9,
   "metadata": {},
   "outputs": [
    {
     "data": {
      "text/plain": [
       "(array([  1.,   0.,   0.,   0.,   0.,   0.,   0.,   0.,   0.,   0.,   0.,\n",
       "          0.,   0.,   0.,   0.,   0.,   0.,   0.,   0.,   0.,   0.,   0.,\n",
       "          0.,   0.,   0.,   0.,   0.,   0.,   1.,   0.,   0.,   0.,   1.,\n",
       "          1.,   0.,   0.,   0.,   0.,   0.,   0.,   0.,   0.,   0.,   0.,\n",
       "          0.,   0.,   0.,   0.,   0.,   0.,   0.,   0.,   1.,   1.,   1.,\n",
       "          0.,   1.,   0.,   0.,   0.,   0.,   2.,   2.,   2.,   2.,   1.,\n",
       "          1.,   1.,   3.,   7.,   0.,   2.,   2.,   6.,   3.,   3.,   5.,\n",
       "          2.,   8.,   8.,   9.,  10.,  22.,  18.,  30.,  32.,  26.,  33.,\n",
       "         23.,  55.,  64.,  73.,  94., 100., 145., 177., 164., 173., 132.,\n",
       "         52.]),\n",
       " array([-1114.81481481, -1102.66666667, -1090.51851852, -1078.37037037,\n",
       "        -1066.22222222, -1054.07407407, -1041.92592593, -1029.77777778,\n",
       "        -1017.62962963, -1005.48148148,  -993.33333333,  -981.18518519,\n",
       "         -969.03703704,  -956.88888889,  -944.74074074,  -932.59259259,\n",
       "         -920.44444444,  -908.2962963 ,  -896.14814815,  -884.        ,\n",
       "         -871.85185185,  -859.7037037 ,  -847.55555556,  -835.40740741,\n",
       "         -823.25925926,  -811.11111111,  -798.96296296,  -786.81481481,\n",
       "         -774.66666667,  -762.51851852,  -750.37037037,  -738.22222222,\n",
       "         -726.07407407,  -713.92592593,  -701.77777778,  -689.62962963,\n",
       "         -677.48148148,  -665.33333333,  -653.18518519,  -641.03703704,\n",
       "         -628.88888889,  -616.74074074,  -604.59259259,  -592.44444444,\n",
       "         -580.2962963 ,  -568.14814815,  -556.        ,  -543.85185185,\n",
       "         -531.7037037 ,  -519.55555556,  -507.40740741,  -495.25925926,\n",
       "         -483.11111111,  -470.96296296,  -458.81481481,  -446.66666667,\n",
       "         -434.51851852,  -422.37037037,  -410.22222222,  -398.07407407,\n",
       "         -385.92592593,  -373.77777778,  -361.62962963,  -349.48148148,\n",
       "         -337.33333333,  -325.18518519,  -313.03703704,  -300.88888889,\n",
       "         -288.74074074,  -276.59259259,  -264.44444444,  -252.2962963 ,\n",
       "         -240.14814815,  -228.        ,  -215.85185185,  -203.7037037 ,\n",
       "         -191.55555556,  -179.40740741,  -167.25925926,  -155.11111111,\n",
       "         -142.96296296,  -130.81481481,  -118.66666667,  -106.51851852,\n",
       "          -94.37037037,   -82.22222222,   -70.07407407,   -57.92592593,\n",
       "          -45.77777778,   -33.62962963,   -21.48148148,    -9.33333333,\n",
       "            2.81481481,    14.96296296,    27.11111111,    39.25925926,\n",
       "           51.40740741,    63.55555556,    75.7037037 ,    87.85185185,\n",
       "          100.        ]),\n",
       " <BarContainer object of 100 artists>)"
      ]
     },
     "execution_count": 9,
     "metadata": {},
     "output_type": "execute_result"
    },
    {
     "data": {
      "image/png": "[encoded data removed]",
      "text/plain": [
       "<Figure size 432x288 with 1 Axes>"
      ]
     },
     "metadata": {
      "needs_background": "light"
     },
     "output_type": "display_data"
    }
   ],
   "source": [
    "import numpy as np\n",
    "import matplotlib.pyplot as plt\n",
    "thedir = '/Users/dgodenh/OneDrive - Beth Israel Lahey Health/Comprehensive Epilepsy Program & EEG Lab/Research/Goldenholz Lab/wear'\n",
    "fn=f'{thedir}/PC_True_sens0.5_FAR0_10000x1500.npy'\n",
    "PC = np.load(fn)\n",
    "X = plt.hist(PC[0,:],bins=100)"
   ]
  },
  {
   "cell_type": "code",
   "execution_count": 12,
   "metadata": {},
   "outputs": [
    {
     "data": {
      "application/vnd.jupyter.widget-view+json": {
       "model_id": "e6fd329369394ec3b171c908041fa5fc",
       "version_major": 2,
       "version_minor": 0
      },
      "text/plain": [
       "trials:   0%|          | 0/10000 [00:00<?, ?it/s]"
      ]
     },
     "metadata": {},
     "output_type": "display_data"
    },
    {
     "name": "stdout",
     "output_type": "stream",
     "text": [
      "Calculating wins = 44.0 minutes\n",
      "Saving....\n",
      "Threshold ...900. runtime = 0.0 minutes\n",
      "Threshold ...530. runtime = 0.0 minutes\n",
      "   sensitivity  FAR  RR50  MPC\n",
      "0          0.5    0   900  530\n",
      "   sensitivity  FAR  RR50  MPC\n",
      "0          0.5    0   900  530\n"
     ]
    }
   ],
   "source": [
    "%reload_ext autoreload\n",
    "%autoreload 2\n",
    "import numpy as np\n",
    "from weargroup_v2 import buildSET_of_N\n",
    "mini=True\n",
    "buildSET_of_N([.5],[0],recalc=True,thiscsv='bigRunObs.csv',clinTF=True,REPS=10000,maxN=1300,DRG=0.2,mini=mini)"
   ]
  },
  {
   "cell_type": "code",
   "execution_count": 13,
   "metadata": {},
   "outputs": [
    {
     "data": {
      "application/vnd.jupyter.widget-view+json": {
       "model_id": "3d58b6448ea242b7ac24210bef60eed1",
       "version_major": 2,
       "version_minor": 0
      },
      "text/plain": [
       "trials:   0%|          | 0/10000 [00:00<?, ?it/s]"
      ]
     },
     "metadata": {},
     "output_type": "display_data"
    },
    {
     "name": "stdout",
     "output_type": "stream",
     "text": [
      "Calculating wins = 24.0 minutes\n",
      "Saving....\n",
      "Threshold ...800. runtime = 0.0 minutes\n",
      "Threshold ...470. runtime = 0.0 minutes\n",
      "   sensitivity  FAR  RR50  MPC\n",
      "0          0.7    0   800  470\n"
     ]
    },
    {
     "data": {
      "application/vnd.jupyter.widget-view+json": {
       "model_id": "59d44ec755004f3dae9cc403255c1a92",
       "version_major": 2,
       "version_minor": 0
      },
      "text/plain": [
       "trials:   0%|          | 0/10000 [00:00<?, ?it/s]"
      ]
     },
     "metadata": {},
     "output_type": "display_data"
    },
    {
     "name": "stdout",
     "output_type": "stream",
     "text": [
      "Calculating wins = 17.0 minutes\n",
      "Saving....\n",
      "Threshold ...1390. runtime = 2.0 minutes\n",
      "Threshold ...710. runtime = 0.0 minutes\n",
      "   sensitivity  FAR  RR50  MPC\n",
      "0          0.7  0.5  1390  710\n"
     ]
    },
    {
     "data": {
      "application/vnd.jupyter.widget-view+json": {
       "model_id": "2925eb96a1904111ab0193127dd79f2e",
       "version_major": 2,
       "version_minor": 0
      },
      "text/plain": [
       "trials:   0%|          | 0/10000 [00:00<?, ?it/s]"
      ]
     },
     "metadata": {},
     "output_type": "display_data"
    },
    {
     "name": "stdout",
     "output_type": "stream",
     "text": [
      "Calculating wins = 17.0 minutes\n",
      "Saving....\n",
      "Threshold ...1390. runtime = 2.0 minutes\n",
      "Threshold ...780. runtime = 0.0 minutes\n",
      "   sensitivity  FAR  RR50  MPC\n",
      "0          0.7    1  1390  780\n"
     ]
    },
    {
     "data": {
      "application/vnd.jupyter.widget-view+json": {
       "model_id": "f42526b153ab46fe8d839a0dcb15d99a",
       "version_major": 2,
       "version_minor": 0
      },
      "text/plain": [
       "trials:   0%|          | 0/10000 [00:00<?, ?it/s]"
      ]
     },
     "metadata": {},
     "output_type": "display_data"
    },
    {
     "name": "stdout",
     "output_type": "stream",
     "text": [
      "Calculating wins = 17.0 minutes\n",
      "Saving....\n",
      "Threshold ...1390. runtime = 1.0 minutes\n",
      "Threshold ...980. runtime = 1.0 minutes\n",
      "   sensitivity  FAR  RR50  MPC\n",
      "0          0.7    2  1390  980\n"
     ]
    },
    {
     "data": {
      "application/vnd.jupyter.widget-view+json": {
       "model_id": "61b3270996934becb9b4cbf7157431ce",
       "version_major": 2,
       "version_minor": 0
      },
      "text/plain": [
       "trials:   0%|          | 0/10000 [00:00<?, ?it/s]"
      ]
     },
     "metadata": {},
     "output_type": "display_data"
    },
    {
     "name": "stdout",
     "output_type": "stream",
     "text": [
      "Calculating wins = 22.0 minutes\n",
      "Saving....\n",
      "Threshold ...790. runtime = 0.0 minutes\n",
      "Threshold ...450. runtime = 0.0 minutes\n",
      "   sensitivity  FAR  RR50  MPC\n",
      "0          0.8    0   790  450\n"
     ]
    },
    {
     "data": {
      "application/vnd.jupyter.widget-view+json": {
       "model_id": "73f652e92c484263aec6f03d837268ec",
       "version_major": 2,
       "version_minor": 0
      },
      "text/plain": [
       "trials:   0%|          | 0/10000 [00:00<?, ?it/s]"
      ]
     },
     "metadata": {},
     "output_type": "display_data"
    },
    {
     "name": "stdout",
     "output_type": "stream",
     "text": [
      "Calculating wins = 17.0 minutes\n",
      "Saving....\n",
      "Threshold ...1390. runtime = 1.0 minutes\n",
      "Threshold ...680. runtime = 0.0 minutes\n",
      "   sensitivity  FAR  RR50  MPC\n",
      "0          0.8  0.5  1390  680\n"
     ]
    },
    {
     "data": {
      "application/vnd.jupyter.widget-view+json": {
       "model_id": "bc5c50c504c64dd9bf37eaaaf288eebd",
       "version_major": 2,
       "version_minor": 0
      },
      "text/plain": [
       "trials:   0%|          | 0/10000 [00:00<?, ?it/s]"
      ]
     },
     "metadata": {},
     "output_type": "display_data"
    },
    {
     "name": "stdout",
     "output_type": "stream",
     "text": [
      "Calculating wins = 17.0 minutes\n",
      "Saving....\n",
      "Threshold ...1390. runtime = 2.0 minutes\n",
      "Threshold ...750. runtime = 0.0 minutes\n",
      "   sensitivity  FAR  RR50  MPC\n",
      "0          0.8    1  1390  750\n"
     ]
    },
    {
     "data": {
      "application/vnd.jupyter.widget-view+json": {
       "model_id": "b598ce52c6824c75a2dded1e2c41b776",
       "version_major": 2,
       "version_minor": 0
      },
      "text/plain": [
       "trials:   0%|          | 0/10000 [00:00<?, ?it/s]"
      ]
     },
     "metadata": {},
     "output_type": "display_data"
    },
    {
     "name": "stdout",
     "output_type": "stream",
     "text": [
      "Calculating wins = 17.0 minutes\n",
      "Saving....\n",
      "Threshold ...1390. runtime = 2.0 minutes\n",
      "Threshold ...900. runtime = 1.0 minutes\n",
      "   sensitivity  FAR  RR50  MPC\n",
      "0          0.8    2  1390  900\n"
     ]
    },
    {
     "data": {
      "application/vnd.jupyter.widget-view+json": {
       "model_id": "684e99db6d8b494e95d5d050596875b7",
       "version_major": 2,
       "version_minor": 0
      },
      "text/plain": [
       "trials:   0%|          | 0/10000 [00:00<?, ?it/s]"
      ]
     },
     "metadata": {},
     "output_type": "display_data"
    },
    {
     "name": "stdout",
     "output_type": "stream",
     "text": [
      "Calculating wins = 21.0 minutes\n",
      "Saving....\n",
      "Threshold ...800. runtime = 0.0 minutes\n",
      "Threshold ...440. runtime = 0.0 minutes\n",
      "   sensitivity  FAR  RR50  MPC\n",
      "0          0.9    0   800  440\n"
     ]
    },
    {
     "data": {
      "application/vnd.jupyter.widget-view+json": {
       "model_id": "90c7061059f9407580ebe143f505bc62",
       "version_major": 2,
       "version_minor": 0
      },
      "text/plain": [
       "trials:   0%|          | 0/10000 [00:00<?, ?it/s]"
      ]
     },
     "metadata": {},
     "output_type": "display_data"
    },
    {
     "name": "stdout",
     "output_type": "stream",
     "text": [
      "Calculating wins = 17.0 minutes\n",
      "Saving....\n",
      "Threshold ...1390. runtime = 1.0 minutes\n",
      "Threshold ...660. runtime = 0.0 minutes\n",
      "   sensitivity  FAR  RR50  MPC\n",
      "0          0.9  0.5  1390  660\n"
     ]
    },
    {
     "data": {
      "application/vnd.jupyter.widget-view+json": {
       "model_id": "37f7a7cfedd54b938077df1280629544",
       "version_major": 2,
       "version_minor": 0
      },
      "text/plain": [
       "trials:   0%|          | 0/10000 [00:00<?, ?it/s]"
      ]
     },
     "metadata": {},
     "output_type": "display_data"
    },
    {
     "name": "stdout",
     "output_type": "stream",
     "text": [
      "Calculating wins = 17.0 minutes\n",
      "Saving....\n",
      "Threshold ...1390. runtime = 1.0 minutes\n",
      "Threshold ...690. runtime = 0.0 minutes\n",
      "   sensitivity  FAR  RR50  MPC\n",
      "0          0.9    1  1390  690\n"
     ]
    },
    {
     "data": {
      "application/vnd.jupyter.widget-view+json": {
       "model_id": "3ebcd8be73984f03bbe7ccfa4a6fd626",
       "version_major": 2,
       "version_minor": 0
      },
      "text/plain": [
       "trials:   0%|          | 0/10000 [00:00<?, ?it/s]"
      ]
     },
     "metadata": {},
     "output_type": "display_data"
    },
    {
     "name": "stdout",
     "output_type": "stream",
     "text": [
      "Calculating wins = 17.0 minutes\n",
      "Saving....\n",
      "Threshold ...1390. runtime = 2.0 minutes\n",
      "Threshold ...860. runtime = 1.0 minutes\n",
      "   sensitivity  FAR  RR50  MPC\n",
      "0          0.9    2  1390  860\n"
     ]
    },
    {
     "data": {
      "application/vnd.jupyter.widget-view+json": {
       "model_id": "3d72e27fd2a44d0ab9479a50122a8d7d",
       "version_major": 2,
       "version_minor": 0
      },
      "text/plain": [
       "trials:   0%|          | 0/10000 [00:00<?, ?it/s]"
      ]
     },
     "metadata": {},
     "output_type": "display_data"
    },
    {
     "name": "stdout",
     "output_type": "stream",
     "text": [
      "Calculating wins = 19.0 minutes\n",
      "Saving....\n",
      "Threshold ...810. runtime = 0.0 minutes\n",
      "Threshold ...430. runtime = 0.0 minutes\n",
      "   sensitivity  FAR  RR50  MPC\n",
      "0            1    0   810  430\n"
     ]
    },
    {
     "data": {
      "application/vnd.jupyter.widget-view+json": {
       "model_id": "4b95c1f45bb74388903a4e8a64ce13cb",
       "version_major": 2,
       "version_minor": 0
      },
      "text/plain": [
       "trials:   0%|          | 0/10000 [00:00<?, ?it/s]"
      ]
     },
     "metadata": {},
     "output_type": "display_data"
    },
    {
     "name": "stdout",
     "output_type": "stream",
     "text": [
      "Calculating wins = 16.0 minutes\n",
      "Saving....\n",
      "Threshold ...1390. runtime = 1.0 minutes\n",
      "Threshold ...630. runtime = 0.0 minutes\n",
      "   sensitivity  FAR  RR50  MPC\n",
      "0            1  0.5  1390  630\n"
     ]
    },
    {
     "data": {
      "application/vnd.jupyter.widget-view+json": {
       "model_id": "cd633d74237b43a28dcb1459ffe8a2c6",
       "version_major": 2,
       "version_minor": 0
      },
      "text/plain": [
       "trials:   0%|          | 0/10000 [00:00<?, ?it/s]"
      ]
     },
     "metadata": {},
     "output_type": "display_data"
    },
    {
     "name": "stdout",
     "output_type": "stream",
     "text": [
      "Calculating wins = 16.0 minutes\n",
      "Saving....\n",
      "Threshold ...1390. runtime = 1.0 minutes\n",
      "Threshold ...700. runtime = 0.0 minutes\n",
      "   sensitivity  FAR  RR50  MPC\n",
      "0            1    1  1390  700\n"
     ]
    },
    {
     "data": {
      "application/vnd.jupyter.widget-view+json": {
       "model_id": "249b6af96a6a4be7852faab5e423b77c",
       "version_major": 2,
       "version_minor": 0
      },
      "text/plain": [
       "trials:   0%|          | 0/10000 [00:00<?, ?it/s]"
      ]
     },
     "metadata": {},
     "output_type": "display_data"
    },
    {
     "name": "stdout",
     "output_type": "stream",
     "text": [
      "Calculating wins = 16.0 minutes\n",
      "Saving....\n",
      "Threshold ...1390. runtime = 2.0 minutes\n",
      "Threshold ...830. runtime = 0.0 minutes\n",
      "   sensitivity  FAR  RR50  MPC\n",
      "0            1    2  1390  830\n",
      "   sensitivity  FAR  RR50  MPC\n",
      "0          0.7  0.0   800  470\n",
      "0          0.7  0.5  1390  710\n",
      "0          0.7  1.0  1390  780\n",
      "0          0.7  2.0  1390  980\n",
      "0          0.8  0.0   790  450\n",
      "0          0.8  0.5  1390  680\n",
      "0          0.8  1.0  1390  750\n",
      "0          0.8  2.0  1390  900\n",
      "0          0.9  0.0   800  440\n",
      "0          0.9  0.5  1390  660\n",
      "0          0.9  1.0  1390  690\n",
      "0          0.9  2.0  1390  860\n",
      "0          1.0  0.0   810  430\n",
      "0          1.0  0.5  1390  630\n",
      "0          1.0  1.0  1390  700\n",
      "0          1.0  2.0  1390  830\n",
      "Unexpected exception formatting exception. Falling back to standard exception\n"
     ]
    },
    {
     "name": "stderr",
     "output_type": "stream",
     "text": [
      "Traceback (most recent call last):\n",
      "  File \"/Users/dgodenh/miniforge3/lib/python3.9/site-packages/IPython/core/interactiveshell.py\", line 3397, in run_code\n",
      "    exec(code_obj, self.user_global_ns, self.user_ns)\n",
      "  File \"/var/folders/77/zdc9pq3s0379kpznx2yx69c40000gr/T/ipykernel_93711/2732760994.py\", line 7, in <cell line: 7>\n",
      "    buildSET_of_N([.7,.8,.9,1],[0,.5,1,2],recalc=True,thiscsv='bigRunEWearInf1.csv',clinTF=False,REPS=10000,maxN=1400,DRG=0.2,mini=mini,inflater=1)\n",
      "  File \"/Users/dgodenh/Documents/GitHub/WEARsimulator/weargroup_v2.py\", line 185, in buildSET_of_N\n",
      "TypeError: 'str' object cannot be interpreted as an integer\n",
      "\n",
      "During handling of the above exception, another exception occurred:\n",
      "\n",
      "Traceback (most recent call last):\n",
      "  File \"/Users/dgodenh/miniforge3/lib/python3.9/site-packages/IPython/core/interactiveshell.py\", line 1992, in showtraceback\n",
      "    stb = self.InteractiveTB.structured_traceback(\n",
      "  File \"/Users/dgodenh/miniforge3/lib/python3.9/site-packages/IPython/core/ultratb.py\", line 1118, in structured_traceback\n",
      "    return FormattedTB.structured_traceback(\n",
      "  File \"/Users/dgodenh/miniforge3/lib/python3.9/site-packages/IPython/core/ultratb.py\", line 1012, in structured_traceback\n",
      "    return VerboseTB.structured_traceback(\n",
      "  File \"/Users/dgodenh/miniforge3/lib/python3.9/site-packages/IPython/core/ultratb.py\", line 865, in structured_traceback\n",
      "    formatted_exception = self.format_exception_as_a_whole(etype, evalue, etb, number_of_lines_of_context,\n",
      "  File \"/Users/dgodenh/miniforge3/lib/python3.9/site-packages/IPython/core/ultratb.py\", line 818, in format_exception_as_a_whole\n",
      "    frames.append(self.format_record(r))\n",
      "  File \"/Users/dgodenh/miniforge3/lib/python3.9/site-packages/IPython/core/ultratb.py\", line 736, in format_record\n",
      "    result += ''.join(_format_traceback_lines(frame_info.lines, Colors, self.has_colors, lvals))\n",
      "  File \"/Users/dgodenh/miniforge3/lib/python3.9/site-packages/stack_data/utils.py\", line 145, in cached_property_wrapper\n",
      "    value = obj.__dict__[self.func.__name__] = self.func(obj)\n",
      "  File \"/Users/dgodenh/miniforge3/lib/python3.9/site-packages/stack_data/core.py\", line 698, in lines\n",
      "    pieces = self.included_pieces\n",
      "  File \"/Users/dgodenh/miniforge3/lib/python3.9/site-packages/stack_data/utils.py\", line 145, in cached_property_wrapper\n",
      "    value = obj.__dict__[self.func.__name__] = self.func(obj)\n",
      "  File \"/Users/dgodenh/miniforge3/lib/python3.9/site-packages/stack_data/core.py\", line 649, in included_pieces\n",
      "    pos = scope_pieces.index(self.executing_piece)\n",
      "  File \"/Users/dgodenh/miniforge3/lib/python3.9/site-packages/stack_data/utils.py\", line 145, in cached_property_wrapper\n",
      "    value = obj.__dict__[self.func.__name__] = self.func(obj)\n",
      "  File \"/Users/dgodenh/miniforge3/lib/python3.9/site-packages/stack_data/core.py\", line 628, in executing_piece\n",
      "    return only(\n",
      "  File \"/Users/dgodenh/miniforge3/lib/python3.9/site-packages/executing/executing.py\", line 164, in only\n",
      "    raise NotOneValueFound('Expected one value, found 0')\n",
      "executing.executing.NotOneValueFound: Expected one value, found 0\n"
     ]
    },
    {
     "data": {
      "image/png": "[encoded data removed]",
      "text/plain": [
       "<Figure size 720x360 with 2 Axes>"
      ]
     },
     "metadata": {
      "needs_background": "light"
     },
     "output_type": "display_data"
    }
   ],
   "source": [
    "%reload_ext autoreload\n",
    "%autoreload 2\n",
    "import numpy as np\n",
    "from weargroup_v2 import buildSET_of_N\n",
    "mini=True\n",
    "#buildSET_of_N([.7,.8,.9,1],[0,.5,1,2],recalc=True,thiscsv='bigRunClinWearInf1.csv',clinTF=True,REPS=10000,maxN=1400,DRG=0.2,mini=mini,inflater=1)\n",
    "buildSET_of_N([.7,.8,.9,1],[0,.5,1,2],recalc=True,thiscsv='bigRunEWearInf1.csv',clinTF=False,REPS=10000,maxN=1400,DRG=0.2,mini=mini,inflater=1)\n"
   ]
  },
  {
   "cell_type": "code",
   "execution_count": 14,
   "metadata": {},
   "outputs": [
    {
     "data": {
      "application/vnd.jupyter.widget-view+json": {
       "model_id": "04b3d3bf344d438e80ddefe64bd72753",
       "version_major": 2,
       "version_minor": 0
      },
      "text/plain": [
       "trials:   0%|          | 0/10000 [00:00<?, ?it/s]"
      ]
     },
     "metadata": {},
     "output_type": "display_data"
    },
    {
     "name": "stdout",
     "output_type": "stream",
     "text": [
      "Calculating wins = 25.0 minutes\n",
      "Saving....\n",
      "Threshold ...810. runtime = 0.0 minutes\n",
      "Threshold ...470. runtime = 0.0 minutes\n",
      "   sensitivity  FAR  RR50  MPC\n",
      "0          0.7    0   810  470\n"
     ]
    },
    {
     "data": {
      "application/vnd.jupyter.widget-view+json": {
       "model_id": "d6426d3adcb744b1ac61e7746881eac6",
       "version_major": 2,
       "version_minor": 0
      },
      "text/plain": [
       "trials:   0%|          | 0/10000 [00:00<?, ?it/s]"
      ]
     },
     "metadata": {},
     "output_type": "display_data"
    },
    {
     "name": "stdout",
     "output_type": "stream",
     "text": [
      "Calculating wins = 27.0 minutes\n",
      "Saving....\n",
      "Threshold ...850. runtime = 0.0 minutes\n",
      "Threshold ...480. runtime = 0.0 minutes\n",
      "   sensitivity  FAR  RR50  MPC\n",
      "0          0.7  0.5   850  480\n"
     ]
    },
    {
     "data": {
      "application/vnd.jupyter.widget-view+json": {
       "model_id": "282931cc7698448ea34d48b72ac10473",
       "version_major": 2,
       "version_minor": 0
      },
      "text/plain": [
       "trials:   0%|          | 0/10000 [00:00<?, ?it/s]"
      ]
     },
     "metadata": {},
     "output_type": "display_data"
    },
    {
     "name": "stdout",
     "output_type": "stream",
     "text": [
      "Calculating wins = 26.0 minutes\n",
      "Saving....\n",
      "Threshold ...910. runtime = 0.0 minutes\n",
      "Threshold ...490. runtime = 0.0 minutes\n",
      "   sensitivity  FAR  RR50  MPC\n",
      "0          0.7    1   910  490\n"
     ]
    },
    {
     "data": {
      "application/vnd.jupyter.widget-view+json": {
       "model_id": "a3d13b2d9efb471aa45fca282475b61e",
       "version_major": 2,
       "version_minor": 0
      },
      "text/plain": [
       "trials:   0%|          | 0/10000 [00:00<?, ?it/s]"
      ]
     },
     "metadata": {},
     "output_type": "display_data"
    },
    {
     "name": "stdout",
     "output_type": "stream",
     "text": [
      "Calculating wins = 24.0 minutes\n",
      "Saving....\n",
      "Threshold ...1050. runtime = 1.0 minutes\n",
      "Threshold ...550. runtime = 0.0 minutes\n",
      "   sensitivity  FAR  RR50  MPC\n",
      "0          0.7    2  1050  550\n"
     ]
    },
    {
     "data": {
      "application/vnd.jupyter.widget-view+json": {
       "model_id": "5bfe0c4317c448beb65f705d68b7fd31",
       "version_major": 2,
       "version_minor": 0
      },
      "text/plain": [
       "trials:   0%|          | 0/10000 [00:00<?, ?it/s]"
      ]
     },
     "metadata": {},
     "output_type": "display_data"
    },
    {
     "name": "stdout",
     "output_type": "stream",
     "text": [
      "Calculating wins = 23.0 minutes\n",
      "Saving....\n",
      "Threshold ...810. runtime = 0.0 minutes\n",
      "Threshold ...450. runtime = 0.0 minutes\n",
      "   sensitivity  FAR  RR50  MPC\n",
      "0          0.8    0   810  450\n"
     ]
    },
    {
     "data": {
      "application/vnd.jupyter.widget-view+json": {
       "model_id": "bfc6910ad891485c93b20323b90f54f4",
       "version_major": 2,
       "version_minor": 0
      },
      "text/plain": [
       "trials:   0%|          | 0/10000 [00:00<?, ?it/s]"
      ]
     },
     "metadata": {},
     "output_type": "display_data"
    },
    {
     "name": "stdout",
     "output_type": "stream",
     "text": [
      "Calculating wins = 25.0 minutes\n",
      "Saving....\n",
      "Threshold ...860. runtime = 0.0 minutes\n",
      "Threshold ...460. runtime = 0.0 minutes\n",
      "   sensitivity  FAR  RR50  MPC\n",
      "0          0.8  0.5   860  460\n"
     ]
    },
    {
     "data": {
      "application/vnd.jupyter.widget-view+json": {
       "model_id": "c035b996f9594325ad62e7dcd3956306",
       "version_major": 2,
       "version_minor": 0
      },
      "text/plain": [
       "trials:   0%|          | 0/10000 [00:00<?, ?it/s]"
      ]
     },
     "metadata": {},
     "output_type": "display_data"
    },
    {
     "name": "stdout",
     "output_type": "stream",
     "text": [
      "Calculating wins = 25.0 minutes\n",
      "Saving....\n",
      "Threshold ...900. runtime = 0.0 minutes\n",
      "Threshold ...470. runtime = 0.0 minutes\n",
      "   sensitivity  FAR  RR50  MPC\n",
      "0          0.8    1   900  470\n"
     ]
    },
    {
     "data": {
      "application/vnd.jupyter.widget-view+json": {
       "model_id": "f3d6fd0093c7467b89763b3015a2c074",
       "version_major": 2,
       "version_minor": 0
      },
      "text/plain": [
       "trials:   0%|          | 0/10000 [00:00<?, ?it/s]"
      ]
     },
     "metadata": {},
     "output_type": "display_data"
    },
    {
     "name": "stdout",
     "output_type": "stream",
     "text": [
      "Calculating wins = 23.0 minutes\n",
      "Saving....\n",
      "Threshold ...1070. runtime = 1.0 minutes\n",
      "Threshold ...540. runtime = 0.0 minutes\n",
      "   sensitivity  FAR  RR50  MPC\n",
      "0          0.8    2  1070  540\n"
     ]
    },
    {
     "data": {
      "application/vnd.jupyter.widget-view+json": {
       "model_id": "976271eee6294d9eb352b5eefae79117",
       "version_major": 2,
       "version_minor": 0
      },
      "text/plain": [
       "trials:   0%|          | 0/10000 [00:00<?, ?it/s]"
      ]
     },
     "metadata": {},
     "output_type": "display_data"
    },
    {
     "name": "stdout",
     "output_type": "stream",
     "text": [
      "Calculating wins = 23.0 minutes\n",
      "Saving....\n",
      "Threshold ...820. runtime = 0.0 minutes\n",
      "Threshold ...440. runtime = 0.0 minutes\n",
      "   sensitivity  FAR  RR50  MPC\n",
      "0          0.9    0   820  440\n"
     ]
    },
    {
     "data": {
      "application/vnd.jupyter.widget-view+json": {
       "model_id": "992d3de0f3f44a27a33cbe8084ae350d",
       "version_major": 2,
       "version_minor": 0
      },
      "text/plain": [
       "trials:   0%|          | 0/10000 [00:00<?, ?it/s]"
      ]
     },
     "metadata": {},
     "output_type": "display_data"
    },
    {
     "name": "stdout",
     "output_type": "stream",
     "text": [
      "Calculating wins = 24.0 minutes\n",
      "Saving....\n",
      "Threshold ...860. runtime = 0.0 minutes\n",
      "Threshold ...450. runtime = 0.0 minutes\n",
      "   sensitivity  FAR  RR50  MPC\n",
      "0          0.9  0.5   860  450\n"
     ]
    },
    {
     "data": {
      "application/vnd.jupyter.widget-view+json": {
       "model_id": "f25d5b097286482499cd53ba3e5fa9d4",
       "version_major": 2,
       "version_minor": 0
      },
      "text/plain": [
       "trials:   0%|          | 0/10000 [00:00<?, ?it/s]"
      ]
     },
     "metadata": {},
     "output_type": "display_data"
    },
    {
     "name": "stdout",
     "output_type": "stream",
     "text": [
      "Calculating wins = 24.0 minutes\n",
      "Saving....\n",
      "Threshold ...910. runtime = 0.0 minutes\n",
      "Threshold ...470. runtime = 0.0 minutes\n",
      "   sensitivity  FAR  RR50  MPC\n",
      "0          0.9    1   910  470\n"
     ]
    },
    {
     "data": {
      "application/vnd.jupyter.widget-view+json": {
       "model_id": "9ebb19af7b9e46c8b46d815f5b0e8fa4",
       "version_major": 2,
       "version_minor": 0
      },
      "text/plain": [
       "trials:   0%|          | 0/10000 [00:00<?, ?it/s]"
      ]
     },
     "metadata": {},
     "output_type": "display_data"
    },
    {
     "name": "stdout",
     "output_type": "stream",
     "text": [
      "Calculating wins = 23.0 minutes\n",
      "Saving....\n",
      "Threshold ...1040. runtime = 1.0 minutes\n",
      "Threshold ...520. runtime = 0.0 minutes\n",
      "   sensitivity  FAR  RR50  MPC\n",
      "0          0.9    2  1040  520\n"
     ]
    },
    {
     "data": {
      "application/vnd.jupyter.widget-view+json": {
       "model_id": "c6e8864d39b0470bb25f855136118bce",
       "version_major": 2,
       "version_minor": 0
      },
      "text/plain": [
       "trials:   0%|          | 0/10000 [00:00<?, ?it/s]"
      ]
     },
     "metadata": {},
     "output_type": "display_data"
    },
    {
     "name": "stdout",
     "output_type": "stream",
     "text": [
      "Calculating wins = 21.0 minutes\n",
      "Saving....\n",
      "Threshold ...800. runtime = 0.0 minutes\n",
      "Threshold ...430. runtime = 0.0 minutes\n",
      "   sensitivity  FAR  RR50  MPC\n",
      "0            1    0   800  430\n"
     ]
    },
    {
     "data": {
      "application/vnd.jupyter.widget-view+json": {
       "model_id": "d2ab1b34ce9e42179995fd11d7898cf9",
       "version_major": 2,
       "version_minor": 0
      },
      "text/plain": [
       "trials:   0%|          | 0/10000 [00:00<?, ?it/s]"
      ]
     },
     "metadata": {},
     "output_type": "display_data"
    },
    {
     "name": "stdout",
     "output_type": "stream",
     "text": [
      "Calculating wins = 23.0 minutes\n",
      "Saving....\n",
      "Threshold ...850. runtime = 0.0 minutes\n",
      "Threshold ...430. runtime = 0.0 minutes\n",
      "   sensitivity  FAR  RR50  MPC\n",
      "0            1  0.5   850  430\n"
     ]
    },
    {
     "data": {
      "application/vnd.jupyter.widget-view+json": {
       "model_id": "f02397d3b0fd4edeab468abfac7e2326",
       "version_major": 2,
       "version_minor": 0
      },
      "text/plain": [
       "trials:   0%|          | 0/10000 [00:00<?, ?it/s]"
      ]
     },
     "metadata": {},
     "output_type": "display_data"
    },
    {
     "name": "stdout",
     "output_type": "stream",
     "text": [
      "Calculating wins = 22.0 minutes\n",
      "Saving....\n",
      "Threshold ...910. runtime = 0.0 minutes\n",
      "Threshold ...460. runtime = 0.0 minutes\n",
      "   sensitivity  FAR  RR50  MPC\n",
      "0            1    1   910  460\n"
     ]
    },
    {
     "data": {
      "application/vnd.jupyter.widget-view+json": {
       "model_id": "9912238ccf604d038d14d07e58fbdb03",
       "version_major": 2,
       "version_minor": 0
      },
      "text/plain": [
       "trials:   0%|          | 0/10000 [00:00<?, ?it/s]"
      ]
     },
     "metadata": {},
     "output_type": "display_data"
    },
    {
     "name": "stdout",
     "output_type": "stream",
     "text": [
      "Calculating wins = 21.0 minutes\n",
      "Saving....\n",
      "Threshold ...1040. runtime = 1.0 minutes\n",
      "Threshold ...510. runtime = 0.0 minutes\n",
      "   sensitivity  FAR  RR50  MPC\n",
      "0            1    2  1040  510\n",
      "   sensitivity  FAR  RR50  MPC\n",
      "0          0.7  0.0   810  470\n",
      "0          0.7  0.5   850  480\n",
      "0          0.7  1.0   910  490\n",
      "0          0.7  2.0  1050  550\n",
      "0          0.8  0.0   810  450\n",
      "0          0.8  0.5   860  460\n",
      "0          0.8  1.0   900  470\n",
      "0          0.8  2.0  1070  540\n",
      "0          0.9  0.0   820  440\n",
      "0          0.9  0.5   860  450\n",
      "0          0.9  1.0   910  470\n",
      "0          0.9  2.0  1040  520\n",
      "0          1.0  0.0   800  430\n",
      "0          1.0  0.5   850  430\n",
      "0          1.0  1.0   910  460\n",
      "0          1.0  2.0  1040  510\n",
      "Unexpected exception formatting exception. Falling back to standard exception\n"
     ]
    },
    {
     "name": "stderr",
     "output_type": "stream",
     "text": [
      "Traceback (most recent call last):\n",
      "  File \"/Users/dgodenh/miniforge3/lib/python3.9/site-packages/IPython/core/interactiveshell.py\", line 3397, in run_code\n",
      "    exec(code_obj, self.user_global_ns, self.user_ns)\n",
      "  File \"/var/folders/77/zdc9pq3s0379kpznx2yx69c40000gr/T/ipykernel_93711/2035252761.py\", line 8, in <cell line: 8>\n",
      "    drawGrid(fn)\n",
      "  File \"/Users/dgodenh/Documents/GitHub/WEARsimulator/weargroup_v2.py\", line 194, in drawGrid\n",
      "    ax[mi].set_title(f'Power Metric={metric_type} clinTF={clinTF}')\n",
      "NameError: name 'clinTF' is not defined\n",
      "\n",
      "During handling of the above exception, another exception occurred:\n",
      "\n",
      "Traceback (most recent call last):\n",
      "  File \"/Users/dgodenh/miniforge3/lib/python3.9/site-packages/IPython/core/interactiveshell.py\", line 1992, in showtraceback\n",
      "    stb = self.InteractiveTB.structured_traceback(\n",
      "  File \"/Users/dgodenh/miniforge3/lib/python3.9/site-packages/IPython/core/ultratb.py\", line 1118, in structured_traceback\n",
      "    return FormattedTB.structured_traceback(\n",
      "  File \"/Users/dgodenh/miniforge3/lib/python3.9/site-packages/IPython/core/ultratb.py\", line 1012, in structured_traceback\n",
      "    return VerboseTB.structured_traceback(\n",
      "  File \"/Users/dgodenh/miniforge3/lib/python3.9/site-packages/IPython/core/ultratb.py\", line 865, in structured_traceback\n",
      "    formatted_exception = self.format_exception_as_a_whole(etype, evalue, etb, number_of_lines_of_context,\n",
      "  File \"/Users/dgodenh/miniforge3/lib/python3.9/site-packages/IPython/core/ultratb.py\", line 818, in format_exception_as_a_whole\n",
      "    frames.append(self.format_record(r))\n",
      "  File \"/Users/dgodenh/miniforge3/lib/python3.9/site-packages/IPython/core/ultratb.py\", line 736, in format_record\n",
      "    result += ''.join(_format_traceback_lines(frame_info.lines, Colors, self.has_colors, lvals))\n",
      "  File \"/Users/dgodenh/miniforge3/lib/python3.9/site-packages/stack_data/utils.py\", line 145, in cached_property_wrapper\n",
      "    value = obj.__dict__[self.func.__name__] = self.func(obj)\n",
      "  File \"/Users/dgodenh/miniforge3/lib/python3.9/site-packages/stack_data/core.py\", line 698, in lines\n",
      "    pieces = self.included_pieces\n",
      "  File \"/Users/dgodenh/miniforge3/lib/python3.9/site-packages/stack_data/utils.py\", line 145, in cached_property_wrapper\n",
      "    value = obj.__dict__[self.func.__name__] = self.func(obj)\n",
      "  File \"/Users/dgodenh/miniforge3/lib/python3.9/site-packages/stack_data/core.py\", line 649, in included_pieces\n",
      "    pos = scope_pieces.index(self.executing_piece)\n",
      "  File \"/Users/dgodenh/miniforge3/lib/python3.9/site-packages/stack_data/utils.py\", line 145, in cached_property_wrapper\n",
      "    value = obj.__dict__[self.func.__name__] = self.func(obj)\n",
      "  File \"/Users/dgodenh/miniforge3/lib/python3.9/site-packages/stack_data/core.py\", line 628, in executing_piece\n",
      "    return only(\n",
      "  File \"/Users/dgodenh/miniforge3/lib/python3.9/site-packages/executing/executing.py\", line 164, in only\n",
      "    raise NotOneValueFound('Expected one value, found 0')\n",
      "executing.executing.NotOneValueFound: Expected one value, found 0\n"
     ]
    },
    {
     "data": {
      "image/png": "[encoded data removed]",
      "text/plain": [
       "<Figure size 720x360 with 3 Axes>"
      ]
     },
     "metadata": {
      "needs_background": "light"
     },
     "output_type": "display_data"
    }
   ],
   "source": [
    "%reload_ext autoreload\n",
    "%autoreload 2\n",
    "import numpy as np\n",
    "from weargroup_v2 import buildSET_of_N,drawGrid\n",
    "mini=True\n",
    "fn = 'bigRunClinF-sandf-Inf1.csv'\n",
    "buildSET_of_N([0.7,0.8,0.9,1],[0,.5,1,2],recalc=True,thiscsv=fn,clinTF=False,REPS=10000,maxN=1500,DRG=0.2,mini=mini,inflater=1)\n",
    "drawGrid(fn)"
   ]
  },
  {
   "cell_type": "code",
   "execution_count": 15,
   "metadata": {},
   "outputs": [
    {
     "data": {
      "image/png": "[encoded data removed]",
      "text/plain": [
       "<Figure size 720x360 with 4 Axes>"
      ]
     },
     "metadata": {
      "needs_background": "light"
     },
     "output_type": "display_data"
    }
   ],
   "source": [
    "drawGrid(fn,clinTF=False)"
   ]
  },
  {
   "cell_type": "code",
   "execution_count": 16,
   "metadata": {},
   "outputs": [
    {
     "data": {
      "application/vnd.jupyter.widget-view+json": {
       "model_id": "62efb209fccc427db309036c79b5cde6",
       "version_major": 2,
       "version_minor": 0
      },
      "text/plain": [
       "trials:   0%|          | 0/10000 [00:00<?, ?it/s]"
      ]
     },
     "metadata": {},
     "output_type": "display_data"
    },
    {
     "name": "stdout",
     "output_type": "stream",
     "text": [
      "Calculating wins = 26.0 minutes\n",
      "Saving....\n",
      "Threshold ...820. runtime = 0.0 minutes\n",
      "Threshold ...460. runtime = 0.0 minutes\n",
      "   sensitivity  FAR  RR50  MPC\n",
      "0          0.7    0   820  460\n"
     ]
    },
    {
     "data": {
      "application/vnd.jupyter.widget-view+json": {
       "model_id": "eada1090a54c4d2f819be2275e1b856d",
       "version_major": 2,
       "version_minor": 0
      },
      "text/plain": [
       "trials:   0%|          | 0/10000 [00:00<?, ?it/s]"
      ]
     },
     "metadata": {},
     "output_type": "display_data"
    },
    {
     "name": "stdout",
     "output_type": "stream",
     "text": [
      "Calculating wins = 28.0 minutes\n",
      "Saving....\n",
      "Threshold ...820. runtime = 0.0 minutes\n",
      "Threshold ...460. runtime = 0.0 minutes\n",
      "   sensitivity  FAR  RR50  MPC\n",
      "0          0.7  0.5   820  460\n"
     ]
    },
    {
     "data": {
      "application/vnd.jupyter.widget-view+json": {
       "model_id": "77d69a5169434be6963aa2f0dbcc4cc5",
       "version_major": 2,
       "version_minor": 0
      },
      "text/plain": [
       "trials:   0%|          | 0/10000 [00:00<?, ?it/s]"
      ]
     },
     "metadata": {},
     "output_type": "display_data"
    },
    {
     "name": "stdout",
     "output_type": "stream",
     "text": [
      "Calculating wins = 27.0 minutes\n",
      "Saving....\n",
      "Threshold ...860. runtime = 0.0 minutes\n",
      "Threshold ...460. runtime = 0.0 minutes\n",
      "   sensitivity  FAR  RR50  MPC\n",
      "0          0.7    1   860  460\n"
     ]
    },
    {
     "data": {
      "application/vnd.jupyter.widget-view+json": {
       "model_id": "9a7a9a9adfad4b67ba186e44b5d5974a",
       "version_major": 2,
       "version_minor": 0
      },
      "text/plain": [
       "trials:   0%|          | 0/10000 [00:00<?, ?it/s]"
      ]
     },
     "metadata": {},
     "output_type": "display_data"
    },
    {
     "name": "stdout",
     "output_type": "stream",
     "text": [
      "Calculating wins = 26.0 minutes\n",
      "Saving....\n",
      "Threshold ...920. runtime = 0.0 minutes\n",
      "Threshold ...490. runtime = 0.0 minutes\n",
      "   sensitivity  FAR  RR50  MPC\n",
      "0          0.7    2   920  490\n"
     ]
    },
    {
     "data": {
      "application/vnd.jupyter.widget-view+json": {
       "model_id": "48313e8992974c50b0b5cd06d7210a05",
       "version_major": 2,
       "version_minor": 0
      },
      "text/plain": [
       "trials:   0%|          | 0/10000 [00:00<?, ?it/s]"
      ]
     },
     "metadata": {},
     "output_type": "display_data"
    },
    {
     "name": "stdout",
     "output_type": "stream",
     "text": [
      "Calculating wins = 24.0 minutes\n",
      "Saving....\n",
      "Threshold ...800. runtime = 0.0 minutes\n",
      "Threshold ...440. runtime = 0.0 minutes\n",
      "   sensitivity  FAR  RR50  MPC\n",
      "0          0.8    0   800  440\n"
     ]
    },
    {
     "data": {
      "application/vnd.jupyter.widget-view+json": {
       "model_id": "a9ce01102e2344b0b890bb7b1c2368a3",
       "version_major": 2,
       "version_minor": 0
      },
      "text/plain": [
       "trials:   0%|          | 0/10000 [00:00<?, ?it/s]"
      ]
     },
     "metadata": {},
     "output_type": "display_data"
    },
    {
     "name": "stdout",
     "output_type": "stream",
     "text": [
      "Calculating wins = 26.0 minutes\n",
      "Saving....\n",
      "Threshold ...820. runtime = 0.0 minutes\n",
      "Threshold ...460. runtime = 0.0 minutes\n",
      "   sensitivity  FAR  RR50  MPC\n",
      "0          0.8  0.5   820  460\n"
     ]
    },
    {
     "data": {
      "application/vnd.jupyter.widget-view+json": {
       "model_id": "66a83f8871a3432983140acd9c7b42da",
       "version_major": 2,
       "version_minor": 0
      },
      "text/plain": [
       "trials:   0%|          | 0/10000 [00:00<?, ?it/s]"
      ]
     },
     "metadata": {},
     "output_type": "display_data"
    },
    {
     "name": "stdout",
     "output_type": "stream",
     "text": [
      "Calculating wins = 26.0 minutes\n",
      "Saving....\n",
      "Threshold ...850. runtime = 0.0 minutes\n",
      "Threshold ...460. runtime = 0.0 minutes\n",
      "   sensitivity  FAR  RR50  MPC\n",
      "0          0.8    1   850  460\n"
     ]
    },
    {
     "data": {
      "application/vnd.jupyter.widget-view+json": {
       "model_id": "336c2fd44a984cbeab95f4cee61028da",
       "version_major": 2,
       "version_minor": 0
      },
      "text/plain": [
       "trials:   0%|          | 0/10000 [00:00<?, ?it/s]"
      ]
     },
     "metadata": {},
     "output_type": "display_data"
    },
    {
     "name": "stdout",
     "output_type": "stream",
     "text": [
      "Calculating wins = 25.0 minutes\n",
      "Saving....\n",
      "Threshold ...920. runtime = 1.0 minutes\n",
      "Threshold ...480. runtime = 0.0 minutes\n",
      "   sensitivity  FAR  RR50  MPC\n",
      "0          0.8    2   920  480\n"
     ]
    },
    {
     "data": {
      "application/vnd.jupyter.widget-view+json": {
       "model_id": "915d0a6ef82b424eb317b5eabeb29d91",
       "version_major": 2,
       "version_minor": 0
      },
      "text/plain": [
       "trials:   0%|          | 0/10000 [00:00<?, ?it/s]"
      ]
     },
     "metadata": {},
     "output_type": "display_data"
    },
    {
     "name": "stdout",
     "output_type": "stream",
     "text": [
      "Calculating wins = 23.0 minutes\n",
      "Saving....\n",
      "Threshold ...820. runtime = 0.0 minutes\n",
      "Threshold ...440. runtime = 0.0 minutes\n",
      "   sensitivity  FAR  RR50  MPC\n",
      "0          0.9    0   820  440\n"
     ]
    },
    {
     "data": {
      "application/vnd.jupyter.widget-view+json": {
       "model_id": "6906fc787ea94048ab6808656d446010",
       "version_major": 2,
       "version_minor": 0
      },
      "text/plain": [
       "trials:   0%|          | 0/10000 [00:00<?, ?it/s]"
      ]
     },
     "metadata": {},
     "output_type": "display_data"
    },
    {
     "name": "stdout",
     "output_type": "stream",
     "text": [
      "Calculating wins = 25.0 minutes\n",
      "Saving....\n",
      "Threshold ...810. runtime = 0.0 minutes\n",
      "Threshold ...440. runtime = 0.0 minutes\n",
      "   sensitivity  FAR  RR50  MPC\n",
      "0          0.9  0.5   810  440\n"
     ]
    },
    {
     "data": {
      "application/vnd.jupyter.widget-view+json": {
       "model_id": "c0dd477359df483197c8ee5d33a5d5b8",
       "version_major": 2,
       "version_minor": 0
      },
      "text/plain": [
       "trials:   0%|          | 0/10000 [00:00<?, ?it/s]"
      ]
     },
     "metadata": {},
     "output_type": "display_data"
    },
    {
     "name": "stdout",
     "output_type": "stream",
     "text": [
      "Calculating wins = 25.0 minutes\n",
      "Saving....\n",
      "Threshold ...850. runtime = 0.0 minutes\n",
      "Threshold ...450. runtime = 0.0 minutes\n",
      "   sensitivity  FAR  RR50  MPC\n",
      "0          0.9    1   850  450\n"
     ]
    },
    {
     "data": {
      "application/vnd.jupyter.widget-view+json": {
       "model_id": "29eb5e74fa4b4144afb4d6cfa4dcdfa2",
       "version_major": 2,
       "version_minor": 0
      },
      "text/plain": [
       "trials:   0%|          | 0/10000 [00:00<?, ?it/s]"
      ]
     },
     "metadata": {},
     "output_type": "display_data"
    },
    {
     "name": "stdout",
     "output_type": "stream",
     "text": [
      "Calculating wins = 24.0 minutes\n",
      "Saving....\n",
      "Threshold ...910. runtime = 0.0 minutes\n",
      "Threshold ...460. runtime = 0.0 minutes\n",
      "   sensitivity  FAR  RR50  MPC\n",
      "0          0.9    2   910  460\n"
     ]
    },
    {
     "data": {
      "application/vnd.jupyter.widget-view+json": {
       "model_id": "c9bcdc62cdcc4077b2904d2ffe1b0f85",
       "version_major": 2,
       "version_minor": 0
      },
      "text/plain": [
       "trials:   0%|          | 0/10000 [00:00<?, ?it/s]"
      ]
     },
     "metadata": {},
     "output_type": "display_data"
    },
    {
     "name": "stdout",
     "output_type": "stream",
     "text": [
      "Calculating wins = 21.0 minutes\n",
      "Saving....\n",
      "Threshold ...820. runtime = 0.0 minutes\n",
      "Threshold ...440. runtime = 0.0 minutes\n",
      "   sensitivity  FAR  RR50  MPC\n",
      "0            1    0   820  440\n"
     ]
    },
    {
     "data": {
      "application/vnd.jupyter.widget-view+json": {
       "model_id": "4322cd7eff894ddcb0fdbf5d4bdd8b6e",
       "version_major": 2,
       "version_minor": 0
      },
      "text/plain": [
       "trials:   0%|          | 0/10000 [00:00<?, ?it/s]"
      ]
     },
     "metadata": {},
     "output_type": "display_data"
    },
    {
     "name": "stdout",
     "output_type": "stream",
     "text": [
      "Calculating wins = 23.0 minutes\n",
      "Saving....\n",
      "Threshold ...820. runtime = 0.0 minutes\n",
      "Threshold ...430. runtime = 0.0 minutes\n",
      "   sensitivity  FAR  RR50  MPC\n",
      "0            1  0.5   820  430\n"
     ]
    },
    {
     "data": {
      "application/vnd.jupyter.widget-view+json": {
       "model_id": "b0bb2ee35cde4475abaef4db6dfbb22c",
       "version_major": 2,
       "version_minor": 0
      },
      "text/plain": [
       "trials:   0%|          | 0/10000 [00:00<?, ?it/s]"
      ]
     },
     "metadata": {},
     "output_type": "display_data"
    },
    {
     "name": "stdout",
     "output_type": "stream",
     "text": [
      "Calculating wins = 23.0 minutes\n",
      "Saving....\n",
      "Threshold ...860. runtime = 0.0 minutes\n",
      "Threshold ...450. runtime = 0.0 minutes\n",
      "   sensitivity  FAR  RR50  MPC\n",
      "0            1    1   860  450\n"
     ]
    },
    {
     "data": {
      "application/vnd.jupyter.widget-view+json": {
       "model_id": "800c2f5760394003bdab004afffb22f5",
       "version_major": 2,
       "version_minor": 0
      },
      "text/plain": [
       "trials:   0%|          | 0/10000 [00:00<?, ?it/s]"
      ]
     },
     "metadata": {},
     "output_type": "display_data"
    },
    {
     "name": "stdout",
     "output_type": "stream",
     "text": [
      "Calculating wins = 22.0 minutes\n",
      "Saving....\n",
      "Threshold ...910. runtime = 0.0 minutes\n",
      "Threshold ...460. runtime = 0.0 minutes\n",
      "   sensitivity  FAR  RR50  MPC\n",
      "0            1    2   910  460\n",
      "   sensitivity  FAR  RR50  MPC\n",
      "0          0.7  0.0   820  460\n",
      "0          0.7  0.5   820  460\n",
      "0          0.7  1.0   860  460\n",
      "0          0.7  2.0   920  490\n",
      "0          0.8  0.0   800  440\n",
      "0          0.8  0.5   820  460\n",
      "0          0.8  1.0   850  460\n",
      "0          0.8  2.0   920  480\n",
      "0          0.9  0.0   820  440\n",
      "0          0.9  0.5   810  440\n",
      "0          0.9  1.0   850  450\n",
      "0          0.9  2.0   910  460\n",
      "0          1.0  0.0   820  440\n",
      "0          1.0  0.5   820  430\n",
      "0          1.0  1.0   860  450\n",
      "0          1.0  2.0   910  460\n"
     ]
    },
    {
     "data": {
      "image/png": "[encoded data removed]",
      "text/plain": [
       "<Figure size 720x360 with 4 Axes>"
      ]
     },
     "metadata": {
      "needs_background": "light"
     },
     "output_type": "display_data"
    }
   ],
   "source": [
    "%reload_ext autoreload\n",
    "%autoreload 2\n",
    "import numpy as np\n",
    "from weargroup_v2 import buildSET_of_N,drawGrid\n",
    "mini=True\n",
    "fn = 'bigRunClinF-sandf-Inf0.5.csv'\n",
    "buildSET_of_N([0.7,0.8,0.9,1],[0,.5,1,2],recalc=True,thiscsv=fn,clinTF=False,REPS=10000,maxN=1500,DRG=0.2,mini=mini,inflater=0.5)\n",
    "drawGrid(fn,False)"
   ]
  },
  {
   "cell_type": "code",
   "execution_count": 3,
   "metadata": {},
   "outputs": [
    {
     "data": {
      "application/vnd.jupyter.widget-view+json": {
       "model_id": "1a5ec36659c647f68178454f943a6d64",
       "version_major": 2,
       "version_minor": 0
      },
      "text/plain": [
       "trials:   0%|          | 0/10000 [00:00<?, ?it/s]"
      ]
     },
     "metadata": {},
     "output_type": "display_data"
    },
    {
     "name": "stdout",
     "output_type": "stream",
     "text": [
      "Calculating wins = 26.0 minutes\n",
      "Saving....\n",
      "Threshold ...805. runtime = 1.0 minutes\n",
      "Threshold ...470. runtime = 0.0 minutes\n",
      "   sensitivity  FAR  RR50  MPC\n",
      "0          0.7    0   805  470\n"
     ]
    },
    {
     "data": {
      "application/vnd.jupyter.widget-view+json": {
       "model_id": "31ee79b0c6f54a9c8b2a32fbcf585561",
       "version_major": 2,
       "version_minor": 0
      },
      "text/plain": [
       "trials:   0%|          | 0/10000 [00:00<?, ?it/s]"
      ]
     },
     "metadata": {},
     "output_type": "display_data"
    },
    {
     "name": "stdout",
     "output_type": "stream",
     "text": [
      "Calculating wins = 18.0 minutes\n",
      "Saving....\n",
      "Threshold ...1495. runtime = 2.0 minutes\n",
      "Threshold ...660. runtime = 1.0 minutes\n",
      "   sensitivity  FAR  RR50  MPC\n",
      "0          0.7  0.5  1495  660\n"
     ]
    },
    {
     "data": {
      "application/vnd.jupyter.widget-view+json": {
       "model_id": "4a788bc736504af78603bc1453d80c91",
       "version_major": 2,
       "version_minor": 0
      },
      "text/plain": [
       "trials:   0%|          | 0/10000 [00:00<?, ?it/s]"
      ]
     },
     "metadata": {},
     "output_type": "display_data"
    }
   ],
   "source": [
    "%reload_ext autoreload\n",
    "%autoreload 2\n",
    "import numpy as np\n",
    "from weargroup_v2 import buildSET_of_N,drawGrid\n",
    "mini=True\n",
    "fn = 'tryA_false_inf2_3.csv'\n",
    "buildSET_of_N([0.7,0.8,0.9,1],[0,.5,1,2],recalc=True,thiscsv=fn,clinTF=False,REPS=10000,maxN=1500,DRG=0.2,mini=mini,inflater=2/3)\n",
    "drawGrid(fn,clinTF=False)"
   ]
  },
  {
   "cell_type": "code",
   "execution_count": 4,
   "metadata": {},
   "outputs": [
    {
     "data": {
      "application/vnd.jupyter.widget-view+json": {
       "model_id": "3cb7ec89047d431089273b04d164c256",
       "version_major": 2,
       "version_minor": 0
      },
      "text/plain": [
       "trials:   0%|          | 0/10000 [00:00<?, ?it/s]"
      ]
     },
     "metadata": {},
     "output_type": "display_data"
    },
    {
     "ename": "KeyboardInterrupt",
     "evalue": "",
     "output_type": "error",
     "traceback": [
      "\u001b[0;31m---------------------------------------------------------------------------\u001b[0m",
      "\u001b[0;31mKeyboardInterrupt\u001b[0m                         Traceback (most recent call last)",
      "\u001b[1;32m/Users/dgodenh/Documents/GitHub/WEARsimulator/runner_mini.ipynb Cell 14\u001b[0m in \u001b[0;36m<cell line: 7>\u001b[0;34m()\u001b[0m\n\u001b[1;32m      <a href='vscode-notebook-cell:/Users/dgodenh/Documents/GitHub/WEARsimulator/runner_mini.ipynb#X16sZmlsZQ%3D%3D?line=4'>5</a>\u001b[0m mini\u001b[39m=\u001b[39m\u001b[39mTrue\u001b[39;00m\n\u001b[1;32m      <a href='vscode-notebook-cell:/Users/dgodenh/Documents/GitHub/WEARsimulator/runner_mini.ipynb#X16sZmlsZQ%3D%3D?line=5'>6</a>\u001b[0m fn \u001b[39m=\u001b[39m \u001b[39m'\u001b[39m\u001b[39mtryA_false_inf1_3.csv\u001b[39m\u001b[39m'\u001b[39m\n\u001b[0;32m----> <a href='vscode-notebook-cell:/Users/dgodenh/Documents/GitHub/WEARsimulator/runner_mini.ipynb#X16sZmlsZQ%3D%3D?line=6'>7</a>\u001b[0m buildSET_of_N([\u001b[39m0.7\u001b[39;49m,\u001b[39m0.8\u001b[39;49m,\u001b[39m0.9\u001b[39;49m,\u001b[39m1\u001b[39;49m],[\u001b[39m0\u001b[39;49m,\u001b[39m.5\u001b[39;49m,\u001b[39m1\u001b[39;49m,\u001b[39m2\u001b[39;49m],recalc\u001b[39m=\u001b[39;49m\u001b[39mTrue\u001b[39;49;00m,thiscsv\u001b[39m=\u001b[39;49mfn,clinTF\u001b[39m=\u001b[39;49m\u001b[39mFalse\u001b[39;49;00m,REPS\u001b[39m=\u001b[39;49m\u001b[39m10000\u001b[39;49m,maxN\u001b[39m=\u001b[39;49m\u001b[39m1500\u001b[39;49m,DRG\u001b[39m=\u001b[39;49m\u001b[39m0.2\u001b[39;49m,mini\u001b[39m=\u001b[39;49mmini,inflater\u001b[39m=\u001b[39;49m\u001b[39m1\u001b[39;49m\u001b[39m/\u001b[39;49m\u001b[39m3\u001b[39;49m)\n\u001b[1;32m      <a href='vscode-notebook-cell:/Users/dgodenh/Documents/GitHub/WEARsimulator/runner_mini.ipynb#X16sZmlsZQ%3D%3D?line=7'>8</a>\u001b[0m drawGrid(fn,clinTF\u001b[39m=\u001b[39m\u001b[39mFalse\u001b[39;00m)\n",
      "File \u001b[0;32m~/Documents/GitHub/WEARsimulator/weargroup_v2.py:169\u001b[0m, in \u001b[0;36mbuildSET_of_N\u001b[0;34m(senseLIST, farLIST, recalc, thiscsv, clinTF, REPS, maxN, DRG, mini, inflater)\u001b[0m\n\u001b[1;32m    167\u001b[0m \u001b[39mfor\u001b[39;00m FAR \u001b[39min\u001b[39;00m farLIST:\n\u001b[1;32m    168\u001b[0m     fn \u001b[39m=\u001b[39m \u001b[39mf\u001b[39m\u001b[39m'\u001b[39m\u001b[39m{\u001b[39;00mthedir\u001b[39m}\u001b[39;00m\u001b[39m/PC_\u001b[39m\u001b[39m{\u001b[39;00mclinTF\u001b[39m}\u001b[39;00m\u001b[39m_sens\u001b[39m\u001b[39m{\u001b[39;00msensitivity\u001b[39m}\u001b[39;00m\u001b[39m_FAR\u001b[39m\u001b[39m{\u001b[39;00mFAR\u001b[39m}\u001b[39;00m\u001b[39m_\u001b[39m\u001b[39m{\u001b[39;00mREPS\u001b[39m}\u001b[39;00m\u001b[39mx\u001b[39m\u001b[39m{\u001b[39;00mmaxN\u001b[39m}\u001b[39;00m\u001b[39m_\u001b[39m\u001b[39m{\u001b[39;00minflater\u001b[39m}\u001b[39;00m\u001b[39m.npy\u001b[39m\u001b[39m'\u001b[39m\n\u001b[0;32m--> 169\u001b[0m     tRR,tMP \u001b[39m=\u001b[39m findThresh(fn\u001b[39m=\u001b[39;49mfn,numCPUs\u001b[39m=\u001b[39;49mnumCPUs,REPS\u001b[39m=\u001b[39;49mREPS,maxN\u001b[39m=\u001b[39;49mmaxN,DRG\u001b[39m=\u001b[39;49mDRG,PCB\u001b[39m=\u001b[39;49m\u001b[39m0\u001b[39;49m,minSz\u001b[39m=\u001b[39;49m\u001b[39m4\u001b[39;49m,\n\u001b[1;32m    170\u001b[0m             baseline\u001b[39m=\u001b[39;49m\u001b[39m2\u001b[39;49m,test\u001b[39m=\u001b[39;49m\u001b[39m3\u001b[39;49m,clinTF\u001b[39m=\u001b[39;49mclinTF,sensitivity\u001b[39m=\u001b[39;49msensitivity,FAR\u001b[39m=\u001b[39;49mFAR,recalc\u001b[39m=\u001b[39;49mrecalc,inflater\u001b[39m=\u001b[39;49minflater)\n\u001b[1;32m    171\u001b[0m     \u001b[39m#print(f'S={sensitivity} F={FAR} Threshold RR50 = {tRR} Threshold MPC = {tMP}')\u001b[39;00m\n\u001b[1;32m    172\u001b[0m     df \u001b[39m=\u001b[39m pd\u001b[39m.\u001b[39mDataFrame({\u001b[39m'\u001b[39m\u001b[39msensitivity\u001b[39m\u001b[39m'\u001b[39m:[sensitivity],\n\u001b[1;32m    173\u001b[0m                        \u001b[39m'\u001b[39m\u001b[39mFAR\u001b[39m\u001b[39m'\u001b[39m:[FAR],\n\u001b[1;32m    174\u001b[0m                        \u001b[39m'\u001b[39m\u001b[39mRR50\u001b[39m\u001b[39m'\u001b[39m:[tRR],\n\u001b[1;32m    175\u001b[0m                        \u001b[39m'\u001b[39m\u001b[39mMPC\u001b[39m\u001b[39m'\u001b[39m:[tMP]})\n",
      "File \u001b[0;32m~/Documents/GitHub/WEARsimulator/weargroup_v2.py:113\u001b[0m, in \u001b[0;36mfindThresh\u001b[0;34m(fn, numCPUs, REPS, maxN, DRG, PCB, minSz, baseline, test, clinTF, sensitivity, FAR, recalc, inflater)\u001b[0m\n\u001b[1;32m    110\u001b[0m \u001b[39mdef\u001b[39;00m \u001b[39mfindThresh\u001b[39m(fn,numCPUs,REPS,maxN,DRG,PCB,minSz,baseline,test,clinTF,sensitivity,FAR,recalc\u001b[39m=\u001b[39m\u001b[39mTrue\u001b[39;00m,inflater\u001b[39m=\u001b[39m\u001b[39m2\u001b[39m):\n\u001b[1;32m    112\u001b[0m     \u001b[39mif\u001b[39;00m recalc\u001b[39m==\u001b[39m\u001b[39mTrue\u001b[39;00m:\n\u001b[0;32m--> 113\u001b[0m         allPCs \u001b[39m=\u001b[39m buildPCsets(fn,numCPUs,REPS,maxN,DRG,PCB,minSz,baseline,test,clinTF,sensitivity,FAR,inflater)\n\u001b[1;32m    114\u001b[0m     \u001b[39melse\u001b[39;00m:\n\u001b[1;32m    115\u001b[0m         \u001b[39mprint\u001b[39m(\u001b[39m'\u001b[39m\u001b[39mLoading...\u001b[39m\u001b[39m'\u001b[39m,end\u001b[39m=\u001b[39m\u001b[39m'\u001b[39m\u001b[39m'\u001b[39m)\n",
      "File \u001b[0;32m~/Documents/GitHub/WEARsimulator/weargroup_v2.py:129\u001b[0m, in \u001b[0;36mbuildPCsets\u001b[0;34m(fn, numCPUs, REPS, maxN, DRG, PCB, minSz, baseline, test, clinTF, sensitivity, FAR, inflater)\u001b[0m\n\u001b[1;32m    126\u001b[0m T1 \u001b[39m=\u001b[39m time\u001b[39m.\u001b[39mtime()\n\u001b[1;32m    128\u001b[0m \u001b[39mwith\u001b[39;00m Parallel(n_jobs\u001b[39m=\u001b[39mnumCPUs, verbose\u001b[39m=\u001b[39m\u001b[39mFalse\u001b[39;00m) \u001b[39mas\u001b[39;00m par:\n\u001b[0;32m--> 129\u001b[0m     temp \u001b[39m=\u001b[39m par(delayed(build_a_trial)(N,halfN,DRG,PCB,minSz,baseline,test,clinTF,sensitivity,FAR,inflater) \u001b[39mfor\u001b[39;49;00m _ \u001b[39min\u001b[39;49;00m trange(REPS,desc\u001b[39m=\u001b[39;49m\u001b[39m'\u001b[39;49m\u001b[39mtrials\u001b[39;49m\u001b[39m'\u001b[39;49m))\n\u001b[1;32m    130\u001b[0m allPCs \u001b[39m=\u001b[39m np\u001b[39m.\u001b[39marray(temp,dtype\u001b[39m=\u001b[39m\u001b[39mfloat\u001b[39m)\n\u001b[1;32m    132\u001b[0m delT \u001b[39m=\u001b[39m np\u001b[39m.\u001b[39mround((time\u001b[39m.\u001b[39mtime()\u001b[39m-\u001b[39mT1)\u001b[39m/\u001b[39m\u001b[39m60\u001b[39m)\n",
      "File \u001b[0;32m~/miniforge3/lib/python3.9/site-packages/joblib/parallel.py:1056\u001b[0m, in \u001b[0;36mParallel.__call__\u001b[0;34m(self, iterable)\u001b[0m\n\u001b[1;32m   1053\u001b[0m     \u001b[39mself\u001b[39m\u001b[39m.\u001b[39m_iterating \u001b[39m=\u001b[39m \u001b[39mFalse\u001b[39;00m\n\u001b[1;32m   1055\u001b[0m \u001b[39mwith\u001b[39;00m \u001b[39mself\u001b[39m\u001b[39m.\u001b[39m_backend\u001b[39m.\u001b[39mretrieval_context():\n\u001b[0;32m-> 1056\u001b[0m     \u001b[39mself\u001b[39;49m\u001b[39m.\u001b[39;49mretrieve()\n\u001b[1;32m   1057\u001b[0m \u001b[39m# Make sure that we get a last message telling us we are done\u001b[39;00m\n\u001b[1;32m   1058\u001b[0m elapsed_time \u001b[39m=\u001b[39m time\u001b[39m.\u001b[39mtime() \u001b[39m-\u001b[39m \u001b[39mself\u001b[39m\u001b[39m.\u001b[39m_start_time\n",
      "File \u001b[0;32m~/miniforge3/lib/python3.9/site-packages/joblib/parallel.py:935\u001b[0m, in \u001b[0;36mParallel.retrieve\u001b[0;34m(self)\u001b[0m\n\u001b[1;32m    933\u001b[0m \u001b[39mtry\u001b[39;00m:\n\u001b[1;32m    934\u001b[0m     \u001b[39mif\u001b[39;00m \u001b[39mgetattr\u001b[39m(\u001b[39mself\u001b[39m\u001b[39m.\u001b[39m_backend, \u001b[39m'\u001b[39m\u001b[39msupports_timeout\u001b[39m\u001b[39m'\u001b[39m, \u001b[39mFalse\u001b[39;00m):\n\u001b[0;32m--> 935\u001b[0m         \u001b[39mself\u001b[39m\u001b[39m.\u001b[39m_output\u001b[39m.\u001b[39mextend(job\u001b[39m.\u001b[39;49mget(timeout\u001b[39m=\u001b[39;49m\u001b[39mself\u001b[39;49m\u001b[39m.\u001b[39;49mtimeout))\n\u001b[1;32m    936\u001b[0m     \u001b[39melse\u001b[39;00m:\n\u001b[1;32m    937\u001b[0m         \u001b[39mself\u001b[39m\u001b[39m.\u001b[39m_output\u001b[39m.\u001b[39mextend(job\u001b[39m.\u001b[39mget())\n",
      "File \u001b[0;32m~/miniforge3/lib/python3.9/site-packages/joblib/_parallel_backends.py:542\u001b[0m, in \u001b[0;36mLokyBackend.wrap_future_result\u001b[0;34m(future, timeout)\u001b[0m\n\u001b[1;32m    539\u001b[0m \u001b[39m\"\"\"Wrapper for Future.result to implement the same behaviour as\u001b[39;00m\n\u001b[1;32m    540\u001b[0m \u001b[39mAsyncResults.get from multiprocessing.\"\"\"\u001b[39;00m\n\u001b[1;32m    541\u001b[0m \u001b[39mtry\u001b[39;00m:\n\u001b[0;32m--> 542\u001b[0m     \u001b[39mreturn\u001b[39;00m future\u001b[39m.\u001b[39;49mresult(timeout\u001b[39m=\u001b[39;49mtimeout)\n\u001b[1;32m    543\u001b[0m \u001b[39mexcept\u001b[39;00m CfTimeoutError \u001b[39mas\u001b[39;00m e:\n\u001b[1;32m    544\u001b[0m     \u001b[39mraise\u001b[39;00m \u001b[39mTimeoutError\u001b[39;00m \u001b[39mfrom\u001b[39;00m \u001b[39me\u001b[39;00m\n",
      "File \u001b[0;32m~/miniforge3/lib/python3.9/concurrent/futures/_base.py:441\u001b[0m, in \u001b[0;36mFuture.result\u001b[0;34m(self, timeout)\u001b[0m\n\u001b[1;32m    438\u001b[0m \u001b[39melif\u001b[39;00m \u001b[39mself\u001b[39m\u001b[39m.\u001b[39m_state \u001b[39m==\u001b[39m FINISHED:\n\u001b[1;32m    439\u001b[0m     \u001b[39mreturn\u001b[39;00m \u001b[39mself\u001b[39m\u001b[39m.\u001b[39m__get_result()\n\u001b[0;32m--> 441\u001b[0m \u001b[39mself\u001b[39;49m\u001b[39m.\u001b[39;49m_condition\u001b[39m.\u001b[39;49mwait(timeout)\n\u001b[1;32m    443\u001b[0m \u001b[39mif\u001b[39;00m \u001b[39mself\u001b[39m\u001b[39m.\u001b[39m_state \u001b[39min\u001b[39;00m [CANCELLED, CANCELLED_AND_NOTIFIED]:\n\u001b[1;32m    444\u001b[0m     \u001b[39mraise\u001b[39;00m CancelledError()\n",
      "File \u001b[0;32m~/miniforge3/lib/python3.9/threading.py:312\u001b[0m, in \u001b[0;36mCondition.wait\u001b[0;34m(self, timeout)\u001b[0m\n\u001b[1;32m    310\u001b[0m \u001b[39mtry\u001b[39;00m:    \u001b[39m# restore state no matter what (e.g., KeyboardInterrupt)\u001b[39;00m\n\u001b[1;32m    311\u001b[0m     \u001b[39mif\u001b[39;00m timeout \u001b[39mis\u001b[39;00m \u001b[39mNone\u001b[39;00m:\n\u001b[0;32m--> 312\u001b[0m         waiter\u001b[39m.\u001b[39;49macquire()\n\u001b[1;32m    313\u001b[0m         gotit \u001b[39m=\u001b[39m \u001b[39mTrue\u001b[39;00m\n\u001b[1;32m    314\u001b[0m     \u001b[39melse\u001b[39;00m:\n",
      "\u001b[0;31mKeyboardInterrupt\u001b[0m: "
     ]
    }
   ],
   "source": [
    "%reload_ext autoreload\n",
    "%autoreload 2\n",
    "import numpy as np\n",
    "from weargroup_v2 import buildSET_of_N,drawGrid\n",
    "mini=True\n",
    "fn = 'tryA_false_inf1_3.csv'\n",
    "buildSET_of_N([0.7,0.8,0.9,1],[0,.5,1,2],recalc=True,thiscsv=fn,clinTF=False,REPS=10000,maxN=1500,DRG=0.2,mini=mini,inflater=1/3)\n",
    "drawGrid(fn,clinTF=False)"
   ]
  },
  {
   "cell_type": "code",
   "execution_count": 5,
   "metadata": {},
   "outputs": [
    {
     "data": {
      "application/vnd.jupyter.widget-view+json": {
       "model_id": "b7bb329cfce04a1d8716e6d6ba8d6581",
       "version_major": 2,
       "version_minor": 0
      },
      "text/plain": [
       "trials:   0%|          | 0/10000 [00:00<?, ?it/s]"
      ]
     },
     "metadata": {},
     "output_type": "display_data"
    },
    {
     "name": "stdout",
     "output_type": "stream",
     "text": [
      "Calculating wins = 25.0 minutes\n",
      "Saving....\n",
      "Threshold ...805. runtime = 1.0 minutes\n",
      "Threshold ...455. runtime = 0.0 minutes\n",
      "   sensitivity  FAR  RR50  MPC\n",
      "0          0.7    0   805  455\n"
     ]
    },
    {
     "data": {
      "application/vnd.jupyter.widget-view+json": {
       "model_id": "063c50105cb6453c8275d0135622d184",
       "version_major": 2,
       "version_minor": 0
      },
      "text/plain": [
       "trials:   0%|          | 0/10000 [00:00<?, ?it/s]"
      ]
     },
     "metadata": {},
     "output_type": "display_data"
    },
    {
     "name": "stdout",
     "output_type": "stream",
     "text": [
      "Calculating wins = 18.0 minutes\n",
      "Saving....\n",
      "Threshold ...1495. runtime = 2.0 minutes\n",
      "Threshold ...685. runtime = 1.0 minutes\n",
      "   sensitivity  FAR  RR50  MPC\n",
      "0          0.7  0.5  1495  685\n"
     ]
    },
    {
     "data": {
      "application/vnd.jupyter.widget-view+json": {
       "model_id": "db4af56a0d6e481a9156e6e2746cffe5",
       "version_major": 2,
       "version_minor": 0
      },
      "text/plain": [
       "trials:   0%|          | 0/10000 [00:00<?, ?it/s]"
      ]
     },
     "metadata": {},
     "output_type": "display_data"
    },
    {
     "name": "stdout",
     "output_type": "stream",
     "text": [
      "Calculating wins = 18.0 minutes\n",
      "Saving....\n",
      "Threshold ...1495. runtime = 3.0 minutes\n",
      "Threshold ...785. runtime = 1.0 minutes\n",
      "   sensitivity  FAR  RR50  MPC\n",
      "0          0.7    1  1495  785\n"
     ]
    },
    {
     "data": {
      "application/vnd.jupyter.widget-view+json": {
       "model_id": "9aa77ec16b8a4a469f2dfe1592c61670",
       "version_major": 2,
       "version_minor": 0
      },
      "text/plain": [
       "trials:   0%|          | 0/10000 [00:00<?, ?it/s]"
      ]
     },
     "metadata": {},
     "output_type": "display_data"
    },
    {
     "name": "stdout",
     "output_type": "stream",
     "text": [
      "Calculating wins = 18.0 minutes\n",
      "Saving....\n",
      "Threshold ...1495. runtime = 3.0 minutes\n",
      "Threshold ...960. runtime = 1.0 minutes\n",
      "   sensitivity  FAR  RR50  MPC\n",
      "0          0.7    2  1495  960\n"
     ]
    },
    {
     "data": {
      "application/vnd.jupyter.widget-view+json": {
       "model_id": "6f5a20417e4f4194a7995384b96ce61d",
       "version_major": 2,
       "version_minor": 0
      },
      "text/plain": [
       "trials:   0%|          | 0/10000 [00:00<?, ?it/s]"
      ]
     },
     "metadata": {},
     "output_type": "display_data"
    },
    {
     "name": "stdout",
     "output_type": "stream",
     "text": [
      "Calculating wins = 24.0 minutes\n",
      "Saving....\n",
      "Threshold ...810. runtime = 1.0 minutes\n",
      "Threshold ...450. runtime = 0.0 minutes\n",
      "   sensitivity  FAR  RR50  MPC\n",
      "0          0.8    0   810  450\n"
     ]
    },
    {
     "data": {
      "application/vnd.jupyter.widget-view+json": {
       "model_id": "86589be0935b461bb0fccd2f6577818b",
       "version_major": 2,
       "version_minor": 0
      },
      "text/plain": [
       "trials:   0%|          | 0/10000 [00:00<?, ?it/s]"
      ]
     },
     "metadata": {},
     "output_type": "display_data"
    },
    {
     "name": "stdout",
     "output_type": "stream",
     "text": [
      "Calculating wins = 18.0 minutes\n",
      "Saving....\n",
      "Threshold ...1495. runtime = 2.0 minutes\n",
      "Threshold ...650. runtime = 1.0 minutes\n",
      "   sensitivity  FAR  RR50  MPC\n",
      "0          0.8  0.5  1495  650\n"
     ]
    },
    {
     "data": {
      "application/vnd.jupyter.widget-view+json": {
       "model_id": "496bbdb20b1547a3892b9b0b505a4dc1",
       "version_major": 2,
       "version_minor": 0
      },
      "text/plain": [
       "trials:   0%|          | 0/10000 [00:00<?, ?it/s]"
      ]
     },
     "metadata": {},
     "output_type": "display_data"
    },
    {
     "name": "stdout",
     "output_type": "stream",
     "text": [
      "Calculating wins = 18.0 minutes\n",
      "Saving....\n",
      "Threshold ...1495. runtime = 3.0 minutes\n",
      "Threshold ...740. runtime = 1.0 minutes\n",
      "   sensitivity  FAR  RR50  MPC\n",
      "0          0.8    1  1495  740\n"
     ]
    },
    {
     "data": {
      "application/vnd.jupyter.widget-view+json": {
       "model_id": "d4793343caf54c2e98ccc6e107fa9b5d",
       "version_major": 2,
       "version_minor": 0
      },
      "text/plain": [
       "trials:   0%|          | 0/10000 [00:00<?, ?it/s]"
      ]
     },
     "metadata": {},
     "output_type": "display_data"
    },
    {
     "name": "stdout",
     "output_type": "stream",
     "text": [
      "Calculating wins = 18.0 minutes\n",
      "Saving....\n",
      "Threshold ...1495. runtime = 3.0 minutes\n",
      "Threshold ...910. runtime = 1.0 minutes\n",
      "   sensitivity  FAR  RR50  MPC\n",
      "0          0.8    2  1495  910\n"
     ]
    },
    {
     "data": {
      "application/vnd.jupyter.widget-view+json": {
       "model_id": "55c80b40498f41ffabefd0b287b06c1c",
       "version_major": 2,
       "version_minor": 0
      },
      "text/plain": [
       "trials:   0%|          | 0/10000 [00:00<?, ?it/s]"
      ]
     },
     "metadata": {},
     "output_type": "display_data"
    },
    {
     "name": "stdout",
     "output_type": "stream",
     "text": [
      "Calculating wins = 23.0 minutes\n",
      "Saving....\n",
      "Threshold ...815. runtime = 1.0 minutes\n",
      "Threshold ...430. runtime = 0.0 minutes\n",
      "   sensitivity  FAR  RR50  MPC\n",
      "0          0.9    0   815  430\n"
     ]
    },
    {
     "data": {
      "application/vnd.jupyter.widget-view+json": {
       "model_id": "9428ccc41a9c420d8c834fac47cf0b05",
       "version_major": 2,
       "version_minor": 0
      },
      "text/plain": [
       "trials:   0%|          | 0/10000 [00:00<?, ?it/s]"
      ]
     },
     "metadata": {},
     "output_type": "display_data"
    },
    {
     "name": "stdout",
     "output_type": "stream",
     "text": [
      "Calculating wins = 18.0 minutes\n",
      "Saving....\n",
      "Threshold ...1495. runtime = 2.0 minutes\n",
      "Threshold ...630. runtime = 1.0 minutes\n",
      "   sensitivity  FAR  RR50  MPC\n",
      "0          0.9  0.5  1495  630\n"
     ]
    },
    {
     "data": {
      "application/vnd.jupyter.widget-view+json": {
       "model_id": "09683701884240fe8b4512ba7b3bdeda",
       "version_major": 2,
       "version_minor": 0
      },
      "text/plain": [
       "trials:   0%|          | 0/10000 [00:00<?, ?it/s]"
      ]
     },
     "metadata": {},
     "output_type": "display_data"
    },
    {
     "name": "stdout",
     "output_type": "stream",
     "text": [
      "Calculating wins = 18.0 minutes\n",
      "Saving....\n",
      "Threshold ...1495. runtime = 3.0 minutes\n",
      "Threshold ...695. runtime = 1.0 minutes\n",
      "   sensitivity  FAR  RR50  MPC\n",
      "0          0.9    1  1495  695\n"
     ]
    },
    {
     "data": {
      "application/vnd.jupyter.widget-view+json": {
       "model_id": "47a1c3e780c54a32b4b01c72214e0034",
       "version_major": 2,
       "version_minor": 0
      },
      "text/plain": [
       "trials:   0%|          | 0/10000 [00:00<?, ?it/s]"
      ]
     },
     "metadata": {},
     "output_type": "display_data"
    },
    {
     "name": "stdout",
     "output_type": "stream",
     "text": [
      "Calculating wins = 18.0 minutes\n",
      "Saving....\n",
      "Threshold ...1495. runtime = 4.0 minutes\n",
      "Threshold ...855. runtime = 1.0 minutes\n",
      "   sensitivity  FAR  RR50  MPC\n",
      "0          0.9    2  1495  855\n"
     ]
    },
    {
     "data": {
      "application/vnd.jupyter.widget-view+json": {
       "model_id": "01af2fc39f7f4a74b677bb584d892187",
       "version_major": 2,
       "version_minor": 0
      },
      "text/plain": [
       "trials:   0%|          | 0/10000 [00:00<?, ?it/s]"
      ]
     },
     "metadata": {},
     "output_type": "display_data"
    },
    {
     "name": "stdout",
     "output_type": "stream",
     "text": [
      "Calculating wins = 21.0 minutes\n",
      "Saving....\n",
      "Threshold ...815. runtime = 1.0 minutes\n",
      "Threshold ...435. runtime = 0.0 minutes\n",
      "   sensitivity  FAR  RR50  MPC\n",
      "0            1    0   815  435\n"
     ]
    },
    {
     "data": {
      "application/vnd.jupyter.widget-view+json": {
       "model_id": "c70b59eb030c443a948c066fbd784a45",
       "version_major": 2,
       "version_minor": 0
      },
      "text/plain": [
       "trials:   0%|          | 0/10000 [00:00<?, ?it/s]"
      ]
     },
     "metadata": {},
     "output_type": "display_data"
    },
    {
     "name": "stdout",
     "output_type": "stream",
     "text": [
      "Calculating wins = 17.0 minutes\n",
      "Saving....\n",
      "Threshold ...1495. runtime = 2.0 minutes\n",
      "Threshold ...620. runtime = 1.0 minutes\n",
      "   sensitivity  FAR  RR50  MPC\n",
      "0            1  0.5  1495  620\n"
     ]
    },
    {
     "data": {
      "application/vnd.jupyter.widget-view+json": {
       "model_id": "1c56dca265974561afd86bcd2374345d",
       "version_major": 2,
       "version_minor": 0
      },
      "text/plain": [
       "trials:   0%|          | 0/10000 [00:00<?, ?it/s]"
      ]
     },
     "metadata": {},
     "output_type": "display_data"
    },
    {
     "name": "stdout",
     "output_type": "stream",
     "text": [
      "Calculating wins = 17.0 minutes\n",
      "Saving....\n",
      "Threshold ...1495. runtime = 3.0 minutes\n",
      "Threshold ...685. runtime = 1.0 minutes\n",
      "   sensitivity  FAR  RR50  MPC\n",
      "0            1    1  1495  685\n"
     ]
    },
    {
     "data": {
      "application/vnd.jupyter.widget-view+json": {
       "model_id": "816e8c6f4b49429aa4312b04bb3f2348",
       "version_major": 2,
       "version_minor": 0
      },
      "text/plain": [
       "trials:   0%|          | 0/10000 [00:00<?, ?it/s]"
      ]
     },
     "metadata": {},
     "output_type": "display_data"
    },
    {
     "name": "stdout",
     "output_type": "stream",
     "text": [
      "Calculating wins = 17.0 minutes\n",
      "Saving....\n",
      "Threshold ...1495. runtime = 4.0 minutes\n",
      "Threshold ...810. runtime = 1.0 minutes\n",
      "   sensitivity  FAR  RR50  MPC\n",
      "0            1    2  1495  810\n",
      "   sensitivity  FAR  RR50  MPC\n",
      "0          0.7  0.0   805  455\n",
      "0          0.7  0.5  1495  685\n",
      "0          0.7  1.0  1495  785\n",
      "0          0.7  2.0  1495  960\n",
      "0          0.8  0.0   810  450\n",
      "0          0.8  0.5  1495  650\n",
      "0          0.8  1.0  1495  740\n",
      "0          0.8  2.0  1495  910\n",
      "0          0.9  0.0   815  430\n",
      "0          0.9  0.5  1495  630\n",
      "0          0.9  1.0  1495  695\n",
      "0          0.9  2.0  1495  855\n",
      "0          1.0  0.0   815  435\n",
      "0          1.0  0.5  1495  620\n",
      "0          1.0  1.0  1495  685\n",
      "0          1.0  2.0  1495  810\n"
     ]
    },
    {
     "data": {
      "image/png": "[encoded data removed]",
      "text/plain": [
       "<Figure size 720x360 with 4 Axes>"
      ]
     },
     "metadata": {
      "needs_background": "light"
     },
     "output_type": "display_data"
    },
    {
     "data": {
      "application/vnd.jupyter.widget-view+json": {
       "model_id": "0f94cc0591ac4cf1916d3ba8c997e286",
       "version_major": 2,
       "version_minor": 0
      },
      "text/plain": [
       "trials:   0%|          | 0/10000 [00:00<?, ?it/s]"
      ]
     },
     "metadata": {},
     "output_type": "display_data"
    },
    {
     "name": "stdout",
     "output_type": "stream",
     "text": [
      "Calculating wins = 25.0 minutes\n",
      "Saving....\n",
      "Threshold ...810. runtime = 1.0 minutes\n",
      "Threshold ...465. runtime = 0.0 minutes\n",
      "   sensitivity  FAR  RR50  MPC\n",
      "0          0.7    0   810  465\n"
     ]
    },
    {
     "data": {
      "application/vnd.jupyter.widget-view+json": {
       "model_id": "8ba9a4abfacf4258b6025b3c741453d8",
       "version_major": 2,
       "version_minor": 0
      },
      "text/plain": [
       "trials:   0%|          | 0/10000 [00:00<?, ?it/s]"
      ]
     },
     "metadata": {},
     "output_type": "display_data"
    },
    {
     "name": "stdout",
     "output_type": "stream",
     "text": [
      "Calculating wins = 18.0 minutes\n",
      "Saving....\n",
      "Threshold ...1495. runtime = 2.0 minutes\n",
      "Threshold ...675. runtime = 1.0 minutes\n",
      "   sensitivity  FAR  RR50  MPC\n",
      "0          0.7  0.5  1495  675\n"
     ]
    },
    {
     "data": {
      "application/vnd.jupyter.widget-view+json": {
       "model_id": "d378cf4f82774950941e8caffcc2c54f",
       "version_major": 2,
       "version_minor": 0
      },
      "text/plain": [
       "trials:   0%|          | 0/10000 [00:00<?, ?it/s]"
      ]
     },
     "metadata": {},
     "output_type": "display_data"
    },
    {
     "name": "stdout",
     "output_type": "stream",
     "text": [
      "Calculating wins = 18.0 minutes\n",
      "Saving....\n",
      "Threshold ...1495. runtime = 3.0 minutes\n",
      "Threshold ...760. runtime = 1.0 minutes\n",
      "   sensitivity  FAR  RR50  MPC\n",
      "0          0.7    1  1495  760\n"
     ]
    },
    {
     "data": {
      "application/vnd.jupyter.widget-view+json": {
       "model_id": "2c6c5e0af1744942b3dec2b44ec52e43",
       "version_major": 2,
       "version_minor": 0
      },
      "text/plain": [
       "trials:   0%|          | 0/10000 [00:00<?, ?it/s]"
      ]
     },
     "metadata": {},
     "output_type": "display_data"
    },
    {
     "name": "stdout",
     "output_type": "stream",
     "text": [
      "Calculating wins = 18.0 minutes\n",
      "Saving....\n",
      "Threshold ...1495. runtime = 3.0 minutes\n",
      "Threshold ...970. runtime = 1.0 minutes\n",
      "   sensitivity  FAR  RR50  MPC\n",
      "0          0.7    2  1495  970\n"
     ]
    },
    {
     "data": {
      "application/vnd.jupyter.widget-view+json": {
       "model_id": "b6938ab7fa104547a2d3430ecf8e3345",
       "version_major": 2,
       "version_minor": 0
      },
      "text/plain": [
       "trials:   0%|          | 0/10000 [00:00<?, ?it/s]"
      ]
     },
     "metadata": {},
     "output_type": "display_data"
    },
    {
     "name": "stdout",
     "output_type": "stream",
     "text": [
      "Calculating wins = 23.0 minutes\n",
      "Saving....\n",
      "Threshold ...805. runtime = 1.0 minutes\n",
      "Threshold ...450. runtime = 0.0 minutes\n",
      "   sensitivity  FAR  RR50  MPC\n",
      "0          0.8    0   805  450\n"
     ]
    },
    {
     "data": {
      "application/vnd.jupyter.widget-view+json": {
       "model_id": "7bd90ad870c949269f9053d793b171a9",
       "version_major": 2,
       "version_minor": 0
      },
      "text/plain": [
       "trials:   0%|          | 0/10000 [00:00<?, ?it/s]"
      ]
     },
     "metadata": {},
     "output_type": "display_data"
    },
    {
     "name": "stdout",
     "output_type": "stream",
     "text": [
      "Calculating wins = 18.0 minutes\n",
      "Saving....\n",
      "Threshold ...1495. runtime = 2.0 minutes\n",
      "Threshold ...660. runtime = 1.0 minutes\n",
      "   sensitivity  FAR  RR50  MPC\n",
      "0          0.8  0.5  1495  660\n"
     ]
    },
    {
     "data": {
      "application/vnd.jupyter.widget-view+json": {
       "model_id": "5d417a0350d345acb05cb83f83564229",
       "version_major": 2,
       "version_minor": 0
      },
      "text/plain": [
       "trials:   0%|          | 0/10000 [00:00<?, ?it/s]"
      ]
     },
     "metadata": {},
     "output_type": "display_data"
    },
    {
     "name": "stdout",
     "output_type": "stream",
     "text": [
      "Calculating wins = 18.0 minutes\n",
      "Saving....\n",
      "Threshold ...1495. runtime = 3.0 minutes\n",
      "Threshold ...735. runtime = 1.0 minutes\n",
      "   sensitivity  FAR  RR50  MPC\n",
      "0          0.8    1  1495  735\n"
     ]
    },
    {
     "data": {
      "application/vnd.jupyter.widget-view+json": {
       "model_id": "ac1d872c11ab44eabece488b6efba08f",
       "version_major": 2,
       "version_minor": 0
      },
      "text/plain": [
       "trials:   0%|          | 0/10000 [00:00<?, ?it/s]"
      ]
     },
     "metadata": {},
     "output_type": "display_data"
    },
    {
     "name": "stdout",
     "output_type": "stream",
     "text": [
      "Calculating wins = 18.0 minutes\n",
      "Saving....\n",
      "Threshold ...1495. runtime = 3.0 minutes\n",
      "Threshold ...900. runtime = 1.0 minutes\n",
      "   sensitivity  FAR  RR50  MPC\n",
      "0          0.8    2  1495  900\n"
     ]
    },
    {
     "data": {
      "application/vnd.jupyter.widget-view+json": {
       "model_id": "1c68e0b1ec5348bdb8b41e0eb9b1a26f",
       "version_major": 2,
       "version_minor": 0
      },
      "text/plain": [
       "trials:   0%|          | 0/10000 [00:00<?, ?it/s]"
      ]
     },
     "metadata": {},
     "output_type": "display_data"
    },
    {
     "name": "stdout",
     "output_type": "stream",
     "text": [
      "Calculating wins = 22.0 minutes\n",
      "Saving....\n",
      "Threshold ...805. runtime = 1.0 minutes\n",
      "Threshold ...435. runtime = 0.0 minutes\n",
      "   sensitivity  FAR  RR50  MPC\n",
      "0          0.9    0   805  435\n"
     ]
    },
    {
     "data": {
      "application/vnd.jupyter.widget-view+json": {
       "model_id": "9e989467649b48f0b1258cf54c1e6cac",
       "version_major": 2,
       "version_minor": 0
      },
      "text/plain": [
       "trials:   0%|          | 0/10000 [00:00<?, ?it/s]"
      ]
     },
     "metadata": {},
     "output_type": "display_data"
    },
    {
     "name": "stdout",
     "output_type": "stream",
     "text": [
      "Calculating wins = 18.0 minutes\n",
      "Saving....\n",
      "Threshold ...1495. runtime = 2.0 minutes\n",
      "Threshold ...630. runtime = 1.0 minutes\n",
      "   sensitivity  FAR  RR50  MPC\n",
      "0          0.9  0.5  1495  630\n"
     ]
    },
    {
     "data": {
      "application/vnd.jupyter.widget-view+json": {
       "model_id": "524074c26baf45da8b2960d7a7906960",
       "version_major": 2,
       "version_minor": 0
      },
      "text/plain": [
       "trials:   0%|          | 0/10000 [00:00<?, ?it/s]"
      ]
     },
     "metadata": {},
     "output_type": "display_data"
    },
    {
     "name": "stdout",
     "output_type": "stream",
     "text": [
      "Calculating wins = 18.0 minutes\n",
      "Saving....\n",
      "Threshold ...1495. runtime = 3.0 minutes\n",
      "Threshold ...705. runtime = 1.0 minutes\n",
      "   sensitivity  FAR  RR50  MPC\n",
      "0          0.9    1  1495  705\n"
     ]
    },
    {
     "data": {
      "application/vnd.jupyter.widget-view+json": {
       "model_id": "268b3b4ea873442899616aa4a24c50cc",
       "version_major": 2,
       "version_minor": 0
      },
      "text/plain": [
       "trials:   0%|          | 0/10000 [00:00<?, ?it/s]"
      ]
     },
     "metadata": {},
     "output_type": "display_data"
    },
    {
     "name": "stdout",
     "output_type": "stream",
     "text": [
      "Calculating wins = 18.0 minutes\n",
      "Saving....\n",
      "Threshold ...1495. runtime = 3.0 minutes\n",
      "Threshold ...840. runtime = 1.0 minutes\n",
      "   sensitivity  FAR  RR50  MPC\n",
      "0          0.9    2  1495  840\n"
     ]
    },
    {
     "data": {
      "application/vnd.jupyter.widget-view+json": {
       "model_id": "1a53cc6e2f7e4a43b8cc006a40957e08",
       "version_major": 2,
       "version_minor": 0
      },
      "text/plain": [
       "trials:   0%|          | 0/10000 [00:00<?, ?it/s]"
      ]
     },
     "metadata": {},
     "output_type": "display_data"
    },
    {
     "name": "stdout",
     "output_type": "stream",
     "text": [
      "Calculating wins = 20.0 minutes\n",
      "Saving....\n",
      "Threshold ...810. runtime = 1.0 minutes\n",
      "Threshold ...440. runtime = 0.0 minutes\n",
      "   sensitivity  FAR  RR50  MPC\n",
      "0            1    0   810  440\n"
     ]
    },
    {
     "data": {
      "application/vnd.jupyter.widget-view+json": {
       "model_id": "d8c7c08347cf4d6ba8658e9517e1dcc7",
       "version_major": 2,
       "version_minor": 0
      },
      "text/plain": [
       "trials:   0%|          | 0/10000 [00:00<?, ?it/s]"
      ]
     },
     "metadata": {},
     "output_type": "display_data"
    },
    {
     "name": "stdout",
     "output_type": "stream",
     "text": [
      "Calculating wins = 17.0 minutes\n",
      "Saving....\n",
      "Threshold ...1495. runtime = 2.0 minutes\n",
      "Threshold ...600. runtime = 1.0 minutes\n",
      "   sensitivity  FAR  RR50  MPC\n",
      "0            1  0.5  1495  600\n"
     ]
    },
    {
     "data": {
      "application/vnd.jupyter.widget-view+json": {
       "model_id": "61e01744388349cf84fddac73a6e25ad",
       "version_major": 2,
       "version_minor": 0
      },
      "text/plain": [
       "trials:   0%|          | 0/10000 [00:00<?, ?it/s]"
      ]
     },
     "metadata": {},
     "output_type": "display_data"
    },
    {
     "name": "stdout",
     "output_type": "stream",
     "text": [
      "Calculating wins = 17.0 minutes\n",
      "Saving....\n",
      "Threshold ...1495. runtime = 2.0 minutes\n",
      "Threshold ...665. runtime = 1.0 minutes\n",
      "   sensitivity  FAR  RR50  MPC\n",
      "0            1    1  1495  665\n"
     ]
    },
    {
     "data": {
      "application/vnd.jupyter.widget-view+json": {
       "model_id": "521f9e4132f34910a0278f12add360a9",
       "version_major": 2,
       "version_minor": 0
      },
      "text/plain": [
       "trials:   0%|          | 0/10000 [00:00<?, ?it/s]"
      ]
     },
     "metadata": {},
     "output_type": "display_data"
    },
    {
     "name": "stdout",
     "output_type": "stream",
     "text": [
      "Calculating wins = 17.0 minutes\n",
      "Saving....\n",
      "Threshold ...1495. runtime = 3.0 minutes\n",
      "Threshold ...805. runtime = 1.0 minutes\n",
      "   sensitivity  FAR  RR50  MPC\n",
      "0            1    2  1495  805\n",
      "   sensitivity  FAR  RR50  MPC\n",
      "0          0.7  0.0   810  465\n",
      "0          0.7  0.5  1495  675\n",
      "0          0.7  1.0  1495  760\n",
      "0          0.7  2.0  1495  970\n",
      "0          0.8  0.0   805  450\n",
      "0          0.8  0.5  1495  660\n",
      "0          0.8  1.0  1495  735\n",
      "0          0.8  2.0  1495  900\n",
      "0          0.9  0.0   805  435\n",
      "0          0.9  0.5  1495  630\n",
      "0          0.9  1.0  1495  705\n",
      "0          0.9  2.0  1495  840\n",
      "0          1.0  0.0   810  440\n",
      "0          1.0  0.5  1495  600\n",
      "0          1.0  1.0  1495  665\n",
      "0          1.0  2.0  1495  805\n"
     ]
    },
    {
     "data": {
      "image/png": "[encoded data removed]",
      "text/plain": [
       "<Figure size 720x360 with 4 Axes>"
      ]
     },
     "metadata": {
      "needs_background": "light"
     },
     "output_type": "display_data"
    },
    {
     "data": {
      "application/vnd.jupyter.widget-view+json": {
       "model_id": "f7ec644c97b1476a81dd053eec782226",
       "version_major": 2,
       "version_minor": 0
      },
      "text/plain": [
       "trials:   0%|          | 0/10000 [00:00<?, ?it/s]"
      ]
     },
     "metadata": {},
     "output_type": "display_data"
    },
    {
     "name": "stdout",
     "output_type": "stream",
     "text": [
      "Calculating wins = 25.0 minutes\n",
      "Saving....\n",
      "Threshold ...795. runtime = 1.0 minutes\n",
      "Threshold ...470. runtime = 0.0 minutes\n",
      "   sensitivity  FAR  RR50  MPC\n",
      "0          0.7    0   795  470\n"
     ]
    },
    {
     "data": {
      "application/vnd.jupyter.widget-view+json": {
       "model_id": "e4fef85a724b495293ed8976c8ea1861",
       "version_major": 2,
       "version_minor": 0
      },
      "text/plain": [
       "trials:   0%|          | 0/10000 [00:00<?, ?it/s]"
      ]
     },
     "metadata": {},
     "output_type": "display_data"
    },
    {
     "name": "stdout",
     "output_type": "stream",
     "text": [
      "Calculating wins = 18.0 minutes\n",
      "Saving....\n",
      "Threshold ...1495. runtime = 2.0 minutes\n",
      "Threshold ...700. runtime = 1.0 minutes\n",
      "   sensitivity  FAR  RR50  MPC\n",
      "0          0.7  0.5  1495  700\n"
     ]
    },
    {
     "data": {
      "application/vnd.jupyter.widget-view+json": {
       "model_id": "9473e1bc3a5246b4841d1aeb8e094fc3",
       "version_major": 2,
       "version_minor": 0
      },
      "text/plain": [
       "trials:   0%|          | 0/10000 [00:00<?, ?it/s]"
      ]
     },
     "metadata": {},
     "output_type": "display_data"
    },
    {
     "name": "stdout",
     "output_type": "stream",
     "text": [
      "Calculating wins = 18.0 minutes\n",
      "Saving....\n",
      "Threshold ...1495. runtime = 3.0 minutes\n",
      "Threshold ...840. runtime = 1.0 minutes\n",
      "   sensitivity  FAR  RR50  MPC\n",
      "0          0.7    1  1495  840\n"
     ]
    },
    {
     "data": {
      "application/vnd.jupyter.widget-view+json": {
       "model_id": "72245e3aeeb74ca5bf0b21925c51abb5",
       "version_major": 2,
       "version_minor": 0
      },
      "text/plain": [
       "trials:   0%|          | 0/10000 [00:00<?, ?it/s]"
      ]
     },
     "metadata": {},
     "output_type": "display_data"
    },
    {
     "name": "stdout",
     "output_type": "stream",
     "text": [
      "Calculating wins = 18.0 minutes\n",
      "Saving....\n",
      "Threshold ...1495. runtime = 3.0 minutes\n",
      "Threshold ...1090. runtime = 1.0 minutes\n",
      "   sensitivity  FAR  RR50   MPC\n",
      "0          0.7    2  1495  1090\n"
     ]
    },
    {
     "data": {
      "application/vnd.jupyter.widget-view+json": {
       "model_id": "27425e83c3364e3da21e3cdfb894488e",
       "version_major": 2,
       "version_minor": 0
      },
      "text/plain": [
       "trials:   0%|          | 0/10000 [00:00<?, ?it/s]"
      ]
     },
     "metadata": {},
     "output_type": "display_data"
    },
    {
     "name": "stdout",
     "output_type": "stream",
     "text": [
      "Calculating wins = 23.0 minutes\n",
      "Saving....\n",
      "Threshold ...805. runtime = 1.0 minutes\n",
      "Threshold ...455. runtime = 0.0 minutes\n",
      "   sensitivity  FAR  RR50  MPC\n",
      "0          0.8    0   805  455\n"
     ]
    },
    {
     "data": {
      "application/vnd.jupyter.widget-view+json": {
       "model_id": "36004978e932425d951a1680f7862cd0",
       "version_major": 2,
       "version_minor": 0
      },
      "text/plain": [
       "trials:   0%|          | 0/10000 [00:00<?, ?it/s]"
      ]
     },
     "metadata": {},
     "output_type": "display_data"
    },
    {
     "ename": "KeyboardInterrupt",
     "evalue": "",
     "output_type": "error",
     "traceback": [
      "\u001b[0;31m---------------------------------------------------------------------------\u001b[0m",
      "\u001b[0;31mKeyboardInterrupt\u001b[0m                         Traceback (most recent call last)",
      "\u001b[1;32m/Users/dgodenh/Documents/GitHub/WEARsimulator/runner_mini.ipynb Cell 15\u001b[0m in \u001b[0;36m<cell line: 17>\u001b[0;34m()\u001b[0m\n\u001b[1;32m     <a href='vscode-notebook-cell:/Users/dgodenh/Documents/GitHub/WEARsimulator/runner_mini.ipynb#X20sZmlsZQ%3D%3D?line=14'>15</a>\u001b[0m inflater \u001b[39m=\u001b[39m \u001b[39m4\u001b[39m\u001b[39m/\u001b[39m\u001b[39m3\u001b[39m\n\u001b[1;32m     <a href='vscode-notebook-cell:/Users/dgodenh/Documents/GitHub/WEARsimulator/runner_mini.ipynb#X20sZmlsZQ%3D%3D?line=15'>16</a>\u001b[0m fn \u001b[39m=\u001b[39m \u001b[39mf\u001b[39m\u001b[39m'\u001b[39m\u001b[39mtryA_\u001b[39m\u001b[39m{\u001b[39;00mclinTF\u001b[39m}\u001b[39;00m\u001b[39m_inf4_3.csv\u001b[39m\u001b[39m'\u001b[39m\n\u001b[0;32m---> <a href='vscode-notebook-cell:/Users/dgodenh/Documents/GitHub/WEARsimulator/runner_mini.ipynb#X20sZmlsZQ%3D%3D?line=16'>17</a>\u001b[0m buildSET_of_N([\u001b[39m0.7\u001b[39;49m,\u001b[39m0.8\u001b[39;49m,\u001b[39m0.9\u001b[39;49m,\u001b[39m1\u001b[39;49m],[\u001b[39m0\u001b[39;49m,\u001b[39m.5\u001b[39;49m,\u001b[39m1\u001b[39;49m,\u001b[39m2\u001b[39;49m],recalc\u001b[39m=\u001b[39;49m\u001b[39mTrue\u001b[39;49;00m,thiscsv\u001b[39m=\u001b[39;49mfn,clinTF\u001b[39m=\u001b[39;49mclinTF,REPS\u001b[39m=\u001b[39;49m\u001b[39m10000\u001b[39;49m,maxN\u001b[39m=\u001b[39;49m\u001b[39m1500\u001b[39;49m,DRG\u001b[39m=\u001b[39;49m\u001b[39m0.2\u001b[39;49m,mini\u001b[39m=\u001b[39;49mmini,inflater\u001b[39m=\u001b[39;49minflater)\n\u001b[1;32m     <a href='vscode-notebook-cell:/Users/dgodenh/Documents/GitHub/WEARsimulator/runner_mini.ipynb#X20sZmlsZQ%3D%3D?line=17'>18</a>\u001b[0m drawGrid(fn,clinTF\u001b[39m=\u001b[39mclinTF)\n",
      "File \u001b[0;32m~/Documents/GitHub/WEARsimulator/weargroup_v2.py:169\u001b[0m, in \u001b[0;36mbuildSET_of_N\u001b[0;34m(senseLIST, farLIST, recalc, thiscsv, clinTF, REPS, maxN, DRG, mini, inflater)\u001b[0m\n\u001b[1;32m    167\u001b[0m \u001b[39mfor\u001b[39;00m FAR \u001b[39min\u001b[39;00m farLIST:\n\u001b[1;32m    168\u001b[0m     fn \u001b[39m=\u001b[39m \u001b[39mf\u001b[39m\u001b[39m'\u001b[39m\u001b[39m{\u001b[39;00mthedir\u001b[39m}\u001b[39;00m\u001b[39m/PC_\u001b[39m\u001b[39m{\u001b[39;00mclinTF\u001b[39m}\u001b[39;00m\u001b[39m_sens\u001b[39m\u001b[39m{\u001b[39;00msensitivity\u001b[39m}\u001b[39;00m\u001b[39m_FAR\u001b[39m\u001b[39m{\u001b[39;00mFAR\u001b[39m}\u001b[39;00m\u001b[39m_\u001b[39m\u001b[39m{\u001b[39;00mREPS\u001b[39m}\u001b[39;00m\u001b[39mx\u001b[39m\u001b[39m{\u001b[39;00mmaxN\u001b[39m}\u001b[39;00m\u001b[39m_\u001b[39m\u001b[39m{\u001b[39;00minflater\u001b[39m}\u001b[39;00m\u001b[39m.npy\u001b[39m\u001b[39m'\u001b[39m\n\u001b[0;32m--> 169\u001b[0m     tRR,tMP \u001b[39m=\u001b[39m findThresh(fn\u001b[39m=\u001b[39;49mfn,numCPUs\u001b[39m=\u001b[39;49mnumCPUs,REPS\u001b[39m=\u001b[39;49mREPS,maxN\u001b[39m=\u001b[39;49mmaxN,DRG\u001b[39m=\u001b[39;49mDRG,PCB\u001b[39m=\u001b[39;49m\u001b[39m0\u001b[39;49m,minSz\u001b[39m=\u001b[39;49m\u001b[39m4\u001b[39;49m,\n\u001b[1;32m    170\u001b[0m             baseline\u001b[39m=\u001b[39;49m\u001b[39m2\u001b[39;49m,test\u001b[39m=\u001b[39;49m\u001b[39m3\u001b[39;49m,clinTF\u001b[39m=\u001b[39;49mclinTF,sensitivity\u001b[39m=\u001b[39;49msensitivity,FAR\u001b[39m=\u001b[39;49mFAR,recalc\u001b[39m=\u001b[39;49mrecalc,inflater\u001b[39m=\u001b[39;49minflater)\n\u001b[1;32m    171\u001b[0m     \u001b[39m#print(f'S={sensitivity} F={FAR} Threshold RR50 = {tRR} Threshold MPC = {tMP}')\u001b[39;00m\n\u001b[1;32m    172\u001b[0m     df \u001b[39m=\u001b[39m pd\u001b[39m.\u001b[39mDataFrame({\u001b[39m'\u001b[39m\u001b[39msensitivity\u001b[39m\u001b[39m'\u001b[39m:[sensitivity],\n\u001b[1;32m    173\u001b[0m                        \u001b[39m'\u001b[39m\u001b[39mFAR\u001b[39m\u001b[39m'\u001b[39m:[FAR],\n\u001b[1;32m    174\u001b[0m                        \u001b[39m'\u001b[39m\u001b[39mRR50\u001b[39m\u001b[39m'\u001b[39m:[tRR],\n\u001b[1;32m    175\u001b[0m                        \u001b[39m'\u001b[39m\u001b[39mMPC\u001b[39m\u001b[39m'\u001b[39m:[tMP]})\n",
      "File \u001b[0;32m~/Documents/GitHub/WEARsimulator/weargroup_v2.py:113\u001b[0m, in \u001b[0;36mfindThresh\u001b[0;34m(fn, numCPUs, REPS, maxN, DRG, PCB, minSz, baseline, test, clinTF, sensitivity, FAR, recalc, inflater)\u001b[0m\n\u001b[1;32m    110\u001b[0m \u001b[39mdef\u001b[39;00m \u001b[39mfindThresh\u001b[39m(fn,numCPUs,REPS,maxN,DRG,PCB,minSz,baseline,test,clinTF,sensitivity,FAR,recalc\u001b[39m=\u001b[39m\u001b[39mTrue\u001b[39;00m,inflater\u001b[39m=\u001b[39m\u001b[39m2\u001b[39m):\n\u001b[1;32m    112\u001b[0m     \u001b[39mif\u001b[39;00m recalc\u001b[39m==\u001b[39m\u001b[39mTrue\u001b[39;00m:\n\u001b[0;32m--> 113\u001b[0m         allPCs \u001b[39m=\u001b[39m buildPCsets(fn,numCPUs,REPS,maxN,DRG,PCB,minSz,baseline,test,clinTF,sensitivity,FAR,inflater)\n\u001b[1;32m    114\u001b[0m     \u001b[39melse\u001b[39;00m:\n\u001b[1;32m    115\u001b[0m         \u001b[39mprint\u001b[39m(\u001b[39m'\u001b[39m\u001b[39mLoading...\u001b[39m\u001b[39m'\u001b[39m,end\u001b[39m=\u001b[39m\u001b[39m'\u001b[39m\u001b[39m'\u001b[39m)\n",
      "File \u001b[0;32m~/Documents/GitHub/WEARsimulator/weargroup_v2.py:129\u001b[0m, in \u001b[0;36mbuildPCsets\u001b[0;34m(fn, numCPUs, REPS, maxN, DRG, PCB, minSz, baseline, test, clinTF, sensitivity, FAR, inflater)\u001b[0m\n\u001b[1;32m    126\u001b[0m T1 \u001b[39m=\u001b[39m time\u001b[39m.\u001b[39mtime()\n\u001b[1;32m    128\u001b[0m \u001b[39mwith\u001b[39;00m Parallel(n_jobs\u001b[39m=\u001b[39mnumCPUs, verbose\u001b[39m=\u001b[39m\u001b[39mFalse\u001b[39;00m) \u001b[39mas\u001b[39;00m par:\n\u001b[0;32m--> 129\u001b[0m     temp \u001b[39m=\u001b[39m par(delayed(build_a_trial)(N,halfN,DRG,PCB,minSz,baseline,test,clinTF,sensitivity,FAR,inflater) \u001b[39mfor\u001b[39;49;00m _ \u001b[39min\u001b[39;49;00m trange(REPS,desc\u001b[39m=\u001b[39;49m\u001b[39m'\u001b[39;49m\u001b[39mtrials\u001b[39;49m\u001b[39m'\u001b[39;49m))\n\u001b[1;32m    130\u001b[0m allPCs \u001b[39m=\u001b[39m np\u001b[39m.\u001b[39marray(temp,dtype\u001b[39m=\u001b[39m\u001b[39mfloat\u001b[39m)\n\u001b[1;32m    132\u001b[0m delT \u001b[39m=\u001b[39m np\u001b[39m.\u001b[39mround((time\u001b[39m.\u001b[39mtime()\u001b[39m-\u001b[39mT1)\u001b[39m/\u001b[39m\u001b[39m60\u001b[39m)\n",
      "File \u001b[0;32m~/miniforge3/lib/python3.9/site-packages/joblib/parallel.py:1056\u001b[0m, in \u001b[0;36mParallel.__call__\u001b[0;34m(self, iterable)\u001b[0m\n\u001b[1;32m   1053\u001b[0m     \u001b[39mself\u001b[39m\u001b[39m.\u001b[39m_iterating \u001b[39m=\u001b[39m \u001b[39mFalse\u001b[39;00m\n\u001b[1;32m   1055\u001b[0m \u001b[39mwith\u001b[39;00m \u001b[39mself\u001b[39m\u001b[39m.\u001b[39m_backend\u001b[39m.\u001b[39mretrieval_context():\n\u001b[0;32m-> 1056\u001b[0m     \u001b[39mself\u001b[39;49m\u001b[39m.\u001b[39;49mretrieve()\n\u001b[1;32m   1057\u001b[0m \u001b[39m# Make sure that we get a last message telling us we are done\u001b[39;00m\n\u001b[1;32m   1058\u001b[0m elapsed_time \u001b[39m=\u001b[39m time\u001b[39m.\u001b[39mtime() \u001b[39m-\u001b[39m \u001b[39mself\u001b[39m\u001b[39m.\u001b[39m_start_time\n",
      "File \u001b[0;32m~/miniforge3/lib/python3.9/site-packages/joblib/parallel.py:935\u001b[0m, in \u001b[0;36mParallel.retrieve\u001b[0;34m(self)\u001b[0m\n\u001b[1;32m    933\u001b[0m \u001b[39mtry\u001b[39;00m:\n\u001b[1;32m    934\u001b[0m     \u001b[39mif\u001b[39;00m \u001b[39mgetattr\u001b[39m(\u001b[39mself\u001b[39m\u001b[39m.\u001b[39m_backend, \u001b[39m'\u001b[39m\u001b[39msupports_timeout\u001b[39m\u001b[39m'\u001b[39m, \u001b[39mFalse\u001b[39;00m):\n\u001b[0;32m--> 935\u001b[0m         \u001b[39mself\u001b[39m\u001b[39m.\u001b[39m_output\u001b[39m.\u001b[39mextend(job\u001b[39m.\u001b[39;49mget(timeout\u001b[39m=\u001b[39;49m\u001b[39mself\u001b[39;49m\u001b[39m.\u001b[39;49mtimeout))\n\u001b[1;32m    936\u001b[0m     \u001b[39melse\u001b[39;00m:\n\u001b[1;32m    937\u001b[0m         \u001b[39mself\u001b[39m\u001b[39m.\u001b[39m_output\u001b[39m.\u001b[39mextend(job\u001b[39m.\u001b[39mget())\n",
      "File \u001b[0;32m~/miniforge3/lib/python3.9/site-packages/joblib/_parallel_backends.py:542\u001b[0m, in \u001b[0;36mLokyBackend.wrap_future_result\u001b[0;34m(future, timeout)\u001b[0m\n\u001b[1;32m    539\u001b[0m \u001b[39m\"\"\"Wrapper for Future.result to implement the same behaviour as\u001b[39;00m\n\u001b[1;32m    540\u001b[0m \u001b[39mAsyncResults.get from multiprocessing.\"\"\"\u001b[39;00m\n\u001b[1;32m    541\u001b[0m \u001b[39mtry\u001b[39;00m:\n\u001b[0;32m--> 542\u001b[0m     \u001b[39mreturn\u001b[39;00m future\u001b[39m.\u001b[39;49mresult(timeout\u001b[39m=\u001b[39;49mtimeout)\n\u001b[1;32m    543\u001b[0m \u001b[39mexcept\u001b[39;00m CfTimeoutError \u001b[39mas\u001b[39;00m e:\n\u001b[1;32m    544\u001b[0m     \u001b[39mraise\u001b[39;00m \u001b[39mTimeoutError\u001b[39;00m \u001b[39mfrom\u001b[39;00m \u001b[39me\u001b[39;00m\n",
      "File \u001b[0;32m~/miniforge3/lib/python3.9/concurrent/futures/_base.py:441\u001b[0m, in \u001b[0;36mFuture.result\u001b[0;34m(self, timeout)\u001b[0m\n\u001b[1;32m    438\u001b[0m \u001b[39melif\u001b[39;00m \u001b[39mself\u001b[39m\u001b[39m.\u001b[39m_state \u001b[39m==\u001b[39m FINISHED:\n\u001b[1;32m    439\u001b[0m     \u001b[39mreturn\u001b[39;00m \u001b[39mself\u001b[39m\u001b[39m.\u001b[39m__get_result()\n\u001b[0;32m--> 441\u001b[0m \u001b[39mself\u001b[39;49m\u001b[39m.\u001b[39;49m_condition\u001b[39m.\u001b[39;49mwait(timeout)\n\u001b[1;32m    443\u001b[0m \u001b[39mif\u001b[39;00m \u001b[39mself\u001b[39m\u001b[39m.\u001b[39m_state \u001b[39min\u001b[39;00m [CANCELLED, CANCELLED_AND_NOTIFIED]:\n\u001b[1;32m    444\u001b[0m     \u001b[39mraise\u001b[39;00m CancelledError()\n",
      "File \u001b[0;32m~/miniforge3/lib/python3.9/threading.py:312\u001b[0m, in \u001b[0;36mCondition.wait\u001b[0;34m(self, timeout)\u001b[0m\n\u001b[1;32m    310\u001b[0m \u001b[39mtry\u001b[39;00m:    \u001b[39m# restore state no matter what (e.g., KeyboardInterrupt)\u001b[39;00m\n\u001b[1;32m    311\u001b[0m     \u001b[39mif\u001b[39;00m timeout \u001b[39mis\u001b[39;00m \u001b[39mNone\u001b[39;00m:\n\u001b[0;32m--> 312\u001b[0m         waiter\u001b[39m.\u001b[39;49macquire()\n\u001b[1;32m    313\u001b[0m         gotit \u001b[39m=\u001b[39m \u001b[39mTrue\u001b[39;00m\n\u001b[1;32m    314\u001b[0m     \u001b[39melse\u001b[39;00m:\n",
      "\u001b[0;31mKeyboardInterrupt\u001b[0m: "
     ]
    }
   ],
   "source": [
    "%reload_ext autoreload\n",
    "%autoreload 2\n",
    "import numpy as np\n",
    "from weargroup_v2 import buildSET_of_N,drawGrid\n",
    "mini=True\n",
    "clinTF = False\n",
    "fn = f'tryA_{clinTF}_inf1_3.csv'\n",
    "inflater = 1\n",
    "buildSET_of_N([0.7,0.8,0.9,1],[0,.5,1,2],recalc=True,thiscsv=fn,clinTF=clinTF,REPS=10000,maxN=1500,DRG=0.2,mini=mini,inflater=inflater)\n",
    "drawGrid(fn,clinTF=clinTF)\n",
    "fn = f'tryA_{clinTF}_inf1.csv'\n",
    "inflater = 1\n",
    "buildSET_of_N([0.7,0.8,0.9,1],[0,.5,1,2],recalc=True,thiscsv=fn,clinTF=clinTF,REPS=10000,maxN=1500,DRG=0.2,mini=mini,inflater=inflater)\n",
    "drawGrid(fn,clinTF=clinTF)\n",
    "#inflater = 4/3\n",
    "#fn = f'tryA_{clinTF}_inf4_3.csv'\n",
    "#buildSET_of_N([0.7,0.8,0.9,1],[0,.5,1,2],recalc=True,thiscsv=fn,clinTF=clinTF,REPS=10000,maxN=1500,DRG=0.2,mini=mini,inflater=inflater)\n",
    "#drawGrid(fn,clinTF=clinTF)"
   ]
  },
  {
   "cell_type": "code",
   "execution_count": 1,
   "metadata": {},
   "outputs": [
    {
     "data": {
      "application/vnd.jupyter.widget-view+json": {
       "model_id": "4b921b8ce0f04ab29e90bf6aa81b9c23",
       "version_major": 2,
       "version_minor": 0
      },
      "text/plain": [
       "trials:   0%|          | 0/10000 [00:00<?, ?it/s]"
      ]
     },
     "metadata": {},
     "output_type": "display_data"
    },
    {
     "name": "stdout",
     "output_type": "stream",
     "text": [
      "Calculating wins = 25.0 minutes\n",
      "Saving....\n",
      "Threshold ...805. runtime = 1.0 minutes\n",
      "Threshold ...460. runtime = 0.0 minutes\n",
      "   sensitivity  FAR  RR50  MPC\n",
      "0          0.7    0   805  460\n"
     ]
    },
    {
     "data": {
      "application/vnd.jupyter.widget-view+json": {
       "model_id": "e18e92c24ddd4300b416ec76fe6e0070",
       "version_major": 2,
       "version_minor": 0
      },
      "text/plain": [
       "trials:   0%|          | 0/10000 [00:00<?, ?it/s]"
      ]
     },
     "metadata": {},
     "output_type": "display_data"
    },
    {
     "name": "stdout",
     "output_type": "stream",
     "text": [
      "Calculating wins = 18.0 minutes\n",
      "Saving....\n",
      "Threshold ...1495. runtime = 2.0 minutes\n",
      "Threshold ...665. runtime = 1.0 minutes\n",
      "   sensitivity  FAR  RR50  MPC\n",
      "0          0.7  0.5  1495  665\n"
     ]
    },
    {
     "data": {
      "application/vnd.jupyter.widget-view+json": {
       "model_id": "07bc7e9b450c42e2811aa8be6e2eeb5a",
       "version_major": 2,
       "version_minor": 0
      },
      "text/plain": [
       "trials:   0%|          | 0/10000 [00:00<?, ?it/s]"
      ]
     },
     "metadata": {},
     "output_type": "display_data"
    },
    {
     "name": "stdout",
     "output_type": "stream",
     "text": [
      "Calculating wins = 18.0 minutes\n",
      "Saving....\n",
      "Threshold ...1495. runtime = 3.0 minutes\n",
      "Threshold ...735. runtime = 1.0 minutes\n",
      "   sensitivity  FAR  RR50  MPC\n",
      "0          0.7    1  1495  735\n"
     ]
    },
    {
     "data": {
      "application/vnd.jupyter.widget-view+json": {
       "model_id": "91caf0d3f0f141e594460bcdda222307",
       "version_major": 2,
       "version_minor": 0
      },
      "text/plain": [
       "trials:   0%|          | 0/10000 [00:00<?, ?it/s]"
      ]
     },
     "metadata": {},
     "output_type": "display_data"
    },
    {
     "name": "stdout",
     "output_type": "stream",
     "text": [
      "Calculating wins = 18.0 minutes\n",
      "Saving....\n",
      "Threshold ...1495. runtime = 3.0 minutes\n",
      "Threshold ...840. runtime = 1.0 minutes\n",
      "   sensitivity  FAR  RR50  MPC\n",
      "0          0.7    2  1495  840\n"
     ]
    },
    {
     "data": {
      "application/vnd.jupyter.widget-view+json": {
       "model_id": "530f449376ec48338414838ca26aa058",
       "version_major": 2,
       "version_minor": 0
      },
      "text/plain": [
       "trials:   0%|          | 0/10000 [00:00<?, ?it/s]"
      ]
     },
     "metadata": {},
     "output_type": "display_data"
    },
    {
     "name": "stdout",
     "output_type": "stream",
     "text": [
      "Calculating wins = 23.0 minutes\n",
      "Saving....\n",
      "Threshold ...800. runtime = 1.0 minutes\n",
      "Threshold ...440. runtime = 0.0 minutes\n",
      "   sensitivity  FAR  RR50  MPC\n",
      "0          0.8    0   800  440\n"
     ]
    },
    {
     "data": {
      "application/vnd.jupyter.widget-view+json": {
       "model_id": "02480efe8c9a4a50ae5d76bea7829f87",
       "version_major": 2,
       "version_minor": 0
      },
      "text/plain": [
       "trials:   0%|          | 0/10000 [00:00<?, ?it/s]"
      ]
     },
     "metadata": {},
     "output_type": "display_data"
    },
    {
     "name": "stdout",
     "output_type": "stream",
     "text": [
      "Calculating wins = 18.0 minutes\n",
      "Saving....\n",
      "Threshold ...1495. runtime = 2.0 minutes\n",
      "Threshold ...640. runtime = 1.0 minutes\n",
      "   sensitivity  FAR  RR50  MPC\n",
      "0          0.8  0.5  1495  640\n"
     ]
    },
    {
     "data": {
      "application/vnd.jupyter.widget-view+json": {
       "model_id": "b8a9dee115a542c8a214391dcb0b5bb3",
       "version_major": 2,
       "version_minor": 0
      },
      "text/plain": [
       "trials:   0%|          | 0/10000 [00:00<?, ?it/s]"
      ]
     },
     "metadata": {},
     "output_type": "display_data"
    },
    {
     "name": "stdout",
     "output_type": "stream",
     "text": [
      "Calculating wins = 18.0 minutes\n",
      "Saving....\n",
      "Threshold ...1495. runtime = 3.0 minutes\n",
      "Threshold ...705. runtime = 1.0 minutes\n",
      "   sensitivity  FAR  RR50  MPC\n",
      "0          0.8    1  1495  705\n"
     ]
    },
    {
     "data": {
      "application/vnd.jupyter.widget-view+json": {
       "model_id": "02a4bef382f34fada2b61bf5bab1048e",
       "version_major": 2,
       "version_minor": 0
      },
      "text/plain": [
       "trials:   0%|          | 0/10000 [00:00<?, ?it/s]"
      ]
     },
     "metadata": {},
     "output_type": "display_data"
    },
    {
     "name": "stdout",
     "output_type": "stream",
     "text": [
      "Calculating wins = 18.0 minutes\n",
      "Saving....\n",
      "Threshold ...1495. runtime = 3.0 minutes\n",
      "Threshold ...790. runtime = 1.0 minutes\n",
      "   sensitivity  FAR  RR50  MPC\n",
      "0          0.8    2  1495  790\n"
     ]
    },
    {
     "data": {
      "application/vnd.jupyter.widget-view+json": {
       "model_id": "3fd1a9c876754acb8ec4df26ee059694",
       "version_major": 2,
       "version_minor": 0
      },
      "text/plain": [
       "trials:   0%|          | 0/10000 [00:00<?, ?it/s]"
      ]
     },
     "metadata": {},
     "output_type": "display_data"
    },
    {
     "name": "stdout",
     "output_type": "stream",
     "text": [
      "Calculating wins = 23.0 minutes\n",
      "Saving....\n",
      "Threshold ...800. runtime = 1.0 minutes\n",
      "Threshold ...440. runtime = 0.0 minutes\n",
      "   sensitivity  FAR  RR50  MPC\n",
      "0          0.9    0   800  440\n"
     ]
    },
    {
     "data": {
      "application/vnd.jupyter.widget-view+json": {
       "model_id": "079006e45e0d42d992a8c4fbf9697ce3",
       "version_major": 2,
       "version_minor": 0
      },
      "text/plain": [
       "trials:   0%|          | 0/10000 [00:00<?, ?it/s]"
      ]
     },
     "metadata": {},
     "output_type": "display_data"
    },
    {
     "name": "stdout",
     "output_type": "stream",
     "text": [
      "Calculating wins = 18.0 minutes\n",
      "Saving....\n",
      "Threshold ...1495. runtime = 2.0 minutes\n",
      "Threshold ...610. runtime = 1.0 minutes\n",
      "   sensitivity  FAR  RR50  MPC\n",
      "0          0.9  0.5  1495  610\n"
     ]
    },
    {
     "data": {
      "application/vnd.jupyter.widget-view+json": {
       "model_id": "140a60e851244c95b2b90842d6a39030",
       "version_major": 2,
       "version_minor": 0
      },
      "text/plain": [
       "trials:   0%|          | 0/10000 [00:00<?, ?it/s]"
      ]
     },
     "metadata": {},
     "output_type": "display_data"
    },
    {
     "name": "stdout",
     "output_type": "stream",
     "text": [
      "Calculating wins = 18.0 minutes\n",
      "Saving....\n",
      "Threshold ...1495. runtime = 3.0 minutes\n",
      "Threshold ...660. runtime = 1.0 minutes\n",
      "   sensitivity  FAR  RR50  MPC\n",
      "0          0.9    1  1495  660\n"
     ]
    },
    {
     "data": {
      "application/vnd.jupyter.widget-view+json": {
       "model_id": "4b5bb610f2cc4367b8f4b5ee976d1db8",
       "version_major": 2,
       "version_minor": 0
      },
      "text/plain": [
       "trials:   0%|          | 0/10000 [00:00<?, ?it/s]"
      ]
     },
     "metadata": {},
     "output_type": "display_data"
    },
    {
     "name": "stdout",
     "output_type": "stream",
     "text": [
      "Calculating wins = 18.0 minutes\n",
      "Saving....\n",
      "Threshold ...1495. runtime = 3.0 minutes\n",
      "Threshold ...765. runtime = 1.0 minutes\n",
      "   sensitivity  FAR  RR50  MPC\n",
      "0          0.9    2  1495  765\n"
     ]
    },
    {
     "data": {
      "application/vnd.jupyter.widget-view+json": {
       "model_id": "921e2ee6790b430dae4896d8b509949a",
       "version_major": 2,
       "version_minor": 0
      },
      "text/plain": [
       "trials:   0%|          | 0/10000 [00:00<?, ?it/s]"
      ]
     },
     "metadata": {},
     "output_type": "display_data"
    },
    {
     "name": "stdout",
     "output_type": "stream",
     "text": [
      "Calculating wins = 20.0 minutes\n",
      "Saving....\n",
      "Threshold ...815. runtime = 1.0 minutes\n",
      "Threshold ...435. runtime = 0.0 minutes\n",
      "   sensitivity  FAR  RR50  MPC\n",
      "0            1    0   815  435\n"
     ]
    },
    {
     "data": {
      "application/vnd.jupyter.widget-view+json": {
       "model_id": "13a878adabdd4c4aa59c37ec8d5ddf30",
       "version_major": 2,
       "version_minor": 0
      },
      "text/plain": [
       "trials:   0%|          | 0/10000 [00:00<?, ?it/s]"
      ]
     },
     "metadata": {},
     "output_type": "display_data"
    },
    {
     "name": "stdout",
     "output_type": "stream",
     "text": [
      "Calculating wins = 17.0 minutes\n",
      "Saving....\n",
      "Threshold ...1495. runtime = 2.0 minutes\n",
      "Threshold ...590. runtime = 1.0 minutes\n",
      "   sensitivity  FAR  RR50  MPC\n",
      "0            1  0.5  1495  590\n"
     ]
    },
    {
     "data": {
      "application/vnd.jupyter.widget-view+json": {
       "model_id": "fd7173573ff04384992c03d17bb15c1e",
       "version_major": 2,
       "version_minor": 0
      },
      "text/plain": [
       "trials:   0%|          | 0/10000 [00:00<?, ?it/s]"
      ]
     },
     "metadata": {},
     "output_type": "display_data"
    },
    {
     "name": "stdout",
     "output_type": "stream",
     "text": [
      "Calculating wins = 17.0 minutes\n",
      "Saving....\n",
      "Threshold ...1495. runtime = 2.0 minutes\n",
      "Threshold ...650. runtime = 1.0 minutes\n",
      "   sensitivity  FAR  RR50  MPC\n",
      "0            1    1  1495  650\n"
     ]
    },
    {
     "data": {
      "application/vnd.jupyter.widget-view+json": {
       "model_id": "3a987e2a61bc43cf91a0f4b9b029fe1f",
       "version_major": 2,
       "version_minor": 0
      },
      "text/plain": [
       "trials:   0%|          | 0/10000 [00:00<?, ?it/s]"
      ]
     },
     "metadata": {},
     "output_type": "display_data"
    },
    {
     "name": "stdout",
     "output_type": "stream",
     "text": [
      "Calculating wins = 17.0 minutes\n",
      "Saving....\n",
      "Threshold ...1495. runtime = 3.0 minutes\n",
      "Threshold ...730. runtime = 1.0 minutes\n",
      "   sensitivity  FAR  RR50  MPC\n",
      "0            1    2  1495  730\n",
      "   sensitivity  FAR  RR50  MPC\n",
      "0          0.7  0.0   805  460\n",
      "0          0.7  0.5  1495  665\n",
      "0          0.7  1.0  1495  735\n",
      "0          0.7  2.0  1495  840\n",
      "0          0.8  0.0   800  440\n",
      "0          0.8  0.5  1495  640\n",
      "0          0.8  1.0  1495  705\n",
      "0          0.8  2.0  1495  790\n",
      "0          0.9  0.0   800  440\n",
      "0          0.9  0.5  1495  610\n",
      "0          0.9  1.0  1495  660\n",
      "0          0.9  2.0  1495  765\n",
      "0          1.0  0.0   815  435\n",
      "0          1.0  0.5  1495  590\n",
      "0          1.0  1.0  1495  650\n",
      "0          1.0  2.0  1495  730\n"
     ]
    },
    {
     "data": {
      "image/png": "[encoded data removed]",
      "text/plain": [
       "<Figure size 720x360 with 4 Axes>"
      ]
     },
     "metadata": {
      "needs_background": "light"
     },
     "output_type": "display_data"
    }
   ],
   "source": [
    "%reload_ext autoreload\n",
    "%autoreload 2\n",
    "import numpy as np\n",
    "from weargroup_v2 import buildSET_of_N,drawGrid\n",
    "mini=True\n",
    "clinTF = False\n",
    "fn = f'tryA_{clinTF}_inf2_3.csv'\n",
    "inflater = 2/3\n",
    "buildSET_of_N([0.7,0.8,0.9,1],[0,.5,1,2],recalc=True,thiscsv=fn,clinTF=clinTF,REPS=10000,maxN=1500,DRG=0.2,mini=mini,inflater=inflater)\n",
    "drawGrid(fn,clinTF=clinTF)"
   ]
  },
  {
   "cell_type": "code",
   "execution_count": 2,
   "metadata": {},
   "outputs": [
    {
     "data": {
      "application/vnd.jupyter.widget-view+json": {
       "model_id": "bbbd56b2d3d14b6eb246e73809ed85f2",
       "version_major": 2,
       "version_minor": 0
      },
      "text/plain": [
       "trials:   0%|          | 0/10000 [00:00<?, ?it/s]"
      ]
     },
     "metadata": {},
     "output_type": "display_data"
    },
    {
     "name": "stdout",
     "output_type": "stream",
     "text": [
      "Calculating wins = 42.0 minutes\n",
      "Saving....\n",
      "Threshold ...895. runtime = 1.0 minutes\n",
      "Threshold ...530. runtime = 1.0 minutes\n",
      "   sensitivity  FAR  RR50  MPC\n",
      "0          0.7    0   895  530\n"
     ]
    },
    {
     "data": {
      "application/vnd.jupyter.widget-view+json": {
       "model_id": "f5bed9dddb4a428ba1ae95519c3da65f",
       "version_major": 2,
       "version_minor": 0
      },
      "text/plain": [
       "trials:   0%|          | 0/10000 [00:00<?, ?it/s]"
      ]
     },
     "metadata": {},
     "output_type": "display_data"
    },
    {
     "name": "stdout",
     "output_type": "stream",
     "text": [
      "Calculating wins = 25.0 minutes\n",
      "Saving....\n",
      "Threshold ...1495. runtime = 2.0 minutes\n",
      "Threshold ...685. runtime = 1.0 minutes\n",
      "   sensitivity  FAR  RR50  MPC\n",
      "0          0.7  0.1  1495  685\n"
     ]
    },
    {
     "data": {
      "application/vnd.jupyter.widget-view+json": {
       "model_id": "803d6216b4194535ad50c95e240692be",
       "version_major": 2,
       "version_minor": 0
      },
      "text/plain": [
       "trials:   0%|          | 0/10000 [00:00<?, ?it/s]"
      ]
     },
     "metadata": {},
     "output_type": "display_data"
    },
    {
     "name": "stdout",
     "output_type": "stream",
     "text": [
      "Calculating wins = 18.0 minutes\n",
      "Saving....\n",
      "Threshold ...1495. runtime = 2.0 minutes\n",
      "Threshold ...955. runtime = 1.0 minutes\n",
      "   sensitivity  FAR  RR50  MPC\n",
      "0          0.7  0.2  1495  955\n"
     ]
    },
    {
     "data": {
      "application/vnd.jupyter.widget-view+json": {
       "model_id": "51ffda5957024cb99ca4be1776ffd6c9",
       "version_major": 2,
       "version_minor": 0
      },
      "text/plain": [
       "trials:   0%|          | 0/10000 [00:00<?, ?it/s]"
      ]
     },
     "metadata": {},
     "output_type": "display_data"
    },
    {
     "name": "stdout",
     "output_type": "stream",
     "text": [
      "Calculating wins = 18.0 minutes\n",
      "Saving....\n",
      "Threshold ...1495. runtime = 2.0 minutes\n",
      "Threshold ...970. runtime = 1.0 minutes\n",
      "   sensitivity  FAR  RR50  MPC\n",
      "0          0.7  0.3  1495  970\n"
     ]
    },
    {
     "data": {
      "application/vnd.jupyter.widget-view+json": {
       "model_id": "eb1058fdf60348009fbcff32d67f94d8",
       "version_major": 2,
       "version_minor": 0
      },
      "text/plain": [
       "trials:   0%|          | 0/10000 [00:00<?, ?it/s]"
      ]
     },
     "metadata": {},
     "output_type": "display_data"
    },
    {
     "name": "stdout",
     "output_type": "stream",
     "text": [
      "Calculating wins = 18.0 minutes\n",
      "Saving....\n",
      "Threshold ...1495. runtime = 3.0 minutes\n",
      "Threshold ...980. runtime = 1.0 minutes\n",
      "   sensitivity  FAR  RR50  MPC\n",
      "0          0.7  0.5  1495  980\n"
     ]
    },
    {
     "data": {
      "application/vnd.jupyter.widget-view+json": {
       "model_id": "a5edb6693edc4ef483319704500440e2",
       "version_major": 2,
       "version_minor": 0
      },
      "text/plain": [
       "trials:   0%|          | 0/10000 [00:00<?, ?it/s]"
      ]
     },
     "metadata": {},
     "output_type": "display_data"
    },
    {
     "name": "stdout",
     "output_type": "stream",
     "text": [
      "Calculating wins = 18.0 minutes\n",
      "Saving....\n",
      "Threshold ...1495. runtime = 3.0 minutes\n",
      "Threshold ...1000. runtime = 1.0 minutes\n",
      "   sensitivity  FAR  RR50   MPC\n",
      "0          0.7    1  1495  1000\n"
     ]
    },
    {
     "data": {
      "application/vnd.jupyter.widget-view+json": {
       "model_id": "12373636212f463ba3b5934b399c30ad",
       "version_major": 2,
       "version_minor": 0
      },
      "text/plain": [
       "trials:   0%|          | 0/10000 [00:00<?, ?it/s]"
      ]
     },
     "metadata": {},
     "output_type": "display_data"
    },
    {
     "name": "stdout",
     "output_type": "stream",
     "text": [
      "Calculating wins = 18.0 minutes\n",
      "Saving....\n",
      "Threshold ...1495. runtime = 2.0 minutes\n",
      "Threshold ...1075. runtime = 1.0 minutes\n",
      "   sensitivity  FAR  RR50   MPC\n",
      "0          0.7    2  1495  1075\n"
     ]
    },
    {
     "data": {
      "application/vnd.jupyter.widget-view+json": {
       "model_id": "97de87e29d094d9484b5eb02930d6077",
       "version_major": 2,
       "version_minor": 0
      },
      "text/plain": [
       "trials:   0%|          | 0/10000 [00:00<?, ?it/s]"
      ]
     },
     "metadata": {},
     "output_type": "display_data"
    },
    {
     "name": "stdout",
     "output_type": "stream",
     "text": [
      "Calculating wins = 39.0 minutes\n",
      "Saving....\n",
      "Threshold ...875. runtime = 1.0 minutes\n",
      "Threshold ...530. runtime = 1.0 minutes\n",
      "   sensitivity  FAR  RR50  MPC\n",
      "0          0.8    0   875  530\n"
     ]
    },
    {
     "data": {
      "application/vnd.jupyter.widget-view+json": {
       "model_id": "96f87e52e8f442bfa23954f824d92b63",
       "version_major": 2,
       "version_minor": 0
      },
      "text/plain": [
       "trials:   0%|          | 0/10000 [00:00<?, ?it/s]"
      ]
     },
     "metadata": {},
     "output_type": "display_data"
    },
    {
     "name": "stdout",
     "output_type": "stream",
     "text": [
      "Calculating wins = 24.0 minutes\n",
      "Saving....\n",
      "Threshold ...1495. runtime = 2.0 minutes\n",
      "Threshold ...660. runtime = 1.0 minutes\n",
      "   sensitivity  FAR  RR50  MPC\n",
      "0          0.8  0.1  1495  660\n"
     ]
    },
    {
     "data": {
      "application/vnd.jupyter.widget-view+json": {
       "model_id": "2587012d6d074be0a7c5e002e1bff1b3",
       "version_major": 2,
       "version_minor": 0
      },
      "text/plain": [
       "trials:   0%|          | 0/10000 [00:00<?, ?it/s]"
      ]
     },
     "metadata": {},
     "output_type": "display_data"
    },
    {
     "name": "stdout",
     "output_type": "stream",
     "text": [
      "Calculating wins = 18.0 minutes\n",
      "Saving....\n",
      "Threshold ...1495. runtime = 2.0 minutes\n",
      "Threshold ...900. runtime = 1.0 minutes\n",
      "   sensitivity  FAR  RR50  MPC\n",
      "0          0.8  0.2  1495  900\n"
     ]
    },
    {
     "data": {
      "application/vnd.jupyter.widget-view+json": {
       "model_id": "fc292011ad49441691c860adbdcb3da7",
       "version_major": 2,
       "version_minor": 0
      },
      "text/plain": [
       "trials:   0%|          | 0/10000 [00:00<?, ?it/s]"
      ]
     },
     "metadata": {},
     "output_type": "display_data"
    },
    {
     "name": "stdout",
     "output_type": "stream",
     "text": [
      "Calculating wins = 18.0 minutes\n",
      "Saving....\n",
      "Threshold ...1495. runtime = 2.0 minutes\n",
      "Threshold ...910. runtime = 1.0 minutes\n",
      "   sensitivity  FAR  RR50  MPC\n",
      "0          0.8  0.3  1495  910\n"
     ]
    },
    {
     "data": {
      "application/vnd.jupyter.widget-view+json": {
       "model_id": "0f4ea3c7f5fa476d8628240de44aacce",
       "version_major": 2,
       "version_minor": 0
      },
      "text/plain": [
       "trials:   0%|          | 0/10000 [00:00<?, ?it/s]"
      ]
     },
     "metadata": {},
     "output_type": "display_data"
    },
    {
     "name": "stdout",
     "output_type": "stream",
     "text": [
      "Calculating wins = 18.0 minutes\n",
      "Saving....\n",
      "Threshold ...1495. runtime = 3.0 minutes\n",
      "Threshold ...915. runtime = 1.0 minutes\n",
      "   sensitivity  FAR  RR50  MPC\n",
      "0          0.8  0.5  1495  915\n"
     ]
    },
    {
     "data": {
      "application/vnd.jupyter.widget-view+json": {
       "model_id": "ea2425cdb78041b28f15b8222c9071fd",
       "version_major": 2,
       "version_minor": 0
      },
      "text/plain": [
       "trials:   0%|          | 0/10000 [00:00<?, ?it/s]"
      ]
     },
     "metadata": {},
     "output_type": "display_data"
    },
    {
     "name": "stdout",
     "output_type": "stream",
     "text": [
      "Calculating wins = 18.0 minutes\n",
      "Saving....\n",
      "Threshold ...1495. runtime = 3.0 minutes\n",
      "Threshold ...950. runtime = 1.0 minutes\n",
      "   sensitivity  FAR  RR50  MPC\n",
      "0          0.8    1  1495  950\n"
     ]
    },
    {
     "data": {
      "application/vnd.jupyter.widget-view+json": {
       "model_id": "5b51bf00bdf04ffa9d56d70f988b3c45",
       "version_major": 2,
       "version_minor": 0
      },
      "text/plain": [
       "trials:   0%|          | 0/10000 [00:00<?, ?it/s]"
      ]
     },
     "metadata": {},
     "output_type": "display_data"
    },
    {
     "name": "stdout",
     "output_type": "stream",
     "text": [
      "Calculating wins = 18.0 minutes\n",
      "Saving....\n",
      "Threshold ...1495. runtime = 2.0 minutes\n",
      "Threshold ...1020. runtime = 1.0 minutes\n",
      "   sensitivity  FAR  RR50   MPC\n",
      "0          0.8    2  1495  1020\n"
     ]
    },
    {
     "data": {
      "application/vnd.jupyter.widget-view+json": {
       "model_id": "39e3ef257d8f4fda816be84deec4929f",
       "version_major": 2,
       "version_minor": 0
      },
      "text/plain": [
       "trials:   0%|          | 0/10000 [00:00<?, ?it/s]"
      ]
     },
     "metadata": {},
     "output_type": "display_data"
    },
    {
     "name": "stdout",
     "output_type": "stream",
     "text": [
      "Calculating wins = 37.0 minutes\n",
      "Saving....\n",
      "Threshold ...860. runtime = 1.0 minutes\n",
      "Threshold ...520. runtime = 1.0 minutes\n",
      "   sensitivity  FAR  RR50  MPC\n",
      "0          0.9    0   860  520\n"
     ]
    },
    {
     "data": {
      "application/vnd.jupyter.widget-view+json": {
       "model_id": "f646d629a4c14d3fa608774a1605eab9",
       "version_major": 2,
       "version_minor": 0
      },
      "text/plain": [
       "trials:   0%|          | 0/10000 [00:00<?, ?it/s]"
      ]
     },
     "metadata": {},
     "output_type": "display_data"
    },
    {
     "name": "stdout",
     "output_type": "stream",
     "text": [
      "Calculating wins = 24.0 minutes\n",
      "Saving....\n",
      "Threshold ...1495. runtime = 2.0 minutes\n",
      "Threshold ...640. runtime = 1.0 minutes\n",
      "   sensitivity  FAR  RR50  MPC\n",
      "0          0.9  0.1  1495  640\n"
     ]
    },
    {
     "data": {
      "application/vnd.jupyter.widget-view+json": {
       "model_id": "014f656dac7841df8b199043669a0b5e",
       "version_major": 2,
       "version_minor": 0
      },
      "text/plain": [
       "trials:   0%|          | 0/10000 [00:00<?, ?it/s]"
      ]
     },
     "metadata": {},
     "output_type": "display_data"
    },
    {
     "name": "stdout",
     "output_type": "stream",
     "text": [
      "Calculating wins = 18.0 minutes\n",
      "Saving....\n",
      "Threshold ...1495. runtime = 2.0 minutes\n",
      "Threshold ...850. runtime = 1.0 minutes\n",
      "   sensitivity  FAR  RR50  MPC\n",
      "0          0.9  0.2  1495  850\n"
     ]
    },
    {
     "data": {
      "application/vnd.jupyter.widget-view+json": {
       "model_id": "440d8faf9a954630903d44cd401e0be4",
       "version_major": 2,
       "version_minor": 0
      },
      "text/plain": [
       "trials:   0%|          | 0/10000 [00:00<?, ?it/s]"
      ]
     },
     "metadata": {},
     "output_type": "display_data"
    },
    {
     "name": "stdout",
     "output_type": "stream",
     "text": [
      "Calculating wins = 18.0 minutes\n",
      "Saving....\n",
      "Threshold ...1495. runtime = 2.0 minutes\n",
      "Threshold ...875. runtime = 1.0 minutes\n",
      "   sensitivity  FAR  RR50  MPC\n",
      "0          0.9  0.3  1495  875\n"
     ]
    },
    {
     "data": {
      "application/vnd.jupyter.widget-view+json": {
       "model_id": "ebd97c342b8c4ac6a5e4d4b2505e7bb0",
       "version_major": 2,
       "version_minor": 0
      },
      "text/plain": [
       "trials:   0%|          | 0/10000 [00:00<?, ?it/s]"
      ]
     },
     "metadata": {},
     "output_type": "display_data"
    },
    {
     "name": "stdout",
     "output_type": "stream",
     "text": [
      "Calculating wins = 18.0 minutes\n",
      "Saving....\n",
      "Threshold ...1495. runtime = 3.0 minutes\n",
      "Threshold ...885. runtime = 1.0 minutes\n",
      "   sensitivity  FAR  RR50  MPC\n",
      "0          0.9  0.5  1495  885\n"
     ]
    },
    {
     "data": {
      "application/vnd.jupyter.widget-view+json": {
       "model_id": "a8b844fb2d104accba4969a2b704067d",
       "version_major": 2,
       "version_minor": 0
      },
      "text/plain": [
       "trials:   0%|          | 0/10000 [00:00<?, ?it/s]"
      ]
     },
     "metadata": {},
     "output_type": "display_data"
    },
    {
     "name": "stdout",
     "output_type": "stream",
     "text": [
      "Calculating wins = 18.0 minutes\n",
      "Saving....\n",
      "Threshold ...1495. runtime = 3.0 minutes\n",
      "Threshold ...915. runtime = 1.0 minutes\n",
      "   sensitivity  FAR  RR50  MPC\n",
      "0          0.9    1  1495  915\n"
     ]
    },
    {
     "data": {
      "application/vnd.jupyter.widget-view+json": {
       "model_id": "c305923a4b324bc4a20f3dc066584faf",
       "version_major": 2,
       "version_minor": 0
      },
      "text/plain": [
       "trials:   0%|          | 0/10000 [00:00<?, ?it/s]"
      ]
     },
     "metadata": {},
     "output_type": "display_data"
    },
    {
     "name": "stdout",
     "output_type": "stream",
     "text": [
      "Calculating wins = 18.0 minutes\n",
      "Saving....\n",
      "Threshold ...1495. runtime = 2.0 minutes\n",
      "Threshold ...980. runtime = 1.0 minutes\n",
      "   sensitivity  FAR  RR50  MPC\n",
      "0          0.9    2  1495  980\n"
     ]
    },
    {
     "data": {
      "application/vnd.jupyter.widget-view+json": {
       "model_id": "24520bf06a8840d58da88d69dba7c870",
       "version_major": 2,
       "version_minor": 0
      },
      "text/plain": [
       "trials:   0%|          | 0/10000 [00:00<?, ?it/s]"
      ]
     },
     "metadata": {},
     "output_type": "display_data"
    },
    {
     "name": "stdout",
     "output_type": "stream",
     "text": [
      "Calculating wins = 33.0 minutes\n",
      "Saving....\n",
      "Threshold ...865. runtime = 1.0 minutes\n",
      "Threshold ...515. runtime = 1.0 minutes\n",
      "   sensitivity  FAR  RR50  MPC\n",
      "0            1    0   865  515\n"
     ]
    },
    {
     "data": {
      "application/vnd.jupyter.widget-view+json": {
       "model_id": "be052488b548475c82f50d90e4b42371",
       "version_major": 2,
       "version_minor": 0
      },
      "text/plain": [
       "trials:   0%|          | 0/10000 [00:00<?, ?it/s]"
      ]
     },
     "metadata": {},
     "output_type": "display_data"
    },
    {
     "name": "stdout",
     "output_type": "stream",
     "text": [
      "Calculating wins = 22.0 minutes\n",
      "Saving....\n",
      "Threshold ...1495. runtime = 2.0 minutes\n",
      "Threshold ...640. runtime = 1.0 minutes\n",
      "   sensitivity  FAR  RR50  MPC\n",
      "0            1  0.1  1495  640\n"
     ]
    },
    {
     "data": {
      "application/vnd.jupyter.widget-view+json": {
       "model_id": "a04ecf4d91084efb8bc97ad6f26c8132",
       "version_major": 2,
       "version_minor": 0
      },
      "text/plain": [
       "trials:   0%|          | 0/10000 [00:00<?, ?it/s]"
      ]
     },
     "metadata": {},
     "output_type": "display_data"
    },
    {
     "name": "stdout",
     "output_type": "stream",
     "text": [
      "Calculating wins = 17.0 minutes\n",
      "Saving....\n",
      "Threshold ...1495. runtime = 2.0 minutes\n",
      "Threshold ...825. runtime = 1.0 minutes\n",
      "   sensitivity  FAR  RR50  MPC\n",
      "0            1  0.2  1495  825\n"
     ]
    },
    {
     "data": {
      "application/vnd.jupyter.widget-view+json": {
       "model_id": "f5061403d1484bc6ba6f0487dd733129",
       "version_major": 2,
       "version_minor": 0
      },
      "text/plain": [
       "trials:   0%|          | 0/10000 [00:00<?, ?it/s]"
      ]
     },
     "metadata": {},
     "output_type": "display_data"
    },
    {
     "name": "stdout",
     "output_type": "stream",
     "text": [
      "Calculating wins = 17.0 minutes\n",
      "Saving....\n",
      "Threshold ...1495. runtime = 2.0 minutes\n",
      "Threshold ...860. runtime = 1.0 minutes\n",
      "   sensitivity  FAR  RR50  MPC\n",
      "0            1  0.3  1495  860\n"
     ]
    },
    {
     "data": {
      "application/vnd.jupyter.widget-view+json": {
       "model_id": "3b02ffd8726f474bb7eb1038ca1e08bc",
       "version_major": 2,
       "version_minor": 0
      },
      "text/plain": [
       "trials:   0%|          | 0/10000 [00:00<?, ?it/s]"
      ]
     },
     "metadata": {},
     "output_type": "display_data"
    },
    {
     "name": "stdout",
     "output_type": "stream",
     "text": [
      "Calculating wins = 17.0 minutes\n",
      "Saving....\n",
      "Threshold ...1495. runtime = 3.0 minutes\n",
      "Threshold ...850. runtime = 1.0 minutes\n",
      "   sensitivity  FAR  RR50  MPC\n",
      "0            1  0.5  1495  850\n"
     ]
    },
    {
     "data": {
      "application/vnd.jupyter.widget-view+json": {
       "model_id": "eeebb2f6fc4c44219caaa9fc09dac853",
       "version_major": 2,
       "version_minor": 0
      },
      "text/plain": [
       "trials:   0%|          | 0/10000 [00:00<?, ?it/s]"
      ]
     },
     "metadata": {},
     "output_type": "display_data"
    },
    {
     "name": "stdout",
     "output_type": "stream",
     "text": [
      "Calculating wins = 17.0 minutes\n",
      "Saving....\n",
      "Threshold ...1495. runtime = 3.0 minutes\n",
      "Threshold ...880. runtime = 1.0 minutes\n",
      "   sensitivity  FAR  RR50  MPC\n",
      "0            1    1  1495  880\n"
     ]
    },
    {
     "data": {
      "application/vnd.jupyter.widget-view+json": {
       "model_id": "3b10e491c09d4f5883918b560fbafe20",
       "version_major": 2,
       "version_minor": 0
      },
      "text/plain": [
       "trials:   0%|          | 0/10000 [00:00<?, ?it/s]"
      ]
     },
     "metadata": {},
     "output_type": "display_data"
    },
    {
     "name": "stdout",
     "output_type": "stream",
     "text": [
      "Calculating wins = 17.0 minutes\n",
      "Saving....\n",
      "Threshold ...1495. runtime = 2.0 minutes\n",
      "Threshold ...965. runtime = 1.0 minutes\n",
      "   sensitivity  FAR  RR50  MPC\n",
      "0            1    2  1495  965\n",
      "   sensitivity  FAR  RR50   MPC\n",
      "0          0.7  0.0   895   530\n",
      "0          0.7  0.1  1495   685\n",
      "0          0.7  0.2  1495   955\n",
      "0          0.7  0.3  1495   970\n",
      "0          0.7  0.5  1495   980\n",
      "0          0.7  1.0  1495  1000\n",
      "0          0.7  2.0  1495  1075\n",
      "0          0.8  0.0   875   530\n",
      "0          0.8  0.1  1495   660\n",
      "0          0.8  0.2  1495   900\n",
      "0          0.8  0.3  1495   910\n",
      "0          0.8  0.5  1495   915\n",
      "0          0.8  1.0  1495   950\n",
      "0          0.8  2.0  1495  1020\n",
      "0          0.9  0.0   860   520\n",
      "0          0.9  0.1  1495   640\n",
      "0          0.9  0.2  1495   850\n",
      "0          0.9  0.3  1495   875\n",
      "0          0.9  0.5  1495   885\n",
      "0          0.9  1.0  1495   915\n",
      "0          0.9  2.0  1495   980\n",
      "0          1.0  0.0   865   515\n",
      "0          1.0  0.1  1495   640\n",
      "0          1.0  0.2  1495   825\n",
      "0          1.0  0.3  1495   860\n",
      "0          1.0  0.5  1495   850\n",
      "0          1.0  1.0  1495   880\n",
      "0          1.0  2.0  1495   965\n"
     ]
    },
    {
     "data": {
      "image/png": "[encoded data removed]",
      "text/plain": [
       "<Figure size 720x360 with 4 Axes>"
      ]
     },
     "metadata": {
      "needs_background": "light"
     },
     "output_type": "display_data"
    },
    {
     "data": {
      "application/vnd.jupyter.widget-view+json": {
       "model_id": "e6b5b399f16f4b06a240cfec69af29f9",
       "version_major": 2,
       "version_minor": 0
      },
      "text/plain": [
       "trials:   0%|          | 0/10000 [00:00<?, ?it/s]"
      ]
     },
     "metadata": {},
     "output_type": "display_data"
    },
    {
     "name": "stdout",
     "output_type": "stream",
     "text": [
      "Calculating wins = 25.0 minutes\n",
      "Saving....\n",
      "Threshold ...805. runtime = 1.0 minutes\n",
      "Threshold ...460. runtime = 0.0 minutes\n",
      "   sensitivity  FAR  RR50  MPC\n",
      "0          0.7    0   805  460\n"
     ]
    },
    {
     "data": {
      "application/vnd.jupyter.widget-view+json": {
       "model_id": "3ee4a4650e434b99bba0b4e5998e7ead",
       "version_major": 2,
       "version_minor": 0
      },
      "text/plain": [
       "trials:   0%|          | 0/10000 [00:00<?, ?it/s]"
      ]
     },
     "metadata": {},
     "output_type": "display_data"
    },
    {
     "name": "stdout",
     "output_type": "stream",
     "text": [
      "Calculating wins = 20.0 minutes\n",
      "Saving....\n",
      "Threshold ...1495. runtime = 2.0 minutes\n",
      "Threshold ...535. runtime = 1.0 minutes\n",
      "   sensitivity  FAR  RR50  MPC\n",
      "0          0.7  0.1  1495  535\n"
     ]
    },
    {
     "data": {
      "application/vnd.jupyter.widget-view+json": {
       "model_id": "a78b12a783534a2298ff2de56622b083",
       "version_major": 2,
       "version_minor": 0
      },
      "text/plain": [
       "trials:   0%|          | 0/10000 [00:00<?, ?it/s]"
      ]
     },
     "metadata": {},
     "output_type": "display_data"
    },
    {
     "name": "stdout",
     "output_type": "stream",
     "text": [
      "Calculating wins = 18.0 minutes\n",
      "Saving....\n",
      "Threshold ...1495. runtime = 2.0 minutes\n",
      "Threshold ...620. runtime = 1.0 minutes\n",
      "   sensitivity  FAR  RR50  MPC\n",
      "0          0.7  0.2  1495  620\n"
     ]
    },
    {
     "data": {
      "application/vnd.jupyter.widget-view+json": {
       "model_id": "bad6c3390a1048f6b56e0a2ebccde442",
       "version_major": 2,
       "version_minor": 0
      },
      "text/plain": [
       "trials:   0%|          | 0/10000 [00:00<?, ?it/s]"
      ]
     },
     "metadata": {},
     "output_type": "display_data"
    },
    {
     "name": "stdout",
     "output_type": "stream",
     "text": [
      "Calculating wins = 18.0 minutes\n",
      "Saving....\n",
      "Threshold ...1495. runtime = 2.0 minutes\n",
      "Threshold ...635. runtime = 1.0 minutes\n",
      "   sensitivity  FAR  RR50  MPC\n",
      "0          0.7  0.3  1495  635\n"
     ]
    },
    {
     "data": {
      "application/vnd.jupyter.widget-view+json": {
       "model_id": "5db6b4e810074746bab3e15a49e384b4",
       "version_major": 2,
       "version_minor": 0
      },
      "text/plain": [
       "trials:   0%|          | 0/10000 [00:00<?, ?it/s]"
      ]
     },
     "metadata": {},
     "output_type": "display_data"
    },
    {
     "name": "stdout",
     "output_type": "stream",
     "text": [
      "Calculating wins = 18.0 minutes\n",
      "Saving....\n",
      "Threshold ...1495. runtime = 2.0 minutes\n",
      "Threshold ...635. runtime = 1.0 minutes\n",
      "   sensitivity  FAR  RR50  MPC\n",
      "0          0.7  0.5  1495  635\n"
     ]
    },
    {
     "data": {
      "application/vnd.jupyter.widget-view+json": {
       "model_id": "4cdb20ecf004489a9d1dcf2ea447cceb",
       "version_major": 2,
       "version_minor": 0
      },
      "text/plain": [
       "trials:   0%|          | 0/10000 [00:00<?, ?it/s]"
      ]
     },
     "metadata": {},
     "output_type": "display_data"
    },
    {
     "name": "stdout",
     "output_type": "stream",
     "text": [
      "Calculating wins = 18.0 minutes\n",
      "Saving....\n",
      "Threshold ...1495. runtime = 3.0 minutes\n",
      "Threshold ...675. runtime = 1.0 minutes\n",
      "   sensitivity  FAR  RR50  MPC\n",
      "0          0.7    1  1495  675\n"
     ]
    },
    {
     "data": {
      "application/vnd.jupyter.widget-view+json": {
       "model_id": "2ffbb529826e45b8bcd91b80acb7026c",
       "version_major": 2,
       "version_minor": 0
      },
      "text/plain": [
       "trials:   0%|          | 0/10000 [00:00<?, ?it/s]"
      ]
     },
     "metadata": {},
     "output_type": "display_data"
    },
    {
     "name": "stdout",
     "output_type": "stream",
     "text": [
      "Calculating wins = 18.0 minutes\n",
      "Saving....\n",
      "Threshold ...1495. runtime = 3.0 minutes\n",
      "Threshold ...715. runtime = 1.0 minutes\n",
      "   sensitivity  FAR  RR50  MPC\n",
      "0          0.7    2  1495  715\n"
     ]
    },
    {
     "data": {
      "application/vnd.jupyter.widget-view+json": {
       "model_id": "353dbcf683924cbeb9ac792e0cf5e567",
       "version_major": 2,
       "version_minor": 0
      },
      "text/plain": [
       "trials:   0%|          | 0/10000 [00:00<?, ?it/s]"
      ]
     },
     "metadata": {},
     "output_type": "display_data"
    },
    {
     "name": "stdout",
     "output_type": "stream",
     "text": [
      "Calculating wins = 24.0 minutes\n",
      "Saving....\n",
      "Threshold ...820. runtime = 1.0 minutes\n",
      "Threshold ...450. runtime = 0.0 minutes\n",
      "   sensitivity  FAR  RR50  MPC\n",
      "0          0.8    0   820  450\n"
     ]
    },
    {
     "data": {
      "application/vnd.jupyter.widget-view+json": {
       "model_id": "6edbdbeaecaf4399bf3a9af8b1fa669e",
       "version_major": 2,
       "version_minor": 0
      },
      "text/plain": [
       "trials:   0%|          | 0/10000 [00:00<?, ?it/s]"
      ]
     },
     "metadata": {},
     "output_type": "display_data"
    },
    {
     "name": "stdout",
     "output_type": "stream",
     "text": [
      "Calculating wins = 19.0 minutes\n",
      "Saving....\n",
      "Threshold ...1495. runtime = 2.0 minutes\n",
      "Threshold ...520. runtime = 1.0 minutes\n",
      "   sensitivity  FAR  RR50  MPC\n",
      "0          0.8  0.1  1495  520\n"
     ]
    },
    {
     "data": {
      "application/vnd.jupyter.widget-view+json": {
       "model_id": "c15d1a2b4fcc4de98756cc137a82d2df",
       "version_major": 2,
       "version_minor": 0
      },
      "text/plain": [
       "trials:   0%|          | 0/10000 [00:00<?, ?it/s]"
      ]
     },
     "metadata": {},
     "output_type": "display_data"
    },
    {
     "name": "stdout",
     "output_type": "stream",
     "text": [
      "Calculating wins = 18.0 minutes\n",
      "Saving....\n",
      "Threshold ...1495. runtime = 2.0 minutes\n",
      "Threshold ...585. runtime = 1.0 minutes\n",
      "   sensitivity  FAR  RR50  MPC\n",
      "0          0.8  0.2  1495  585\n"
     ]
    },
    {
     "data": {
      "application/vnd.jupyter.widget-view+json": {
       "model_id": "fe5e6c12ef844ca3b9b603f0898d1367",
       "version_major": 2,
       "version_minor": 0
      },
      "text/plain": [
       "trials:   0%|          | 0/10000 [00:00<?, ?it/s]"
      ]
     },
     "metadata": {},
     "output_type": "display_data"
    },
    {
     "name": "stdout",
     "output_type": "stream",
     "text": [
      "Calculating wins = 18.0 minutes\n",
      "Saving....\n",
      "Threshold ...1495. runtime = 2.0 minutes\n",
      "Threshold ...605. runtime = 1.0 minutes\n",
      "   sensitivity  FAR  RR50  MPC\n",
      "0          0.8  0.3  1495  605\n"
     ]
    },
    {
     "data": {
      "application/vnd.jupyter.widget-view+json": {
       "model_id": "418950cf3aa84e80b3c7a7c6cd40deab",
       "version_major": 2,
       "version_minor": 0
      },
      "text/plain": [
       "trials:   0%|          | 0/10000 [00:00<?, ?it/s]"
      ]
     },
     "metadata": {},
     "output_type": "display_data"
    },
    {
     "name": "stdout",
     "output_type": "stream",
     "text": [
      "Calculating wins = 18.0 minutes\n",
      "Saving....\n",
      "Threshold ...1495. runtime = 2.0 minutes\n",
      "Threshold ...625. runtime = 1.0 minutes\n",
      "   sensitivity  FAR  RR50  MPC\n",
      "0          0.8  0.5  1495  625\n"
     ]
    },
    {
     "data": {
      "application/vnd.jupyter.widget-view+json": {
       "model_id": "05e7c659f0ea428681151f70283e3157",
       "version_major": 2,
       "version_minor": 0
      },
      "text/plain": [
       "trials:   0%|          | 0/10000 [00:00<?, ?it/s]"
      ]
     },
     "metadata": {},
     "output_type": "display_data"
    },
    {
     "name": "stdout",
     "output_type": "stream",
     "text": [
      "Calculating wins = 18.0 minutes\n",
      "Saving....\n",
      "Threshold ...1495. runtime = 3.0 minutes\n",
      "Threshold ...650. runtime = 1.0 minutes\n",
      "   sensitivity  FAR  RR50  MPC\n",
      "0          0.8    1  1495  650\n"
     ]
    },
    {
     "data": {
      "application/vnd.jupyter.widget-view+json": {
       "model_id": "ec304b1432ab4b3cbcec8050c6de919b",
       "version_major": 2,
       "version_minor": 0
      },
      "text/plain": [
       "trials:   0%|          | 0/10000 [00:00<?, ?it/s]"
      ]
     },
     "metadata": {},
     "output_type": "display_data"
    },
    {
     "name": "stdout",
     "output_type": "stream",
     "text": [
      "Calculating wins = 18.0 minutes\n",
      "Saving....\n",
      "Threshold ...1495. runtime = 3.0 minutes\n",
      "Threshold ...680. runtime = 1.0 minutes\n",
      "   sensitivity  FAR  RR50  MPC\n",
      "0          0.8    2  1495  680\n"
     ]
    },
    {
     "data": {
      "application/vnd.jupyter.widget-view+json": {
       "model_id": "3a1714c0a4e546589544dc016fd0b79c",
       "version_major": 2,
       "version_minor": 0
      },
      "text/plain": [
       "trials:   0%|          | 0/10000 [00:00<?, ?it/s]"
      ]
     },
     "metadata": {},
     "output_type": "display_data"
    },
    {
     "name": "stdout",
     "output_type": "stream",
     "text": [
      "Calculating wins = 22.0 minutes\n",
      "Saving....\n",
      "Threshold ...810. runtime = 1.0 minutes\n",
      "Threshold ...450. runtime = 0.0 minutes\n",
      "   sensitivity  FAR  RR50  MPC\n",
      "0          0.9    0   810  450\n"
     ]
    },
    {
     "data": {
      "application/vnd.jupyter.widget-view+json": {
       "model_id": "a21ec17fd6204ae9a7ef6efa53a3d9f0",
       "version_major": 2,
       "version_minor": 0
      },
      "text/plain": [
       "trials:   0%|          | 0/10000 [00:00<?, ?it/s]"
      ]
     },
     "metadata": {},
     "output_type": "display_data"
    },
    {
     "name": "stdout",
     "output_type": "stream",
     "text": [
      "Calculating wins = 19.0 minutes\n",
      "Saving....\n",
      "Threshold ...1495. runtime = 2.0 minutes\n",
      "Threshold ...510. runtime = 1.0 minutes\n",
      "   sensitivity  FAR  RR50  MPC\n",
      "0          0.9  0.1  1495  510\n"
     ]
    },
    {
     "data": {
      "application/vnd.jupyter.widget-view+json": {
       "model_id": "5e4d9fbec9b0449c9bddbb080bbf3c7b",
       "version_major": 2,
       "version_minor": 0
      },
      "text/plain": [
       "trials:   0%|          | 0/10000 [00:00<?, ?it/s]"
      ]
     },
     "metadata": {},
     "output_type": "display_data"
    },
    {
     "name": "stdout",
     "output_type": "stream",
     "text": [
      "Calculating wins = 18.0 minutes\n",
      "Saving....\n",
      "Threshold ...1495. runtime = 2.0 minutes\n",
      "Threshold ...555. runtime = 1.0 minutes\n",
      "   sensitivity  FAR  RR50  MPC\n",
      "0          0.9  0.2  1495  555\n"
     ]
    },
    {
     "data": {
      "application/vnd.jupyter.widget-view+json": {
       "model_id": "c86b5f6ecdd44fefbdbd6c389937790b",
       "version_major": 2,
       "version_minor": 0
      },
      "text/plain": [
       "trials:   0%|          | 0/10000 [00:00<?, ?it/s]"
      ]
     },
     "metadata": {},
     "output_type": "display_data"
    },
    {
     "name": "stdout",
     "output_type": "stream",
     "text": [
      "Calculating wins = 18.0 minutes\n",
      "Saving....\n",
      "Threshold ...1495. runtime = 2.0 minutes\n",
      "Threshold ...585. runtime = 1.0 minutes\n",
      "   sensitivity  FAR  RR50  MPC\n",
      "0          0.9  0.3  1495  585\n"
     ]
    },
    {
     "data": {
      "application/vnd.jupyter.widget-view+json": {
       "model_id": "3884c66fdd3e4d1da39c015cebd07984",
       "version_major": 2,
       "version_minor": 0
      },
      "text/plain": [
       "trials:   0%|          | 0/10000 [00:00<?, ?it/s]"
      ]
     },
     "metadata": {},
     "output_type": "display_data"
    },
    {
     "name": "stdout",
     "output_type": "stream",
     "text": [
      "Calculating wins = 18.0 minutes\n",
      "Saving....\n",
      "Threshold ...1495. runtime = 2.0 minutes\n",
      "Threshold ...615. runtime = 1.0 minutes\n",
      "   sensitivity  FAR  RR50  MPC\n",
      "0          0.9  0.5  1495  615\n"
     ]
    },
    {
     "data": {
      "application/vnd.jupyter.widget-view+json": {
       "model_id": "6a7b55d000744a05ada55b6217afbd18",
       "version_major": 2,
       "version_minor": 0
      },
      "text/plain": [
       "trials:   0%|          | 0/10000 [00:00<?, ?it/s]"
      ]
     },
     "metadata": {},
     "output_type": "display_data"
    },
    {
     "name": "stdout",
     "output_type": "stream",
     "text": [
      "Calculating wins = 18.0 minutes\n",
      "Saving....\n",
      "Threshold ...1495. runtime = 2.0 minutes\n",
      "Threshold ...640. runtime = 1.0 minutes\n",
      "   sensitivity  FAR  RR50  MPC\n",
      "0          0.9    1  1495  640\n"
     ]
    },
    {
     "data": {
      "application/vnd.jupyter.widget-view+json": {
       "model_id": "a9c6fd63845a44b989c1a7769e79e342",
       "version_major": 2,
       "version_minor": 0
      },
      "text/plain": [
       "trials:   0%|          | 0/10000 [00:00<?, ?it/s]"
      ]
     },
     "metadata": {},
     "output_type": "display_data"
    },
    {
     "name": "stdout",
     "output_type": "stream",
     "text": [
      "Calculating wins = 18.0 minutes\n",
      "Saving....\n",
      "Threshold ...1495. runtime = 3.0 minutes\n",
      "Threshold ...665. runtime = 1.0 minutes\n",
      "   sensitivity  FAR  RR50  MPC\n",
      "0          0.9    2  1495  665\n"
     ]
    },
    {
     "data": {
      "application/vnd.jupyter.widget-view+json": {
       "model_id": "518b8e71387246e28f469b21c5bdd4a6",
       "version_major": 2,
       "version_minor": 0
      },
      "text/plain": [
       "trials:   0%|          | 0/10000 [00:00<?, ?it/s]"
      ]
     },
     "metadata": {},
     "output_type": "display_data"
    },
    {
     "name": "stdout",
     "output_type": "stream",
     "text": [
      "Calculating wins = 20.0 minutes\n",
      "Saving....\n",
      "Threshold ...820. runtime = 1.0 minutes\n",
      "Threshold ...435. runtime = 0.0 minutes\n",
      "   sensitivity  FAR  RR50  MPC\n",
      "0            1    0   820  435\n"
     ]
    },
    {
     "data": {
      "application/vnd.jupyter.widget-view+json": {
       "model_id": "e9b1881751744bbc89c9fa2f5abd2865",
       "version_major": 2,
       "version_minor": 0
      },
      "text/plain": [
       "trials:   0%|          | 0/10000 [00:00<?, ?it/s]"
      ]
     },
     "metadata": {},
     "output_type": "display_data"
    },
    {
     "name": "stdout",
     "output_type": "stream",
     "text": [
      "Calculating wins = 18.0 minutes\n",
      "Saving....\n",
      "Threshold ...1495. runtime = 2.0 minutes\n",
      "Threshold ...495. runtime = 0.0 minutes\n",
      "   sensitivity  FAR  RR50  MPC\n",
      "0            1  0.1  1495  495\n"
     ]
    },
    {
     "data": {
      "application/vnd.jupyter.widget-view+json": {
       "model_id": "56fa7c5c7b1d4777898ab61715de3b40",
       "version_major": 2,
       "version_minor": 0
      },
      "text/plain": [
       "trials:   0%|          | 0/10000 [00:00<?, ?it/s]"
      ]
     },
     "metadata": {},
     "output_type": "display_data"
    },
    {
     "name": "stdout",
     "output_type": "stream",
     "text": [
      "Calculating wins = 17.0 minutes\n",
      "Saving....\n",
      "Threshold ...1495. runtime = 2.0 minutes\n",
      "Threshold ...555. runtime = 1.0 minutes\n",
      "   sensitivity  FAR  RR50  MPC\n",
      "0            1  0.2  1495  555\n"
     ]
    },
    {
     "data": {
      "application/vnd.jupyter.widget-view+json": {
       "model_id": "450a9da9de00444cbc23dcd3395e7a4f",
       "version_major": 2,
       "version_minor": 0
      },
      "text/plain": [
       "trials:   0%|          | 0/10000 [00:00<?, ?it/s]"
      ]
     },
     "metadata": {},
     "output_type": "display_data"
    },
    {
     "name": "stdout",
     "output_type": "stream",
     "text": [
      "Calculating wins = 17.0 minutes\n",
      "Saving....\n",
      "Threshold ...1495. runtime = 2.0 minutes\n",
      "Threshold ...570. runtime = 1.0 minutes\n",
      "   sensitivity  FAR  RR50  MPC\n",
      "0            1  0.3  1495  570\n"
     ]
    },
    {
     "data": {
      "application/vnd.jupyter.widget-view+json": {
       "model_id": "26ed82304c6c45d3b3ed685f87b98dad",
       "version_major": 2,
       "version_minor": 0
      },
      "text/plain": [
       "trials:   0%|          | 0/10000 [00:00<?, ?it/s]"
      ]
     },
     "metadata": {},
     "output_type": "display_data"
    },
    {
     "name": "stdout",
     "output_type": "stream",
     "text": [
      "Calculating wins = 17.0 minutes\n",
      "Saving....\n",
      "Threshold ...1495. runtime = 2.0 minutes\n",
      "Threshold ...580. runtime = 1.0 minutes\n",
      "   sensitivity  FAR  RR50  MPC\n",
      "0            1  0.5  1495  580\n"
     ]
    },
    {
     "data": {
      "application/vnd.jupyter.widget-view+json": {
       "model_id": "f7640af45a3549f0bbb9afb7ee661fed",
       "version_major": 2,
       "version_minor": 0
      },
      "text/plain": [
       "trials:   0%|          | 0/10000 [00:00<?, ?it/s]"
      ]
     },
     "metadata": {},
     "output_type": "display_data"
    },
    {
     "name": "stdout",
     "output_type": "stream",
     "text": [
      "Calculating wins = 17.0 minutes\n",
      "Saving....\n",
      "Threshold ...1495. runtime = 2.0 minutes\n",
      "Threshold ...615. runtime = 1.0 minutes\n",
      "   sensitivity  FAR  RR50  MPC\n",
      "0            1    1  1495  615\n"
     ]
    },
    {
     "data": {
      "application/vnd.jupyter.widget-view+json": {
       "model_id": "9bc7dc9c5d0249819f02f544909c8e08",
       "version_major": 2,
       "version_minor": 0
      },
      "text/plain": [
       "trials:   0%|          | 0/10000 [00:00<?, ?it/s]"
      ]
     },
     "metadata": {},
     "output_type": "display_data"
    },
    {
     "name": "stdout",
     "output_type": "stream",
     "text": [
      "Calculating wins = 17.0 minutes\n",
      "Saving....\n",
      "Threshold ...1495. runtime = 3.0 minutes\n",
      "Threshold ...650. runtime = 1.0 minutes\n",
      "   sensitivity  FAR  RR50  MPC\n",
      "0            1    2  1495  650\n",
      "   sensitivity  FAR  RR50  MPC\n",
      "0          0.7  0.0   805  460\n",
      "0          0.7  0.1  1495  535\n",
      "0          0.7  0.2  1495  620\n",
      "0          0.7  0.3  1495  635\n",
      "0          0.7  0.5  1495  635\n",
      "0          0.7  1.0  1495  675\n",
      "0          0.7  2.0  1495  715\n",
      "0          0.8  0.0   820  450\n",
      "0          0.8  0.1  1495  520\n",
      "0          0.8  0.2  1495  585\n",
      "0          0.8  0.3  1495  605\n",
      "0          0.8  0.5  1495  625\n",
      "0          0.8  1.0  1495  650\n",
      "0          0.8  2.0  1495  680\n",
      "0          0.9  0.0   810  450\n",
      "0          0.9  0.1  1495  510\n",
      "0          0.9  0.2  1495  555\n",
      "0          0.9  0.3  1495  585\n",
      "0          0.9  0.5  1495  615\n",
      "0          0.9  1.0  1495  640\n",
      "0          0.9  2.0  1495  665\n",
      "0          1.0  0.0   820  435\n",
      "0          1.0  0.1  1495  495\n",
      "0          1.0  0.2  1495  555\n",
      "0          1.0  0.3  1495  570\n",
      "0          1.0  0.5  1495  580\n",
      "0          1.0  1.0  1495  615\n",
      "0          1.0  2.0  1495  650\n"
     ]
    },
    {
     "data": {
      "image/png": "[encoded data removed]",
      "text/plain": [
       "<Figure size 720x360 with 4 Axes>"
      ]
     },
     "metadata": {
      "needs_background": "light"
     },
     "output_type": "display_data"
    }
   ],
   "source": [
    "%reload_ext autoreload\n",
    "%autoreload 2\n",
    "import numpy as np\n",
    "from weargroup_v2 import buildSET_of_N,drawGrid\n",
    "mini=True\n",
    "inflater = 1/6\n",
    "for clinTF in [True,False]:\n",
    "    fn = f'tryA_{clinTF}_inf1_6.csv'\n",
    "    buildSET_of_N([0.7,0.8,0.9,1],[0,.1,.2,.3,.5,1,2],recalc=True,thiscsv=fn,clinTF=clinTF,REPS=10000,maxN=1500,DRG=0.2,mini=mini,inflater=inflater)\n",
    "    drawGrid(fn,clinTF=clinTF)"
   ]
  },
  {
   "cell_type": "code",
   "execution_count": 5,
   "metadata": {},
   "outputs": [
    {
     "name": "stdout",
     "output_type": "stream",
     "text": [
      "Inflater = 0\n"
     ]
    },
    {
     "data": {
      "application/vnd.jupyter.widget-view+json": {
       "model_id": "941db609cd2d4956abe4ec966e2629fa",
       "version_major": 2,
       "version_minor": 0
      },
      "text/plain": [
       "trials:   0%|          | 0/10000 [00:00<?, ?it/s]"
      ]
     },
     "metadata": {},
     "output_type": "display_data"
    }
   ],
   "source": [
    "%reload_ext autoreload\n",
    "%autoreload 2\n",
    "import numpy as np\n",
    "import matplotlib.pylab as plt\n",
    "from weargroup_v2 import buildSET_of_N,drawGrid\n",
    "mini=True\n",
    "for inflater in [0,1]:\n",
    "    print(f'Inflater = {inflater}')\n",
    "    fig,ax = plt.subplots(2,2,sharex=True,sharey=True,figsize=(10,10))   \n",
    "    for ci,clinTF in enumerate([True,False]):\n",
    "        fn = f'tryBigRange2_{clinTF}_nofar_inf{inflater}.csv'\n",
    "        buildSET_of_N([0.5,.7,.8,.9,1],[0,0.05,.1,.15,.2],recalc=True,thiscsv=fn,clinTF=clinTF,REPS=10000,maxN=1500,DRG=0.2,mini=mini,inflater=inflater)\n",
    "        drawGrid(fn,clinTF=clinTF,ax=ax[ci,:])\n",
    "        \n",
    "    plt.show()"
   ]
  },
  {
   "cell_type": "code",
   "execution_count": null,
   "metadata": {},
   "outputs": [],
   "source": [
    "%reload_ext autoreload\n",
    "%autoreload 2\n",
    "import numpy as np\n",
    "\n",
    "import matplotlib.pylab as plt\n",
    "from weargroup_v2 import buildSET_of_N,drawGrid\n",
    "mini=False\n",
    "for inflater in [0,1]:\n",
    "    print(f'Inflater = {inflater}')\n",
    "    fig,ax = plt.subplots(2,2,sharex=True,sharey=True,figsize=(10,10))   \n",
    "    for ci,clinTF in enumerate([True,False]):\n",
    "        fn = f'tryBigRange2_{clinTF}_nofar_inf{inflater}.csv'\n",
    "        #buildSET_of_N([0.5,.7,.8,.9,1],[0,0.05,.1,.15,.2],recalc=True,thiscsv=fn,clinTF=clinTF,REPS=10000,maxN=1500,DRG=0.2,mini=mini,inflater=inflater)\n",
    "        drawGrid(fn,clinTF=clinTF,ax=ax[ci,:])\n",
    "        \n",
    "    plt.show()"
   ]
  },
  {
   "cell_type": "code",
   "execution_count": 1,
   "metadata": {},
   "outputs": [
    {
     "name": "stderr",
     "output_type": "stream",
     "text": [
      "100%|██████████| 10000/10000 [1:12:58<00:00,  2.28it/s]\n"
     ]
    },
    {
     "name": "stdout",
     "output_type": "stream",
     "text": [
      "   clinTF  sens  FAR  rate  detected%  noInjury  total    mean\n",
      "0    True   0.5    0     3         49      7505   2877  0.2877\n"
     ]
    },
    {
     "name": "stderr",
     "output_type": "stream",
     "text": [
      "100%|██████████| 10000/10000 [1:12:11<00:00,  2.31it/s]\n"
     ]
    },
    {
     "name": "stdout",
     "output_type": "stream",
     "text": [
      "   clinTF  sens  FAR  rate  detected%  noInjury   total     mean\n",
      "0    True   0.5    0   300         50        23  228946  22.8946\n"
     ]
    },
    {
     "name": "stderr",
     "output_type": "stream",
     "text": [
      "100%|██████████| 10000/10000 [1:12:09<00:00,  2.31it/s]\n"
     ]
    },
    {
     "name": "stdout",
     "output_type": "stream",
     "text": [
      "   clinTF  sens  FAR  rate  detected%  noInjury  total   mean\n",
      "0   False   0.5    0     3         50      7451   2940  0.294\n"
     ]
    },
    {
     "name": "stderr",
     "output_type": "stream",
     "text": [
      "100%|██████████| 10000/10000 [1:12:03<00:00,  2.31it/s]\n"
     ]
    },
    {
     "name": "stdout",
     "output_type": "stream",
     "text": [
      "   clinTF  sens  FAR  rate  detected%  noInjury   total     mean\n",
      "0   False   0.5    0   300         49        20  228646  22.8646\n"
     ]
    },
    {
     "name": "stderr",
     "output_type": "stream",
     "text": [
      "100%|██████████| 10000/10000 [1:12:32<00:00,  2.30it/s]\n"
     ]
    },
    {
     "name": "stdout",
     "output_type": "stream",
     "text": [
      "   clinTF  sens  FAR  rate  detected%  noInjury  total    mean\n",
      "0    True   0.5    0     3         48      7443   2933  0.2933\n"
     ]
    },
    {
     "name": "stderr",
     "output_type": "stream",
     "text": [
      "100%|██████████| 10000/10000 [1:12:25<00:00,  2.30it/s]\n"
     ]
    },
    {
     "name": "stdout",
     "output_type": "stream",
     "text": [
      "   clinTF  sens  FAR  rate  detected%  noInjury   total     mean\n",
      "0    True   0.5    0   300         49        29  229657  22.9657\n"
     ]
    },
    {
     "name": "stderr",
     "output_type": "stream",
     "text": [
      "100%|██████████| 10000/10000 [1:12:06<00:00,  2.31it/s]\n"
     ]
    },
    {
     "name": "stdout",
     "output_type": "stream",
     "text": [
      "   clinTF  sens  FAR  rate  detected%  noInjury  total    mean\n",
      "0   False   0.5    0     3         48      7386   3009  0.3009\n"
     ]
    },
    {
     "name": "stderr",
     "output_type": "stream",
     "text": [
      "100%|██████████| 10000/10000 [1:12:02<00:00,  2.31it/s]\n"
     ]
    },
    {
     "name": "stdout",
     "output_type": "stream",
     "text": [
      "   clinTF  sens  FAR  rate  detected%  noInjury   total    mean\n",
      "0   False   0.5    0   300         50        25  229650  22.965\n"
     ]
    },
    {
     "name": "stderr",
     "output_type": "stream",
     "text": [
      "100%|██████████| 10000/10000 [1:12:25<00:00,  2.30it/s]\n"
     ]
    },
    {
     "name": "stdout",
     "output_type": "stream",
     "text": [
      "   clinTF  sens  FAR  rate  detected%  noInjury  total    mean\n",
      "0    True   0.5    0     3         48      7522   2912  0.2912\n"
     ]
    },
    {
     "name": "stderr",
     "output_type": "stream",
     "text": [
      "100%|██████████| 10000/10000 [1:13:14<00:00,  2.28it/s]\n"
     ]
    },
    {
     "name": "stdout",
     "output_type": "stream",
     "text": [
      "   clinTF  sens  FAR  rate  detected%  noInjury   total     mean\n",
      "0    True   0.5    0   300         50        26  229379  22.9379\n"
     ]
    },
    {
     "name": "stderr",
     "output_type": "stream",
     "text": [
      "100%|██████████| 10000/10000 [1:13:22<00:00,  2.27it/s]\n"
     ]
    },
    {
     "name": "stdout",
     "output_type": "stream",
     "text": [
      "   clinTF  sens  FAR  rate  detected%  noInjury  total    mean\n",
      "0   False   0.5    0     3         50      7415   2975  0.2975\n"
     ]
    },
    {
     "name": "stderr",
     "output_type": "stream",
     "text": [
      "100%|██████████| 10000/10000 [1:13:18<00:00,  2.27it/s]\n"
     ]
    },
    {
     "name": "stdout",
     "output_type": "stream",
     "text": [
      "   clinTF  sens  FAR  rate  detected%  noInjury   total     mean\n",
      "0   False   0.5    0   300         50        19  228704  22.8704\n"
     ]
    },
    {
     "name": "stderr",
     "output_type": "stream",
     "text": [
      "100%|██████████| 10000/10000 [1:13:20<00:00,  2.27it/s]\n"
     ]
    },
    {
     "name": "stdout",
     "output_type": "stream",
     "text": [
      "   clinTF  sens  FAR  rate  detected%  noInjury  total    mean\n",
      "0    True   0.5    0     3         49      7453   2949  0.2949\n"
     ]
    },
    {
     "name": "stderr",
     "output_type": "stream",
     "text": [
      "100%|██████████| 10000/10000 [1:13:17<00:00,  2.27it/s]\n"
     ]
    },
    {
     "name": "stdout",
     "output_type": "stream",
     "text": [
      "   clinTF  sens  FAR  rate  detected%  noInjury   total     mean\n",
      "0    True   0.5    0   300         49        23  227769  22.7769\n"
     ]
    },
    {
     "name": "stderr",
     "output_type": "stream",
     "text": [
      "100%|██████████| 10000/10000 [1:13:49<00:00,  2.26it/s]\n"
     ]
    },
    {
     "name": "stdout",
     "output_type": "stream",
     "text": [
      "   clinTF  sens  FAR  rate  detected%  noInjury  total    mean\n",
      "0   False   0.5    0     3         48      7520   2871  0.2871\n"
     ]
    },
    {
     "name": "stderr",
     "output_type": "stream",
     "text": [
      "100%|██████████| 10000/10000 [1:13:27<00:00,  2.27it/s]\n"
     ]
    },
    {
     "name": "stdout",
     "output_type": "stream",
     "text": [
      "   clinTF  sens  FAR  rate  detected%  noInjury   total    mean\n",
      "0   False   0.5    0   300         50        29  229550  22.955\n"
     ]
    },
    {
     "name": "stderr",
     "output_type": "stream",
     "text": [
      "100%|██████████| 10000/10000 [1:14:06<00:00,  2.25it/s]\n"
     ]
    },
    {
     "name": "stdout",
     "output_type": "stream",
     "text": [
      "   clinTF  sens  FAR  rate  detected%  noInjury  total    mean\n",
      "0    True   0.6    0     3         59      7376   3012  0.3012\n"
     ]
    },
    {
     "name": "stderr",
     "output_type": "stream",
     "text": [
      "100%|██████████| 10000/10000 [1:13:57<00:00,  2.25it/s]\n"
     ]
    },
    {
     "name": "stdout",
     "output_type": "stream",
     "text": [
      "   clinTF  sens  FAR  rate  detected%  noInjury   total     mean\n",
      "0    True   0.6    0   300         59        37  229394  22.9394\n"
     ]
    },
    {
     "name": "stderr",
     "output_type": "stream",
     "text": [
      "100%|██████████| 10000/10000 [1:14:20<00:00,  2.24it/s]\n"
     ]
    },
    {
     "name": "stdout",
     "output_type": "stream",
     "text": [
      "   clinTF  sens  FAR  rate  detected%  noInjury  total    mean\n",
      "0   False   0.6    0     3         58      7423   2925  0.2925\n"
     ]
    },
    {
     "name": "stderr",
     "output_type": "stream",
     "text": [
      "100%|██████████| 10000/10000 [1:13:31<00:00,  2.27it/s]\n"
     ]
    },
    {
     "name": "stdout",
     "output_type": "stream",
     "text": [
      "   clinTF  sens  FAR  rate  detected%  noInjury   total     mean\n",
      "0   False   0.6    0   300         59        17  229551  22.9551\n"
     ]
    },
    {
     "name": "stderr",
     "output_type": "stream",
     "text": [
      "100%|██████████| 10000/10000 [1:13:52<00:00,  2.26it/s]\n"
     ]
    },
    {
     "name": "stdout",
     "output_type": "stream",
     "text": [
      "   clinTF  sens  FAR  rate  detected%  noInjury  total    mean\n",
      "0    True   0.6    0     3         61      7476   2934  0.2934\n"
     ]
    },
    {
     "name": "stderr",
     "output_type": "stream",
     "text": [
      "100%|██████████| 10000/10000 [1:14:05<00:00,  2.25it/s]\n"
     ]
    },
    {
     "name": "stdout",
     "output_type": "stream",
     "text": [
      "   clinTF  sens  FAR  rate  detected%  noInjury   total     mean\n",
      "0    True   0.6    0   300         60        21  230128  23.0128\n"
     ]
    },
    {
     "name": "stderr",
     "output_type": "stream",
     "text": [
      "100%|██████████| 10000/10000 [1:13:58<00:00,  2.25it/s]\n"
     ]
    },
    {
     "name": "stdout",
     "output_type": "stream",
     "text": [
      "   clinTF  sens  FAR  rate  detected%  noInjury  total  mean\n",
      "0   False   0.6    0     3         61      7455   2900  0.29\n"
     ]
    },
    {
     "name": "stderr",
     "output_type": "stream",
     "text": [
      "100%|██████████| 10000/10000 [1:13:17<00:00,  2.27it/s]\n"
     ]
    },
    {
     "name": "stdout",
     "output_type": "stream",
     "text": [
      "   clinTF  sens  FAR  rate  detected%  noInjury   total     mean\n",
      "0   False   0.6    0   300         59        18  229752  22.9752\n"
     ]
    },
    {
     "name": "stderr",
     "output_type": "stream",
     "text": [
      "100%|██████████| 10000/10000 [1:12:22<00:00,  2.30it/s]\n"
     ]
    },
    {
     "name": "stdout",
     "output_type": "stream",
     "text": [
      "   clinTF  sens  FAR  rate  detected%  noInjury  total    mean\n",
      "0    True   0.6    0     3         61      7455   2937  0.2937\n"
     ]
    },
    {
     "name": "stderr",
     "output_type": "stream",
     "text": [
      "100%|██████████| 10000/10000 [1:12:32<00:00,  2.30it/s]\n"
     ]
    },
    {
     "name": "stdout",
     "output_type": "stream",
     "text": [
      "   clinTF  sens  FAR  rate  detected%  noInjury   total     mean\n",
      "0    True   0.6    0   300         59        28  228344  22.8344\n"
     ]
    },
    {
     "name": "stderr",
     "output_type": "stream",
     "text": [
      "100%|██████████| 10000/10000 [1:12:28<00:00,  2.30it/s]\n"
     ]
    },
    {
     "name": "stdout",
     "output_type": "stream",
     "text": [
      "   clinTF  sens  FAR  rate  detected%  noInjury  total    mean\n",
      "0   False   0.6    0     3         60      7520   2862  0.2862\n"
     ]
    },
    {
     "name": "stderr",
     "output_type": "stream",
     "text": [
      "100%|██████████| 10000/10000 [1:12:30<00:00,  2.30it/s]\n"
     ]
    },
    {
     "name": "stdout",
     "output_type": "stream",
     "text": [
      "   clinTF  sens  FAR  rate  detected%  noInjury   total     mean\n",
      "0   False   0.6    0   300         60        19  228098  22.8098\n"
     ]
    },
    {
     "name": "stderr",
     "output_type": "stream",
     "text": [
      "100%|██████████| 10000/10000 [1:13:27<00:00,  2.27it/s]\n"
     ]
    },
    {
     "name": "stdout",
     "output_type": "stream",
     "text": [
      "   clinTF  sens  FAR  rate  detected%  noInjury  total    mean\n",
      "0    True   0.6    0     3         58      7452   2913  0.2913\n"
     ]
    },
    {
     "name": "stderr",
     "output_type": "stream",
     "text": [
      "100%|██████████| 10000/10000 [1:13:32<00:00,  2.27it/s]\n"
     ]
    },
    {
     "name": "stdout",
     "output_type": "stream",
     "text": [
      "   clinTF  sens  FAR  rate  detected%  noInjury   total     mean\n",
      "0    True   0.6    0   300         60        18  228907  22.8907\n"
     ]
    },
    {
     "name": "stderr",
     "output_type": "stream",
     "text": [
      "100%|██████████| 10000/10000 [1:12:42<00:00,  2.29it/s]\n"
     ]
    },
    {
     "name": "stdout",
     "output_type": "stream",
     "text": [
      "   clinTF  sens  FAR  rate  detected%  noInjury  total    mean\n",
      "0   False   0.6    0     3         58      7443   2942  0.2942\n"
     ]
    },
    {
     "name": "stderr",
     "output_type": "stream",
     "text": [
      "100%|██████████| 10000/10000 [1:12:29<00:00,  2.30it/s]\n"
     ]
    },
    {
     "name": "stdout",
     "output_type": "stream",
     "text": [
      "   clinTF  sens  FAR  rate  detected%  noInjury   total     mean\n",
      "0   False   0.6    0   300         59        23  229224  22.9224\n"
     ]
    },
    {
     "name": "stderr",
     "output_type": "stream",
     "text": [
      "100%|██████████| 10000/10000 [1:12:37<00:00,  2.29it/s]\n"
     ]
    },
    {
     "name": "stdout",
     "output_type": "stream",
     "text": [
      "   clinTF  sens  FAR  rate  detected%  noInjury  total    mean\n",
      "0    True   0.7    0     3         69      7448   2977  0.2977\n"
     ]
    },
    {
     "name": "stderr",
     "output_type": "stream",
     "text": [
      "100%|██████████| 10000/10000 [1:12:38<00:00,  2.29it/s]\n"
     ]
    },
    {
     "name": "stdout",
     "output_type": "stream",
     "text": [
      "   clinTF  sens  FAR  rate  detected%  noInjury   total     mean\n",
      "0    True   0.7    0   300         70        29  229409  22.9409\n"
     ]
    },
    {
     "name": "stderr",
     "output_type": "stream",
     "text": [
      "100%|██████████| 10000/10000 [1:12:31<00:00,  2.30it/s]\n"
     ]
    },
    {
     "name": "stdout",
     "output_type": "stream",
     "text": [
      "   clinTF  sens  FAR  rate  detected%  noInjury  total    mean\n",
      "0   False   0.7    0     3         70      7431   2973  0.2973\n"
     ]
    },
    {
     "name": "stderr",
     "output_type": "stream",
     "text": [
      "100%|██████████| 10000/10000 [1:12:34<00:00,  2.30it/s]\n"
     ]
    },
    {
     "name": "stdout",
     "output_type": "stream",
     "text": [
      "   clinTF  sens  FAR  rate  detected%  noInjury   total     mean\n",
      "0   False   0.7    0   300         70        24  228824  22.8824\n"
     ]
    },
    {
     "name": "stderr",
     "output_type": "stream",
     "text": [
      "100%|██████████| 10000/10000 [1:12:33<00:00,  2.30it/s]\n"
     ]
    },
    {
     "name": "stdout",
     "output_type": "stream",
     "text": [
      "   clinTF  sens  FAR  rate  detected%  noInjury  total    mean\n",
      "0    True   0.7    0     3         70      7376   3037  0.3037\n"
     ]
    },
    {
     "name": "stderr",
     "output_type": "stream",
     "text": [
      "100%|██████████| 10000/10000 [1:12:39<00:00,  2.29it/s]\n"
     ]
    },
    {
     "name": "stdout",
     "output_type": "stream",
     "text": [
      "   clinTF  sens  FAR  rate  detected%  noInjury   total     mean\n",
      "0    True   0.7    0   300         69        20  229535  22.9535\n"
     ]
    },
    {
     "name": "stderr",
     "output_type": "stream",
     "text": [
      "100%|██████████| 10000/10000 [1:12:36<00:00,  2.30it/s]\n"
     ]
    },
    {
     "name": "stdout",
     "output_type": "stream",
     "text": [
      "   clinTF  sens  FAR  rate  detected%  noInjury  total    mean\n",
      "0   False   0.7    0     3         68      7505   2877  0.2877\n"
     ]
    },
    {
     "name": "stderr",
     "output_type": "stream",
     "text": [
      "100%|██████████| 10000/10000 [1:12:33<00:00,  2.30it/s]\n"
     ]
    },
    {
     "name": "stdout",
     "output_type": "stream",
     "text": [
      "   clinTF  sens  FAR  rate  detected%  noInjury   total     mean\n",
      "0   False   0.7    0   300         70        27  229479  22.9479\n"
     ]
    },
    {
     "name": "stderr",
     "output_type": "stream",
     "text": [
      "100%|██████████| 10000/10000 [1:12:32<00:00,  2.30it/s]\n"
     ]
    },
    {
     "name": "stdout",
     "output_type": "stream",
     "text": [
      "   clinTF  sens  FAR  rate  detected%  noInjury  total    mean\n",
      "0    True   0.7    0     3         69      7384   3009  0.3009\n"
     ]
    },
    {
     "name": "stderr",
     "output_type": "stream",
     "text": [
      "100%|██████████| 10000/10000 [1:12:36<00:00,  2.30it/s]\n"
     ]
    },
    {
     "name": "stdout",
     "output_type": "stream",
     "text": [
      "   clinTF  sens  FAR  rate  detected%  noInjury   total     mean\n",
      "0    True   0.7    0   300         69        26  229332  22.9332\n"
     ]
    },
    {
     "name": "stderr",
     "output_type": "stream",
     "text": [
      "100%|██████████| 10000/10000 [1:12:39<00:00,  2.29it/s]\n"
     ]
    },
    {
     "name": "stdout",
     "output_type": "stream",
     "text": [
      "   clinTF  sens  FAR  rate  detected%  noInjury  total    mean\n",
      "0   False   0.7    0     3         72      7424   2972  0.2972\n"
     ]
    },
    {
     "name": "stderr",
     "output_type": "stream",
     "text": [
      "100%|██████████| 10000/10000 [1:12:42<00:00,  2.29it/s]\n"
     ]
    },
    {
     "name": "stdout",
     "output_type": "stream",
     "text": [
      "   clinTF  sens  FAR  rate  detected%  noInjury   total     mean\n",
      "0   False   0.7    0   300         69        25  228785  22.8785\n"
     ]
    },
    {
     "name": "stderr",
     "output_type": "stream",
     "text": [
      "100%|██████████| 10000/10000 [1:12:38<00:00,  2.29it/s]\n"
     ]
    },
    {
     "name": "stdout",
     "output_type": "stream",
     "text": [
      "   clinTF  sens  FAR  rate  detected%  noInjury  total    mean\n",
      "0    True   0.7    0     3         69      7468   2894  0.2894\n"
     ]
    },
    {
     "name": "stderr",
     "output_type": "stream",
     "text": [
      " 12%|█▏        | 1211/10000 [08:42<1:04:55,  2.26it/s]"
     ]
    }
   ],
   "source": [
    "%reload_ext autoreload\n",
    "%autoreload 2\n",
    "from weargroup_v2 import run_injury_case\n",
    "import numpy as np\n",
    "import pandas as pd\n",
    "\n",
    "xf = pd.DataFrame()\n",
    "for sens in np.linspace(0.5,1,6):\n",
    "    for FAR in [0,.5,1,2]:\n",
    "        for clinTF in [True,False]:\n",
    "            x = run_injury_case(sens=sens,FAR=0,N=10000,numCPUs=7,clinTF=clinTF)\n",
    "            xf = pd.concat([xf,x])\n",
    "\n",
    "xf.to_csv('injuryCSV.csv',index=False)"
   ]
  }
 ],
 "metadata": {
  "kernelspec": {
   "display_name": "Python 3.9.10 ('base')",
   "language": "python",
   "name": "python3"
  },
  "language_info": {
   "codemirror_mode": {
    "name": "ipython",
    "version": 3
   },
   "file_extension": ".py",
   "mimetype": "text/x-python",
   "name": "python",
   "nbconvert_exporter": "python",
   "pygments_lexer": "ipython3",
   "version": "3.9.10"
  },
  "orig_nbformat": 4,
  "vscode": {
   "interpreter": {
    "hash": "a75652ec939923e1a99ff81e423d7576a9a43109440f923e9b71a299bff85a6a"
   }
  }
 },
 "nbformat": 4,
 "nbformat_minor": 2
}
