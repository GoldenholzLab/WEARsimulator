{
 "cells": [
  {
   "cell_type": "code",
   "execution_count": 4,
   "metadata": {},
   "outputs": [
    {
     "data": {
      "application/vnd.jupyter.widget-view+json": {
       "model_id": "95bd5892083942e8bfa45cfe6cdc7a25",
       "version_major": 2,
       "version_minor": 0
      },
      "text/plain": [
       "FAR:   0%|          | 0/3 [00:00<?, ?it/s]"
      ]
     },
     "metadata": {},
     "output_type": "display_data"
    },
    {
     "data": {
      "application/vnd.jupyter.widget-view+json": {
       "model_id": "126de9f4b7dc49ef96b953047db5a5b9",
       "version_major": 2,
       "version_minor": 0
      },
      "text/plain": [
       "sens:   0%|          | 0/3 [00:00<?, ?it/s]"
      ]
     },
     "metadata": {},
     "output_type": "display_data"
    },
    {
     "data": {
      "application/vnd.jupyter.widget-view+json": {
       "model_id": "9da6b5b10844401f8390115761d914e8",
       "version_major": 2,
       "version_minor": 0
      },
      "text/plain": [
       "N:   0%|          | 0/52 [00:00<?, ?it/s]"
      ]
     },
     "metadata": {},
     "output_type": "display_data"
    },
    {
     "data": {
      "application/vnd.jupyter.widget-view+json": {
       "model_id": "1278074bf5e14f4682a3bcf220e10fd2",
       "version_major": 2,
       "version_minor": 0
      },
      "text/plain": [
       "N:   0%|          | 0/52 [00:00<?, ?it/s]"
      ]
     },
     "metadata": {},
     "output_type": "display_data"
    },
    {
     "data": {
      "application/vnd.jupyter.widget-view+json": {
       "model_id": "4e634df8a4714e4db8f5078d5d53fdb3",
       "version_major": 2,
       "version_minor": 0
      },
      "text/plain": [
       "N:   0%|          | 0/52 [00:00<?, ?it/s]"
      ]
     },
     "metadata": {},
     "output_type": "display_data"
    },
    {
     "data": {
      "application/vnd.jupyter.widget-view+json": {
       "model_id": "497afa1eeb8d47f7a0c3288e2e5d59a8",
       "version_major": 2,
       "version_minor": 0
      },
      "text/plain": [
       "sens:   0%|          | 0/3 [00:00<?, ?it/s]"
      ]
     },
     "metadata": {},
     "output_type": "display_data"
    },
    {
     "data": {
      "application/vnd.jupyter.widget-view+json": {
       "model_id": "4e9000091d454682b75ec0490badc3ef",
       "version_major": 2,
       "version_minor": 0
      },
      "text/plain": [
       "N:   0%|          | 0/52 [00:00<?, ?it/s]"
      ]
     },
     "metadata": {},
     "output_type": "display_data"
    },
    {
     "data": {
      "application/vnd.jupyter.widget-view+json": {
       "model_id": "82de81ecc9484a4ab43e994008223774",
       "version_major": 2,
       "version_minor": 0
      },
      "text/plain": [
       "N:   0%|          | 0/52 [00:00<?, ?it/s]"
      ]
     },
     "metadata": {},
     "output_type": "display_data"
    },
    {
     "data": {
      "application/vnd.jupyter.widget-view+json": {
       "model_id": "1fbbb70449984ad59ed27507c0acf063",
       "version_major": 2,
       "version_minor": 0
      },
      "text/plain": [
       "N:   0%|          | 0/52 [00:00<?, ?it/s]"
      ]
     },
     "metadata": {},
     "output_type": "display_data"
    },
    {
     "data": {
      "application/vnd.jupyter.widget-view+json": {
       "model_id": "665444af9bac44a1b705b2ee7f1a037b",
       "version_major": 2,
       "version_minor": 0
      },
      "text/plain": [
       "sens:   0%|          | 0/3 [00:00<?, ?it/s]"
      ]
     },
     "metadata": {},
     "output_type": "display_data"
    },
    {
     "data": {
      "application/vnd.jupyter.widget-view+json": {
       "model_id": "a9d56462345e430389ce0e1efecc100c",
       "version_major": 2,
       "version_minor": 0
      },
      "text/plain": [
       "N:   0%|          | 0/52 [00:00<?, ?it/s]"
      ]
     },
     "metadata": {},
     "output_type": "display_data"
    },
    {
     "data": {
      "application/vnd.jupyter.widget-view+json": {
       "model_id": "dd0af870974a4ea19e9b91da1dee2bce",
       "version_major": 2,
       "version_minor": 0
      },
      "text/plain": [
       "N:   0%|          | 0/52 [00:00<?, ?it/s]"
      ]
     },
     "metadata": {},
     "output_type": "display_data"
    },
    {
     "data": {
      "application/vnd.jupyter.widget-view+json": {
       "model_id": "5d770cca3bb44d03a3e0547cfea47ba7",
       "version_major": 2,
       "version_minor": 0
      },
      "text/plain": [
       "N:   0%|          | 0/52 [00:00<?, ?it/s]"
      ]
     },
     "metadata": {},
     "output_type": "display_data"
    },
    {
     "data": {
      "image/png": "[encoded data removed]",
      "text/plain": [
       "<Figure size 360x360 with 2 Axes>"
      ]
     },
     "metadata": {
      "needs_background": "light"
     },
     "output_type": "display_data"
    },
    {
     "name": "stdout",
     "output_type": "stream",
     "text": [
      "Time = 35075.97347474098\n"
     ]
    },
    {
     "data": {
      "application/vnd.jupyter.widget-view+json": {
       "model_id": "40a7bb91938a489b9b547e1c2ccd53b3",
       "version_major": 2,
       "version_minor": 0
      },
      "text/plain": [
       "FAR:   0%|          | 0/3 [00:00<?, ?it/s]"
      ]
     },
     "metadata": {},
     "output_type": "display_data"
    },
    {
     "data": {
      "application/vnd.jupyter.widget-view+json": {
       "model_id": "833a48d5a69d432f98bd635d939d0d16",
       "version_major": 2,
       "version_minor": 0
      },
      "text/plain": [
       "sens:   0%|          | 0/3 [00:00<?, ?it/s]"
      ]
     },
     "metadata": {},
     "output_type": "display_data"
    },
    {
     "data": {
      "application/vnd.jupyter.widget-view+json": {
       "model_id": "b5a10866c0584d7fb1e7be4c4836de1d",
       "version_major": 2,
       "version_minor": 0
      },
      "text/plain": [
       "N:   0%|          | 0/52 [00:00<?, ?it/s]"
      ]
     },
     "metadata": {},
     "output_type": "display_data"
    },
    {
     "data": {
      "application/vnd.jupyter.widget-view+json": {
       "model_id": "1151792825da42188e5e742f5b49511c",
       "version_major": 2,
       "version_minor": 0
      },
      "text/plain": [
       "N:   0%|          | 0/52 [00:00<?, ?it/s]"
      ]
     },
     "metadata": {},
     "output_type": "display_data"
    },
    {
     "data": {
      "application/vnd.jupyter.widget-view+json": {
       "model_id": "c7ea870a7c5f49ca89da6f0d3158eda6",
       "version_major": 2,
       "version_minor": 0
      },
      "text/plain": [
       "N:   0%|          | 0/52 [00:00<?, ?it/s]"
      ]
     },
     "metadata": {},
     "output_type": "display_data"
    },
    {
     "data": {
      "application/vnd.jupyter.widget-view+json": {
       "model_id": "2c9427ab8f7048dd86d35bde1718ac07",
       "version_major": 2,
       "version_minor": 0
      },
      "text/plain": [
       "sens:   0%|          | 0/3 [00:00<?, ?it/s]"
      ]
     },
     "metadata": {},
     "output_type": "display_data"
    },
    {
     "data": {
      "application/vnd.jupyter.widget-view+json": {
       "model_id": "0b4c3163ed2c43d9abaa3fb3b7155ebe",
       "version_major": 2,
       "version_minor": 0
      },
      "text/plain": [
       "N:   0%|          | 0/52 [00:00<?, ?it/s]"
      ]
     },
     "metadata": {},
     "output_type": "display_data"
    },
    {
     "data": {
      "application/vnd.jupyter.widget-view+json": {
       "model_id": "b9c3745900664474a07a6ad23f07aff4",
       "version_major": 2,
       "version_minor": 0
      },
      "text/plain": [
       "N:   0%|          | 0/52 [00:00<?, ?it/s]"
      ]
     },
     "metadata": {},
     "output_type": "display_data"
    },
    {
     "data": {
      "application/vnd.jupyter.widget-view+json": {
       "model_id": "a6ff3978ef594c0296494c68a138baed",
       "version_major": 2,
       "version_minor": 0
      },
      "text/plain": [
       "N:   0%|          | 0/52 [00:00<?, ?it/s]"
      ]
     },
     "metadata": {},
     "output_type": "display_data"
    },
    {
     "data": {
      "application/vnd.jupyter.widget-view+json": {
       "model_id": "6dbb2131f78d40898d5f651e7db391fe",
       "version_major": 2,
       "version_minor": 0
      },
      "text/plain": [
       "sens:   0%|          | 0/3 [00:00<?, ?it/s]"
      ]
     },
     "metadata": {},
     "output_type": "display_data"
    },
    {
     "data": {
      "application/vnd.jupyter.widget-view+json": {
       "model_id": "7fb0d5eb12a64c489ac3c51ff4883167",
       "version_major": 2,
       "version_minor": 0
      },
      "text/plain": [
       "N:   0%|          | 0/52 [00:00<?, ?it/s]"
      ]
     },
     "metadata": {},
     "output_type": "display_data"
    },
    {
     "data": {
      "application/vnd.jupyter.widget-view+json": {
       "model_id": "4824a311b0794b8482868d453e7655bd",
       "version_major": 2,
       "version_minor": 0
      },
      "text/plain": [
       "N:   0%|          | 0/52 [00:00<?, ?it/s]"
      ]
     },
     "metadata": {},
     "output_type": "display_data"
    },
    {
     "data": {
      "application/vnd.jupyter.widget-view+json": {
       "model_id": "9dd5d697c6c847729b2823ad9868d8df",
       "version_major": 2,
       "version_minor": 0
      },
      "text/plain": [
       "N:   0%|          | 0/52 [00:00<?, ?it/s]"
      ]
     },
     "metadata": {},
     "output_type": "display_data"
    },
    {
     "data": {
      "image/png": "[encoded data removed]",
      "text/plain": [
       "<Figure size 360x360 with 2 Axes>"
      ]
     },
     "metadata": {
      "needs_background": "light"
     },
     "output_type": "display_data"
    },
    {
     "name": "stdout",
     "output_type": "stream",
     "text": [
      "Time = 92791.46820878983\n"
     ]
    }
   ],
   "source": [
    "%reload_ext autoreload\n",
    "%autoreload 2\n",
    "import numpy as np\n",
    "np.warnings.filterwarnings('ignore', category=np.VisibleDeprecationWarning)   \n",
    "from weargroup import do_simple_case1_sim\n",
    "do_simple_case1_sim(figname='MPCclinFALSEbigger',numCPUs=5,clinTF=False,FARlist=[0,1,5],sensLIST=[0.4,.8,1])\n",
    "do_simple_case1_sim(figname='MPCclinTRUEbigger',numCPUs=5,clinTF=True,FARlist=[0,1,5],sensLIST=[0.4,.8,1])\n"
   ]
  },
  {
   "cell_type": "code",
   "execution_count": 1,
   "metadata": {},
   "outputs": [
    {
     "data": {
      "application/vnd.jupyter.widget-view+json": {
       "model_id": "4340d94140e94567b58a1ac6cfd5559f",
       "version_major": 2,
       "version_minor": 0
      },
      "text/plain": [
       "  0%|          | 0/10000 [00:00<?, ?it/s]"
      ]
     },
     "metadata": {},
     "output_type": "display_data"
    },
    {
     "name": "stdout",
     "output_type": "stream",
     "text": [
      "   clinTF  sens  FAR  diffSz  drugCount\n",
      "0    True   0.5    0  0.2293     0.8826\n"
     ]
    },
    {
     "data": {
      "application/vnd.jupyter.widget-view+json": {
       "model_id": "23dad86abaac4da6be34913522f4c635",
       "version_major": 2,
       "version_minor": 0
      },
      "text/plain": [
       "  0%|          | 0/10000 [00:00<?, ?it/s]"
      ]
     },
     "metadata": {},
     "output_type": "display_data"
    },
    {
     "name": "stdout",
     "output_type": "stream",
     "text": [
      "   clinTF  sens  FAR  diffSz  drugCount\n",
      "0    True   0.6    0  0.3295     1.2506\n"
     ]
    },
    {
     "data": {
      "application/vnd.jupyter.widget-view+json": {
       "model_id": "d483ae0214f04f0788dcc9fac2c827d8",
       "version_major": 2,
       "version_minor": 0
      },
      "text/plain": [
       "  0%|          | 0/10000 [00:00<?, ?it/s]"
      ]
     },
     "metadata": {},
     "output_type": "display_data"
    },
    {
     "name": "stdout",
     "output_type": "stream",
     "text": [
      "   clinTF  sens  FAR  diffSz  drugCount\n",
      "0    True   0.7    0  0.4555     1.7429\n"
     ]
    },
    {
     "data": {
      "application/vnd.jupyter.widget-view+json": {
       "model_id": "372f184dbe9c4ca886c1cab6877a1f52",
       "version_major": 2,
       "version_minor": 0
      },
      "text/plain": [
       "  0%|          | 0/10000 [00:00<?, ?it/s]"
      ]
     },
     "metadata": {},
     "output_type": "display_data"
    },
    {
     "name": "stdout",
     "output_type": "stream",
     "text": [
      "   clinTF  sens  FAR  diffSz  drugCount\n",
      "0    True   0.8    0  0.5985     2.2806\n"
     ]
    },
    {
     "data": {
      "application/vnd.jupyter.widget-view+json": {
       "model_id": "3dfea6a78edd4b2995a0cfaacd2cabfa",
       "version_major": 2,
       "version_minor": 0
      },
      "text/plain": [
       "  0%|          | 0/10000 [00:00<?, ?it/s]"
      ]
     },
     "metadata": {},
     "output_type": "display_data"
    },
    {
     "name": "stdout",
     "output_type": "stream",
     "text": [
      "   clinTF  sens  FAR  diffSz  drugCount\n",
      "0    True   0.9    0  0.7278     2.7927\n"
     ]
    },
    {
     "data": {
      "application/vnd.jupyter.widget-view+json": {
       "model_id": "190e941c130548faa7bf970a732646f4",
       "version_major": 2,
       "version_minor": 0
      },
      "text/plain": [
       "  0%|          | 0/10000 [00:00<?, ?it/s]"
      ]
     },
     "metadata": {},
     "output_type": "display_data"
    },
    {
     "name": "stdout",
     "output_type": "stream",
     "text": [
      "   clinTF  sens  FAR  diffSz  drugCount\n",
      "0    True   1.0    0  0.9217     3.4739\n"
     ]
    },
    {
     "data": {
      "application/vnd.jupyter.widget-view+json": {
       "model_id": "b45eb3bac5344a8aaf4e4bcc461c937b",
       "version_major": 2,
       "version_minor": 0
      },
      "text/plain": [
       "  0%|          | 0/10000 [00:00<?, ?it/s]"
      ]
     },
     "metadata": {},
     "output_type": "display_data"
    },
    {
     "ename": "TypeError",
     "evalue": "'<' not supported between instances of 'list' and 'int'",
     "output_type": "error",
     "traceback": [
      "\u001b[0;31m---------------------------------------------------------------------------\u001b[0m",
      "\u001b[0;31m_RemoteTraceback\u001b[0m                          Traceback (most recent call last)",
      "\u001b[0;31m_RemoteTraceback\u001b[0m: \n\"\"\"\nTraceback (most recent call last):\n  File \"/Users/dgodenh/miniforge3/lib/python3.9/site-packages/joblib/externals/loky/process_executor.py\", line 436, in _process_worker\n    r = call_item()\n  File \"/Users/dgodenh/miniforge3/lib/python3.9/site-packages/joblib/externals/loky/process_executor.py\", line 288, in __call__\n    return self.fn(*self.args, **self.kwargs)\n  File \"/Users/dgodenh/miniforge3/lib/python3.9/site-packages/joblib/_parallel_backends.py\", line 595, in __call__\n    return self.func(*args, **kwargs)\n  File \"/Users/dgodenh/miniforge3/lib/python3.9/site-packages/joblib/parallel.py\", line 262, in __call__\n    return [func(*args, **kwargs)\n  File \"/Users/dgodenh/miniforge3/lib/python3.9/site-packages/joblib/parallel.py\", line 262, in <listcomp>\n    return [func(*args, **kwargs)\n  File \"/Users/dgodenh/Documents/GitHub/WEARsimulator/weargroup_v2.py\", line 755, in sim1clusterCase\n    thisSensor = add_sens_and_FAR(sensitivity=sens,FAR=FAR/sampRATE,X=thisDiary,downsampleRATE=1,inflater=inflater)\n  File \"/Users/dgodenh/Documents/GitHub/WEARsimulator/weargroup_v2.py\", line 66, in add_sens_and_FAR\n    if sensitivity<1:\nTypeError: '<' not supported between instances of 'list' and 'int'\n\"\"\"",
      "\nThe above exception was the direct cause of the following exception:\n",
      "\u001b[0;31mTypeError\u001b[0m                                 Traceback (most recent call last)",
      "\u001b[1;32m/Users/dgodenh/Documents/GitHub/WEARsimulator/wear_paper-old.ipynb Cell 2\u001b[0m in \u001b[0;36m<cell line: 4>\u001b[0;34m()\u001b[0m\n\u001b[1;32m      <a href='vscode-notebook-cell:/Users/dgodenh/Documents/GitHub/WEARsimulator/wear_paper-old.ipynb#W1sZmlsZQ%3D%3D?line=1'>2</a>\u001b[0m get_ipython()\u001b[39m.\u001b[39mrun_line_magic(\u001b[39m'\u001b[39m\u001b[39mautoreload\u001b[39m\u001b[39m'\u001b[39m, \u001b[39m'\u001b[39m\u001b[39m2\u001b[39m\u001b[39m'\u001b[39m)\n\u001b[1;32m      <a href='vscode-notebook-cell:/Users/dgodenh/Documents/GitHub/WEARsimulator/wear_paper-old.ipynb#W1sZmlsZQ%3D%3D?line=2'>3</a>\u001b[0m \u001b[39mfrom\u001b[39;00m \u001b[39mweargroup_v2\u001b[39;00m \u001b[39mimport\u001b[39;00m run_full_cluster_cases\n\u001b[0;32m----> <a href='vscode-notebook-cell:/Users/dgodenh/Documents/GitHub/WEARsimulator/wear_paper-old.ipynb#W1sZmlsZQ%3D%3D?line=3'>4</a>\u001b[0m run_full_cluster_cases(fn\u001b[39m=\u001b[39;49m\u001b[39m'\u001b[39;49m\u001b[39mclusterCase10k.csv\u001b[39;49m\u001b[39m'\u001b[39;49m,N\u001b[39m=\u001b[39;49m\u001b[39m10000\u001b[39;49m,numCPUs\u001b[39m=\u001b[39;49m\u001b[39m3\u001b[39;49m)\n",
      "File \u001b[0;32m~/Documents/GitHub/WEARsimulator/weargroup_v2.py:709\u001b[0m, in \u001b[0;36mrun_full_cluster_cases\u001b[0;34m(fn, N, numCPUs)\u001b[0m\n\u001b[1;32m    707\u001b[0m         xf \u001b[39m=\u001b[39m pd\u001b[39m.\u001b[39mconcat([xf,x])\n\u001b[1;32m    708\u001b[0m     \u001b[39mfor\u001b[39;00m FAR \u001b[39min\u001b[39;00m [\u001b[39m.05\u001b[39m,\u001b[39m.1\u001b[39m,\u001b[39m.2\u001b[39m,\u001b[39m.5\u001b[39m,\u001b[39m1\u001b[39m,\u001b[39m2\u001b[39m]:\n\u001b[0;32m--> 709\u001b[0m         x \u001b[39m=\u001b[39m run_cluster_cases(sens\u001b[39m=\u001b[39;49m[\u001b[39m1\u001b[39;49m],FAR\u001b[39m=\u001b[39;49mFAR,N\u001b[39m=\u001b[39;49mN,numCPUs\u001b[39m=\u001b[39;49mnumCPUs,clinTF\u001b[39m=\u001b[39;49mclinTF)\n\u001b[1;32m    710\u001b[0m         xf \u001b[39m=\u001b[39m pd\u001b[39m.\u001b[39mconcat([xf,x],ignore_index\u001b[39m=\u001b[39m\u001b[39mTrue\u001b[39;00m)\n\u001b[1;32m    712\u001b[0m xf\u001b[39m.\u001b[39mto_csv(fn,index\u001b[39m=\u001b[39m\u001b[39mFalse\u001b[39;00m)\n",
      "File \u001b[0;32m~/Documents/GitHub/WEARsimulator/weargroup_v2.py:720\u001b[0m, in \u001b[0;36mrun_cluster_cases\u001b[0;34m(sens, FAR, N, numCPUs, clinTF)\u001b[0m\n\u001b[1;32m    718\u001b[0m \u001b[39mif\u001b[39;00m numCPUs\u001b[39m>\u001b[39m\u001b[39m1\u001b[39m:\n\u001b[1;32m    719\u001b[0m     \u001b[39mwith\u001b[39;00m Parallel(n_jobs\u001b[39m=\u001b[39mnumCPUs, verbose\u001b[39m=\u001b[39m\u001b[39mFalse\u001b[39;00m) \u001b[39mas\u001b[39;00m par:\n\u001b[0;32m--> 720\u001b[0m         temp \u001b[39m=\u001b[39m par(delayed(sim1clusterCase)(sens,FAR,clinTF) \u001b[39mfor\u001b[39;49;00m _ \u001b[39min\u001b[39;49;00m trange(N))\n\u001b[1;32m    721\u001b[0m \u001b[39melse\u001b[39;00m:\n\u001b[1;32m    722\u001b[0m     temp \u001b[39m=\u001b[39m [ sim1clusterCase(sens,FAR,clinTF) \u001b[39mfor\u001b[39;00m _ \u001b[39min\u001b[39;00m trange(N)]\n",
      "File \u001b[0;32m~/miniforge3/lib/python3.9/site-packages/joblib/parallel.py:1056\u001b[0m, in \u001b[0;36mParallel.__call__\u001b[0;34m(self, iterable)\u001b[0m\n\u001b[1;32m   1053\u001b[0m     \u001b[39mself\u001b[39m\u001b[39m.\u001b[39m_iterating \u001b[39m=\u001b[39m \u001b[39mFalse\u001b[39;00m\n\u001b[1;32m   1055\u001b[0m \u001b[39mwith\u001b[39;00m \u001b[39mself\u001b[39m\u001b[39m.\u001b[39m_backend\u001b[39m.\u001b[39mretrieval_context():\n\u001b[0;32m-> 1056\u001b[0m     \u001b[39mself\u001b[39;49m\u001b[39m.\u001b[39;49mretrieve()\n\u001b[1;32m   1057\u001b[0m \u001b[39m# Make sure that we get a last message telling us we are done\u001b[39;00m\n\u001b[1;32m   1058\u001b[0m elapsed_time \u001b[39m=\u001b[39m time\u001b[39m.\u001b[39mtime() \u001b[39m-\u001b[39m \u001b[39mself\u001b[39m\u001b[39m.\u001b[39m_start_time\n",
      "File \u001b[0;32m~/miniforge3/lib/python3.9/site-packages/joblib/parallel.py:935\u001b[0m, in \u001b[0;36mParallel.retrieve\u001b[0;34m(self)\u001b[0m\n\u001b[1;32m    933\u001b[0m \u001b[39mtry\u001b[39;00m:\n\u001b[1;32m    934\u001b[0m     \u001b[39mif\u001b[39;00m \u001b[39mgetattr\u001b[39m(\u001b[39mself\u001b[39m\u001b[39m.\u001b[39m_backend, \u001b[39m'\u001b[39m\u001b[39msupports_timeout\u001b[39m\u001b[39m'\u001b[39m, \u001b[39mFalse\u001b[39;00m):\n\u001b[0;32m--> 935\u001b[0m         \u001b[39mself\u001b[39m\u001b[39m.\u001b[39m_output\u001b[39m.\u001b[39mextend(job\u001b[39m.\u001b[39;49mget(timeout\u001b[39m=\u001b[39;49m\u001b[39mself\u001b[39;49m\u001b[39m.\u001b[39;49mtimeout))\n\u001b[1;32m    936\u001b[0m     \u001b[39melse\u001b[39;00m:\n\u001b[1;32m    937\u001b[0m         \u001b[39mself\u001b[39m\u001b[39m.\u001b[39m_output\u001b[39m.\u001b[39mextend(job\u001b[39m.\u001b[39mget())\n",
      "File \u001b[0;32m~/miniforge3/lib/python3.9/site-packages/joblib/_parallel_backends.py:542\u001b[0m, in \u001b[0;36mLokyBackend.wrap_future_result\u001b[0;34m(future, timeout)\u001b[0m\n\u001b[1;32m    539\u001b[0m \u001b[39m\"\"\"Wrapper for Future.result to implement the same behaviour as\u001b[39;00m\n\u001b[1;32m    540\u001b[0m \u001b[39mAsyncResults.get from multiprocessing.\"\"\"\u001b[39;00m\n\u001b[1;32m    541\u001b[0m \u001b[39mtry\u001b[39;00m:\n\u001b[0;32m--> 542\u001b[0m     \u001b[39mreturn\u001b[39;00m future\u001b[39m.\u001b[39;49mresult(timeout\u001b[39m=\u001b[39;49mtimeout)\n\u001b[1;32m    543\u001b[0m \u001b[39mexcept\u001b[39;00m CfTimeoutError \u001b[39mas\u001b[39;00m e:\n\u001b[1;32m    544\u001b[0m     \u001b[39mraise\u001b[39;00m \u001b[39mTimeoutError\u001b[39;00m \u001b[39mfrom\u001b[39;00m \u001b[39me\u001b[39;00m\n",
      "File \u001b[0;32m~/miniforge3/lib/python3.9/concurrent/futures/_base.py:446\u001b[0m, in \u001b[0;36mFuture.result\u001b[0;34m(self, timeout)\u001b[0m\n\u001b[1;32m    444\u001b[0m     \u001b[39mraise\u001b[39;00m CancelledError()\n\u001b[1;32m    445\u001b[0m \u001b[39melif\u001b[39;00m \u001b[39mself\u001b[39m\u001b[39m.\u001b[39m_state \u001b[39m==\u001b[39m FINISHED:\n\u001b[0;32m--> 446\u001b[0m     \u001b[39mreturn\u001b[39;00m \u001b[39mself\u001b[39;49m\u001b[39m.\u001b[39;49m__get_result()\n\u001b[1;32m    447\u001b[0m \u001b[39melse\u001b[39;00m:\n\u001b[1;32m    448\u001b[0m     \u001b[39mraise\u001b[39;00m \u001b[39mTimeoutError\u001b[39;00m()\n",
      "File \u001b[0;32m~/miniforge3/lib/python3.9/concurrent/futures/_base.py:391\u001b[0m, in \u001b[0;36mFuture.__get_result\u001b[0;34m(self)\u001b[0m\n\u001b[1;32m    389\u001b[0m \u001b[39mif\u001b[39;00m \u001b[39mself\u001b[39m\u001b[39m.\u001b[39m_exception:\n\u001b[1;32m    390\u001b[0m     \u001b[39mtry\u001b[39;00m:\n\u001b[0;32m--> 391\u001b[0m         \u001b[39mraise\u001b[39;00m \u001b[39mself\u001b[39m\u001b[39m.\u001b[39m_exception\n\u001b[1;32m    392\u001b[0m     \u001b[39mfinally\u001b[39;00m:\n\u001b[1;32m    393\u001b[0m         \u001b[39m# Break a reference cycle with the exception in self._exception\u001b[39;00m\n\u001b[1;32m    394\u001b[0m         \u001b[39mself\u001b[39m \u001b[39m=\u001b[39m \u001b[39mNone\u001b[39;00m\n",
      "\u001b[0;31mTypeError\u001b[0m: '<' not supported between instances of 'list' and 'int'"
     ]
    }
   ],
   "source": [
    "%reload_ext autoreload\n",
    "%autoreload 2\n",
    "from weargroup_v2 import run_full_cluster_cases\n",
    "run_full_cluster_cases(fn='clusterCase10k.csv',N=10000,numCPUs=3)"
   ]
  },
  {
   "cell_type": "code",
   "execution_count": null,
   "metadata": {},
   "outputs": [],
   "source": []
  },
  {
   "cell_type": "code",
   "execution_count": 7,
   "metadata": {},
   "outputs": [
    {
     "data": {
      "application/vnd.jupyter.widget-view+json": {
       "model_id": "1fe842afbf634646990a04fa91407e06",
       "version_major": 2,
       "version_minor": 0
      },
      "text/plain": [
       "FAR:   0%|          | 0/3 [00:00<?, ?it/s]"
      ]
     },
     "metadata": {},
     "output_type": "display_data"
    },
    {
     "data": {
      "application/vnd.jupyter.widget-view+json": {
       "model_id": "1be16d35be9d4443b327f7085b283723",
       "version_major": 2,
       "version_minor": 0
      },
      "text/plain": [
       "sens:   0%|          | 0/3 [00:00<?, ?it/s]"
      ]
     },
     "metadata": {},
     "output_type": "display_data"
    },
    {
     "data": {
      "application/vnd.jupyter.widget-view+json": {
       "model_id": "f25636242806425daa47af17113b9af4",
       "version_major": 2,
       "version_minor": 0
      },
      "text/plain": [
       "N:   0%|          | 0/12 [00:00<?, ?it/s]"
      ]
     },
     "metadata": {},
     "output_type": "display_data"
    },
    {
     "name": "stdout",
     "output_type": "stream",
     "text": [
      "aborted after {REPS4*3}\n"
     ]
    },
    {
     "data": {
      "application/vnd.jupyter.widget-view+json": {
       "model_id": "45d29d3669374379a8cb64c5f99f62ad",
       "version_major": 2,
       "version_minor": 0
      },
      "text/plain": [
       "N:   0%|          | 0/12 [00:00<?, ?it/s]"
      ]
     },
     "metadata": {},
     "output_type": "display_data"
    },
    {
     "name": "stdout",
     "output_type": "stream",
     "text": [
      "aborted after {REPS4*3}\n"
     ]
    },
    {
     "data": {
      "application/vnd.jupyter.widget-view+json": {
       "model_id": "7551f07678d3401888e788a087bbe86f",
       "version_major": 2,
       "version_minor": 0
      },
      "text/plain": [
       "N:   0%|          | 0/12 [00:00<?, ?it/s]"
      ]
     },
     "metadata": {},
     "output_type": "display_data"
    },
    {
     "name": "stdout",
     "output_type": "stream",
     "text": [
      "aborted after {REPS4*3}\n"
     ]
    },
    {
     "data": {
      "application/vnd.jupyter.widget-view+json": {
       "model_id": "f02060d9f732464f9c96d8b6a4aca45d",
       "version_major": 2,
       "version_minor": 0
      },
      "text/plain": [
       "sens:   0%|          | 0/3 [00:00<?, ?it/s]"
      ]
     },
     "metadata": {},
     "output_type": "display_data"
    },
    {
     "data": {
      "application/vnd.jupyter.widget-view+json": {
       "model_id": "2eecd860dcee40c49d59ed558eecf6b1",
       "version_major": 2,
       "version_minor": 0
      },
      "text/plain": [
       "N:   0%|          | 0/12 [00:00<?, ?it/s]"
      ]
     },
     "metadata": {},
     "output_type": "display_data"
    },
    {
     "name": "stdout",
     "output_type": "stream",
     "text": [
      "aborted after {REPS4*3}\n"
     ]
    },
    {
     "data": {
      "application/vnd.jupyter.widget-view+json": {
       "model_id": "e4bae2df493149d5b65b73f902d6c14e",
       "version_major": 2,
       "version_minor": 0
      },
      "text/plain": [
       "N:   0%|          | 0/12 [00:00<?, ?it/s]"
      ]
     },
     "metadata": {},
     "output_type": "display_data"
    },
    {
     "name": "stdout",
     "output_type": "stream",
     "text": [
      "aborted after {REPS4*3}\n"
     ]
    },
    {
     "data": {
      "application/vnd.jupyter.widget-view+json": {
       "model_id": "9571ce4951d34eb087f7e2a8042910c6",
       "version_major": 2,
       "version_minor": 0
      },
      "text/plain": [
       "N:   0%|          | 0/12 [00:00<?, ?it/s]"
      ]
     },
     "metadata": {},
     "output_type": "display_data"
    },
    {
     "data": {
      "application/vnd.jupyter.widget-view+json": {
       "model_id": "d28f1135f73c4a8a9cb28887102f0dc6",
       "version_major": 2,
       "version_minor": 0
      },
      "text/plain": [
       "sens:   0%|          | 0/3 [00:00<?, ?it/s]"
      ]
     },
     "metadata": {},
     "output_type": "display_data"
    },
    {
     "data": {
      "application/vnd.jupyter.widget-view+json": {
       "model_id": "23b3d377aa564666a15eca88e299f96f",
       "version_major": 2,
       "version_minor": 0
      },
      "text/plain": [
       "N:   0%|          | 0/12 [00:00<?, ?it/s]"
      ]
     },
     "metadata": {},
     "output_type": "display_data"
    },
    {
     "name": "stdout",
     "output_type": "stream",
     "text": [
      "aborted after {REPS4*3}\n"
     ]
    },
    {
     "data": {
      "application/vnd.jupyter.widget-view+json": {
       "model_id": "2509f09e61fa467fa80cc506930c9aa7",
       "version_major": 2,
       "version_minor": 0
      },
      "text/plain": [
       "N:   0%|          | 0/12 [00:00<?, ?it/s]"
      ]
     },
     "metadata": {},
     "output_type": "display_data"
    },
    {
     "name": "stdout",
     "output_type": "stream",
     "text": [
      "aborted after {REPS4*3}\n"
     ]
    },
    {
     "data": {
      "application/vnd.jupyter.widget-view+json": {
       "model_id": "13f05579a6c44507801e7b4e2d5e2712",
       "version_major": 2,
       "version_minor": 0
      },
      "text/plain": [
       "N:   0%|          | 0/12 [00:00<?, ?it/s]"
      ]
     },
     "metadata": {},
     "output_type": "display_data"
    },
    {
     "name": "stdout",
     "output_type": "stream",
     "text": [
      "aborted after {REPS4*3}\n"
     ]
    },
    {
     "data": {
      "image/png": "[encoded data removed]",
      "text/plain": [
       "<Figure size 360x360 with 2 Axes>"
      ]
     },
     "metadata": {
      "needs_background": "light"
     },
     "output_type": "display_data"
    },
    {
     "name": "stdout",
     "output_type": "stream",
     "text": [
      "Time = 185347.82597088814\n"
     ]
    },
    {
     "data": {
      "application/vnd.jupyter.widget-view+json": {
       "model_id": "fc285f80c24b49c39b22445fe50b2321",
       "version_major": 2,
       "version_minor": 0
      },
      "text/plain": [
       "FAR:   0%|          | 0/3 [00:00<?, ?it/s]"
      ]
     },
     "metadata": {},
     "output_type": "display_data"
    },
    {
     "data": {
      "application/vnd.jupyter.widget-view+json": {
       "model_id": "1e4ac1867b0e43c9a7d0863b0ccf5a30",
       "version_major": 2,
       "version_minor": 0
      },
      "text/plain": [
       "sens:   0%|          | 0/3 [00:00<?, ?it/s]"
      ]
     },
     "metadata": {},
     "output_type": "display_data"
    },
    {
     "data": {
      "application/vnd.jupyter.widget-view+json": {
       "model_id": "57a48f82e89a48e8a7c31350b28bda50",
       "version_major": 2,
       "version_minor": 0
      },
      "text/plain": [
       "N:   0%|          | 0/13 [00:00<?, ?it/s]"
      ]
     },
     "metadata": {},
     "output_type": "display_data"
    },
    {
     "name": "stdout",
     "output_type": "stream",
     "text": [
      "aborted after {REPS4*2}\n",
      "aborted after {REPS4*3}\n",
      "aborted after {REPS4*2}\n",
      "aborted after {REPS4*3}\n",
      "aborted after {REPS4*2}\n",
      "aborted after {REPS4*3}\n",
      "aborted after {REPS4*3}\n",
      "aborted after {REPS4*3}\n",
      "aborted after {REPS4*3}\n",
      "aborted after {REPS4*3}\n",
      "aborted after {REPS4*3}\n",
      "aborted after {REPS4*3}\n"
     ]
    },
    {
     "data": {
      "application/vnd.jupyter.widget-view+json": {
       "model_id": "367c386c8b5847c0bbc9aaf3c778f10c",
       "version_major": 2,
       "version_minor": 0
      },
      "text/plain": [
       "N:   0%|          | 0/13 [00:00<?, ?it/s]"
      ]
     },
     "metadata": {},
     "output_type": "display_data"
    },
    {
     "name": "stdout",
     "output_type": "stream",
     "text": [
      "aborted after {REPS4*3}\n",
      "aborted after {REPS4*3}\n",
      "aborted after {REPS4*3}\n",
      "aborted after {REPS4*3}\n",
      "aborted after {REPS4*3}\n"
     ]
    },
    {
     "data": {
      "application/vnd.jupyter.widget-view+json": {
       "model_id": "bc4f740275e2454e833c9bd91fd03bba",
       "version_major": 2,
       "version_minor": 0
      },
      "text/plain": [
       "N:   0%|          | 0/13 [00:00<?, ?it/s]"
      ]
     },
     "metadata": {},
     "output_type": "display_data"
    },
    {
     "name": "stdout",
     "output_type": "stream",
     "text": [
      "aborted after {REPS4*3}\n",
      "aborted after {REPS4*3}\n",
      "aborted after {REPS4*3}\n"
     ]
    },
    {
     "data": {
      "application/vnd.jupyter.widget-view+json": {
       "model_id": "12e66264284f4144bb032a2998c7667a",
       "version_major": 2,
       "version_minor": 0
      },
      "text/plain": [
       "sens:   0%|          | 0/3 [00:00<?, ?it/s]"
      ]
     },
     "metadata": {},
     "output_type": "display_data"
    },
    {
     "data": {
      "application/vnd.jupyter.widget-view+json": {
       "model_id": "9d1d2f7d5f564f4aa4d8400f530a9d56",
       "version_major": 2,
       "version_minor": 0
      },
      "text/plain": [
       "N:   0%|          | 0/13 [00:00<?, ?it/s]"
      ]
     },
     "metadata": {},
     "output_type": "display_data"
    },
    {
     "name": "stdout",
     "output_type": "stream",
     "text": [
      "aborted after {REPS4*2}\n",
      "aborted after {REPS4*3}\n",
      "aborted after {REPS4*2}\n",
      "aborted after {REPS4*3}\n",
      "aborted after {REPS4*2}\n",
      "aborted after {REPS4*3}\n",
      "aborted after {REPS4*3}\n",
      "aborted after {REPS4*3}\n",
      "aborted after {REPS4*3}\n",
      "aborted after {REPS4*3}\n",
      "aborted after {REPS4*3}\n"
     ]
    }
   ],
   "source": [
    "%reload_ext autoreload\n",
    "%autoreload 2\n",
    "import numpy as np\n",
    "np.warnings.filterwarnings('ignore', category=np.VisibleDeprecationWarning)   \n",
    "from weargroup import do_simple_case1_sim\n",
    "for clinTF in [True,False]:\n",
    "    for whatmetric in ['RR50','MPC']:\n",
    "        do_simple_case1_sim(figname=f'{whatmetric}_clinTF{clinTF}_big10k',numCPUs=5,REPS=10000,clinTF=clinTF,FARlist=[0,1,10],sensLIST=[0.3,.6,1],metric_type=whatmetric)\n"
   ]
  },
  {
   "cell_type": "code",
   "execution_count": 6,
   "metadata": {},
   "outputs": [
    {
     "name": "stdout",
     "output_type": "stream",
     "text": [
      "True+3\n"
     ]
    }
   ],
   "source": [
    "K=True\n",
    "print(f'{K}+3')"
   ]
  },
  {
   "cell_type": "code",
   "execution_count": 7,
   "metadata": {},
   "outputs": [
    {
     "data": {
      "application/vnd.jupyter.widget-view+json": {
       "model_id": "7cace875498e4d3d89cfa40227ab2f73",
       "version_major": 2,
       "version_minor": 0
      },
      "text/plain": [
       "  0%|          | 0/10000 [00:00<?, ?it/s]"
      ]
     },
     "metadata": {},
     "output_type": "display_data"
    },
    {
     "name": "stdout",
     "output_type": "stream",
     "text": [
      "   clinTF  sens  FAR  diffSz  drugCount  noDrugs  noSzChange  noSzChangeDrugs  \\\n",
      "0    True   0.5    0  0.2386     0.9005     5424        8120         0.525369   \n",
      "\n",
      "   diffWith  drugsWith  the75  the75drugs  \n",
      "0  1.269149   2.520745    0.0         4.0  \n"
     ]
    },
    {
     "data": {
      "application/vnd.jupyter.widget-view+json": {
       "model_id": "dd5acba434d9473a8335bb989ec50c18",
       "version_major": 2,
       "version_minor": 0
      },
      "text/plain": [
       "  0%|          | 0/10000 [00:00<?, ?it/s]"
      ]
     },
     "metadata": {},
     "output_type": "display_data"
    },
    {
     "name": "stdout",
     "output_type": "stream",
     "text": [
      "   clinTF  sens  FAR  diffSz  drugCount  noDrugs  noSzChange  noSzChangeDrugs  \\\n",
      "0    True   0.6    0  0.3345     1.3009     4639        7572         0.696778   \n",
      "\n",
      "   diffWith  drugsWith  the75  the75drugs  \n",
      "0  1.377677   3.184926    0.0         0.0  \n"
     ]
    },
    {
     "data": {
      "application/vnd.jupyter.widget-view+json": {
       "model_id": "2d83fad31d484e19badba8801537f5a5",
       "version_major": 2,
       "version_minor": 0
      },
      "text/plain": [
       "  0%|          | 0/10000 [00:00<?, ?it/s]"
      ]
     },
     "metadata": {},
     "output_type": "display_data"
    },
    {
     "name": "stdout",
     "output_type": "stream",
     "text": [
      "   clinTF  sens  FAR  diffSz  drugCount  noDrugs  noSzChange  noSzChangeDrugs  \\\n",
      "0    True   0.7    0  0.4703      1.758     4011        6906         0.832754   \n",
      "\n",
      "   diffWith  drugsWith  the75  the75drugs  \n",
      "0  1.520039   3.823206    1.0         5.0  \n"
     ]
    },
    {
     "data": {
      "application/vnd.jupyter.widget-view+json": {
       "model_id": "a59e6f36865b424cb6bbbfe2521e66ef",
       "version_major": 2,
       "version_minor": 0
      },
      "text/plain": [
       "  0%|          | 0/10000 [00:00<?, ?it/s]"
      ]
     },
     "metadata": {},
     "output_type": "display_data"
    },
    {
     "name": "stdout",
     "output_type": "stream",
     "text": [
      "   clinTF  sens  FAR  diffSz  drugCount  noDrugs  noSzChange  noSzChangeDrugs  \\\n",
      "0    True   0.8    0  0.5909     2.2639     3514        6423         0.976802   \n",
      "\n",
      "   diffWith  drugsWith  the75  the75drugs  \n",
      "0  1.651943   4.575063    1.0         3.0  \n"
     ]
    },
    {
     "data": {
      "application/vnd.jupyter.widget-view+json": {
       "model_id": "42b3f7e9722448f79881ebb12e75d56a",
       "version_major": 2,
       "version_minor": 0
      },
      "text/plain": [
       "  0%|          | 0/10000 [00:00<?, ?it/s]"
      ]
     },
     "metadata": {},
     "output_type": "display_data"
    },
    {
     "name": "stdout",
     "output_type": "stream",
     "text": [
      "   clinTF  sens  FAR  diffSz  drugCount  noDrugs  noSzChange  noSzChangeDrugs  \\\n",
      "0    True   0.9    0   0.734     2.8467     3147        5982         1.153126   \n",
      "\n",
      "   diffWith  drugsWith  the75  the75drugs  \n",
      "0  1.826779   5.368094    1.0         2.0  \n"
     ]
    },
    {
     "data": {
      "application/vnd.jupyter.widget-view+json": {
       "model_id": "323ea8b0321848aaa14165000b879341",
       "version_major": 2,
       "version_minor": 0
      },
      "text/plain": [
       "  0%|          | 0/10000 [00:00<?, ?it/s]"
      ]
     },
     "metadata": {},
     "output_type": "display_data"
    },
    {
     "name": "stdout",
     "output_type": "stream",
     "text": [
      "   clinTF  sens  FAR  diffSz  drugCount  noDrugs  noSzChange  noSzChangeDrugs  \\\n",
      "0    True   1.0    0  0.9355     3.5145     2825        5452         1.225422   \n",
      "\n",
      "   diffWith  drugsWith  the75  the75drugs  \n",
      "0  2.056948   6.258575    1.0         5.0  \n"
     ]
    },
    {
     "data": {
      "application/vnd.jupyter.widget-view+json": {
       "model_id": "5eaed940d28b47419a7e6d08724de210",
       "version_major": 2,
       "version_minor": 0
      },
      "text/plain": [
       "  0%|          | 0/10000 [00:00<?, ?it/s]"
      ]
     },
     "metadata": {},
     "output_type": "display_data"
    },
    {
     "name": "stdout",
     "output_type": "stream",
     "text": [
      "   clinTF  sens   FAR  diffSz  drugCount  noDrugs  noSzChange  \\\n",
      "0    True     1  0.05  0.9217     3.5382     2731        5438   \n",
      "\n",
      "   noSzChangeDrugs  diffWith  drugsWith  the75  the75drugs  \n",
      "0         1.277124  2.020386    6.23345    1.0         2.0  \n"
     ]
    },
    {
     "data": {
      "application/vnd.jupyter.widget-view+json": {
       "model_id": "f5e49420ae534e56a1a169a00cff6e81",
       "version_major": 2,
       "version_minor": 0
      },
      "text/plain": [
       "  0%|          | 0/10000 [00:00<?, ?it/s]"
      ]
     },
     "metadata": {},
     "output_type": "display_data"
    },
    {
     "name": "stdout",
     "output_type": "stream",
     "text": [
      "   clinTF  sens  FAR  diffSz  drugCount  noDrugs  noSzChange  noSzChangeDrugs  \\\n",
      "0    True     1  0.1  0.9363     3.5474     2754        5417         1.247739   \n",
      "\n",
      "   diffWith  drugsWith  the75  the75drugs  \n",
      "0  2.042985   6.265547    1.0         4.0  \n"
     ]
    },
    {
     "data": {
      "application/vnd.jupyter.widget-view+json": {
       "model_id": "13f15940adfa4aa095e484066d0f2bc1",
       "version_major": 2,
       "version_minor": 0
      },
      "text/plain": [
       "  0%|          | 0/10000 [00:00<?, ?it/s]"
      ]
     },
     "metadata": {},
     "output_type": "display_data"
    },
    {
     "name": "stdout",
     "output_type": "stream",
     "text": [
      "   clinTF  sens  FAR  diffSz  drugCount  noDrugs  noSzChange  noSzChangeDrugs  \\\n",
      "0    True     1  0.2  0.9089     3.4792     2832        5555         1.225023   \n",
      "\n",
      "   diffWith  drugsWith  the75  the75drugs  \n",
      "0  2.044769   6.296288    1.0         3.0  \n"
     ]
    },
    {
     "data": {
      "application/vnd.jupyter.widget-view+json": {
       "model_id": "8cc2c799a3cb44e89e629feb098bd947",
       "version_major": 2,
       "version_minor": 0
      },
      "text/plain": [
       "  0%|          | 0/10000 [00:00<?, ?it/s]"
      ]
     },
     "metadata": {},
     "output_type": "display_data"
    },
    {
     "name": "stdout",
     "output_type": "stream",
     "text": [
      "   clinTF  sens  FAR  diffSz  drugCount  noDrugs  noSzChange  noSzChangeDrugs  \\\n",
      "0    True     1  0.5  0.9251     3.5032     2756        5430         1.231308   \n",
      "\n",
      "   diffWith  drugsWith  the75  the75drugs  \n",
      "0  2.024289   6.202626    1.0         4.0  \n"
     ]
    },
    {
     "data": {
      "application/vnd.jupyter.widget-view+json": {
       "model_id": "f00a722e38a24d4ab010e44c616ecb1d",
       "version_major": 2,
       "version_minor": 0
      },
      "text/plain": [
       "  0%|          | 0/10000 [00:00<?, ?it/s]"
      ]
     },
     "metadata": {},
     "output_type": "display_data"
    },
    {
     "name": "stdout",
     "output_type": "stream",
     "text": [
      "   clinTF  sens  FAR  diffSz  drugCount  noDrugs  noSzChange  noSzChangeDrugs  \\\n",
      "0    True     1    1  0.9341     3.5143     2763        5433         1.216455   \n",
      "\n",
      "   diffWith  drugsWith  the75  the75drugs  \n",
      "0  2.045325   6.247865    1.0         7.0  \n"
     ]
    },
    {
     "data": {
      "application/vnd.jupyter.widget-view+json": {
       "model_id": "01c84cd9b01b4356915b2dd0b1f55251",
       "version_major": 2,
       "version_minor": 0
      },
      "text/plain": [
       "  0%|          | 0/10000 [00:00<?, ?it/s]"
      ]
     },
     "metadata": {},
     "output_type": "display_data"
    },
    {
     "name": "stdout",
     "output_type": "stream",
     "text": [
      "   clinTF  sens  FAR  diffSz  drugCount  noDrugs  noSzChange  noSzChangeDrugs  \\\n",
      "0    True     1    2  0.9079     3.4867     2872        5495         1.193449   \n",
      "\n",
      "   diffWith  drugsWith  the75  the75drugs  \n",
      "0  2.015316   6.283907    1.0         3.0  \n"
     ]
    },
    {
     "data": {
      "application/vnd.jupyter.widget-view+json": {
       "model_id": "c0997e8949df42ad963faf9b18c3043d",
       "version_major": 2,
       "version_minor": 0
      },
      "text/plain": [
       "  0%|          | 0/10000 [00:00<?, ?it/s]"
      ]
     },
     "metadata": {},
     "output_type": "display_data"
    },
    {
     "name": "stdout",
     "output_type": "stream",
     "text": [
      "   clinTF  sens  FAR  diffSz  drugCount  noDrugs  noSzChange  noSzChangeDrugs  \\\n",
      "0   False   0.5    0  1.2041     4.4061      845        3791         2.355843   \n",
      "\n",
      "   diffWith  drugsWith  the75  the75drugs  \n",
      "0  1.939282   5.657916    2.0         5.0  \n"
     ]
    },
    {
     "data": {
      "application/vnd.jupyter.widget-view+json": {
       "model_id": "db695433a16c4fca89eedd02dd0d5992",
       "version_major": 2,
       "version_minor": 0
      },
      "text/plain": [
       "  0%|          | 0/10000 [00:00<?, ?it/s]"
      ]
     },
     "metadata": {},
     "output_type": "display_data"
    },
    {
     "name": "stdout",
     "output_type": "stream",
     "text": [
      "   clinTF  sens  FAR  diffSz  drugCount  noDrugs  noSzChange  noSzChangeDrugs  \\\n",
      "0   False   0.6    0  1.7634     6.4097      524        2598         2.969207   \n",
      "\n",
      "   diffWith  drugsWith  the75  the75drugs  \n",
      "0  2.382329   7.617266    3.0        13.0  \n"
     ]
    },
    {
     "data": {
      "application/vnd.jupyter.widget-view+json": {
       "model_id": "c1131c193ad14e4b9e970213eb4962fa",
       "version_major": 2,
       "version_minor": 0
      },
      "text/plain": [
       "  0%|          | 0/10000 [00:00<?, ?it/s]"
      ]
     },
     "metadata": {},
     "output_type": "display_data"
    },
    {
     "name": "stdout",
     "output_type": "stream",
     "text": [
      "   clinTF  sens  FAR  diffSz  drugCount  noDrugs  noSzChange  noSzChangeDrugs  \\\n",
      "0   False   0.7    0  2.3457     8.5916      455        1961         3.439062   \n",
      "\n",
      "   diffWith  drugsWith  the75  the75drugs  \n",
      "0    2.9179   9.848489    3.0         8.0  \n"
     ]
    },
    {
     "data": {
      "application/vnd.jupyter.widget-view+json": {
       "model_id": "ad499220907045b9b911542c68df64d8",
       "version_major": 2,
       "version_minor": 0
      },
      "text/plain": [
       "  0%|          | 0/10000 [00:00<?, ?it/s]"
      ]
     },
     "metadata": {},
     "output_type": "display_data"
    },
    {
     "name": "stdout",
     "output_type": "stream",
     "text": [
      "   clinTF  sens  FAR  diffSz  drugCount  noDrugs  noSzChange  noSzChangeDrugs  \\\n",
      "0   False   0.8    0  3.0444    11.1356      365        1409         3.694109   \n",
      "\n",
      "   diffWith  drugsWith  the75  the75drugs  \n",
      "0  3.543709   12.35607    4.0         7.0  \n"
     ]
    },
    {
     "data": {
      "application/vnd.jupyter.widget-view+json": {
       "model_id": "aed76da319f743d48e94601f67fa5904",
       "version_major": 2,
       "version_minor": 0
      },
      "text/plain": [
       "  0%|          | 0/10000 [00:00<?, ?it/s]"
      ]
     },
     "metadata": {},
     "output_type": "display_data"
    },
    {
     "name": "stdout",
     "output_type": "stream",
     "text": [
      "   clinTF  sens  FAR  diffSz  drugCount  noDrugs  noSzChange  noSzChangeDrugs  \\\n",
      "0   False   0.9    0  3.8524     14.125      271        1010         3.650495   \n",
      "\n",
      "   diffWith  drugsWith  the75  the75drugs  \n",
      "0  4.285206   15.30178    5.0        11.0  \n"
     ]
    },
    {
     "data": {
      "application/vnd.jupyter.widget-view+json": {
       "model_id": "0eecf600ed97461e817866578e1d2d6d",
       "version_major": 2,
       "version_minor": 0
      },
      "text/plain": [
       "  0%|          | 0/10000 [00:00<?, ?it/s]"
      ]
     },
     "metadata": {},
     "output_type": "display_data"
    },
    {
     "name": "stdout",
     "output_type": "stream",
     "text": [
      "   clinTF  sens  FAR  diffSz  drugCount  noDrugs  noSzChange  noSzChangeDrugs  \\\n",
      "0   False   1.0    0  4.6464    17.1519      205         806         3.424318   \n",
      "\n",
      "   diffWith  drugsWith  the75  the75drugs  \n",
      "0  5.053731   18.35534    6.0        16.0  \n"
     ]
    },
    {
     "data": {
      "application/vnd.jupyter.widget-view+json": {
       "model_id": "ed7845fbffdc419f84f5b81bef9e7aed",
       "version_major": 2,
       "version_minor": 0
      },
      "text/plain": [
       "  0%|          | 0/10000 [00:00<?, ?it/s]"
      ]
     },
     "metadata": {},
     "output_type": "display_data"
    },
    {
     "name": "stdout",
     "output_type": "stream",
     "text": [
      "   clinTF  sens   FAR  diffSz  drugCount  noDrugs  noSzChange  \\\n",
      "0   False     1  0.05   4.659    17.1847      246         780   \n",
      "\n",
      "   noSzChangeDrugs  diffWith  drugsWith  the75  the75drugs  \n",
      "0         3.197436  5.053145  18.368004    6.0        23.0  \n"
     ]
    },
    {
     "data": {
      "application/vnd.jupyter.widget-view+json": {
       "model_id": "fbfb827872344db9a63c0ffb68d0ec3f",
       "version_major": 2,
       "version_minor": 0
      },
      "text/plain": [
       "  0%|          | 0/10000 [00:00<?, ?it/s]"
      ]
     },
     "metadata": {},
     "output_type": "display_data"
    },
    {
     "name": "stdout",
     "output_type": "stream",
     "text": [
      "   clinTF  sens  FAR  diffSz  drugCount  noDrugs  noSzChange  noSzChangeDrugs  \\\n",
      "0   False     1  0.1  4.6458    17.1333      236         812         3.475369   \n",
      "\n",
      "   diffWith  drugsWith  the75  the75drugs  \n",
      "0  5.056378  18.340335    6.0        13.0  \n"
     ]
    },
    {
     "data": {
      "application/vnd.jupyter.widget-view+json": {
       "model_id": "3a233b3e04a244b5af127c03cd65f53b",
       "version_major": 2,
       "version_minor": 0
      },
      "text/plain": [
       "  0%|          | 0/10000 [00:00<?, ?it/s]"
      ]
     },
     "metadata": {},
     "output_type": "display_data"
    },
    {
     "name": "stdout",
     "output_type": "stream",
     "text": [
      "   clinTF  sens  FAR  diffSz  drugCount  noDrugs  noSzChange  noSzChangeDrugs  \\\n",
      "0   False     1  0.2  4.7193    17.3747      227         824          3.48301   \n",
      "\n",
      "   diffWith  drugsWith  the75  the75drugs  \n",
      "0  5.143091  18.622167    6.0        18.0  \n"
     ]
    },
    {
     "data": {
      "application/vnd.jupyter.widget-view+json": {
       "model_id": "f71087311bda47b0a94ea14e8b9ab85a",
       "version_major": 2,
       "version_minor": 0
      },
      "text/plain": [
       "  0%|          | 0/10000 [00:00<?, ?it/s]"
      ]
     },
     "metadata": {},
     "output_type": "display_data"
    },
    {
     "name": "stdout",
     "output_type": "stream",
     "text": [
      "   clinTF  sens  FAR  diffSz  drugCount  noDrugs  noSzChange  noSzChangeDrugs  \\\n",
      "0   False     1  0.5  4.7117    17.1884      231         843         3.606168   \n",
      "\n",
      "   diffWith  drugsWith  the75  the75drugs  \n",
      "0  5.145462   18.43879    6.0        21.0  \n"
     ]
    },
    {
     "data": {
      "application/vnd.jupyter.widget-view+json": {
       "model_id": "4a6510f9ff854071a44c4f712dd440bc",
       "version_major": 2,
       "version_minor": 0
      },
      "text/plain": [
       "  0%|          | 0/10000 [00:00<?, ?it/s]"
      ]
     },
     "metadata": {},
     "output_type": "display_data"
    },
    {
     "name": "stdout",
     "output_type": "stream",
     "text": [
      "   clinTF  sens  FAR  diffSz  drugCount  noDrugs  noSzChange  noSzChangeDrugs  \\\n",
      "0   False     1    1  4.7324    17.3122      230         784         3.473214   \n",
      "\n",
      "   diffWith  drugsWith  the75  the75drugs  \n",
      "0  5.134983  18.489475    6.0        19.0  \n"
     ]
    },
    {
     "data": {
      "application/vnd.jupyter.widget-view+json": {
       "model_id": "f719a2f6135d4cfe9243cf43c60082c2",
       "version_major": 2,
       "version_minor": 0
      },
      "text/plain": [
       "  0%|          | 0/10000 [00:00<?, ?it/s]"
      ]
     },
     "metadata": {},
     "output_type": "display_data"
    },
    {
     "name": "stdout",
     "output_type": "stream",
     "text": [
      "   clinTF  sens  FAR  diffSz  drugCount  noDrugs  noSzChange  noSzChangeDrugs  \\\n",
      "0   False     1    2  4.7111     17.283      253         814         3.121622   \n",
      "\n",
      "   diffWith  drugsWith  the75  the75drugs  \n",
      "0  5.128565  18.537884    6.0        19.0  \n",
      "    clinTF  sens   FAR  diffSz  drugCount  noDrugs  noSzChange  \\\n",
      "0     True   0.5  0.00  0.2386     0.9005     5424        8120   \n",
      "1     True   0.6  0.00  0.3345     1.3009     4639        7572   \n",
      "2     True   0.7  0.00  0.4703     1.7580     4011        6906   \n",
      "3     True   0.8  0.00  0.5909     2.2639     3514        6423   \n",
      "4     True   0.9  0.00  0.7340     2.8467     3147        5982   \n",
      "5     True   1.0  0.00  0.9355     3.5145     2825        5452   \n",
      "6     True   1.0  0.05  0.9217     3.5382     2731        5438   \n",
      "7     True   1.0  0.10  0.9363     3.5474     2754        5417   \n",
      "8     True   1.0  0.20  0.9089     3.4792     2832        5555   \n",
      "9     True   1.0  0.50  0.9251     3.5032     2756        5430   \n",
      "10    True   1.0  1.00  0.9341     3.5143     2763        5433   \n",
      "11    True   1.0  2.00  0.9079     3.4867     2872        5495   \n",
      "12   False   0.5  0.00  1.2041     4.4061      845        3791   \n",
      "13   False   0.6  0.00  1.7634     6.4097      524        2598   \n",
      "14   False   0.7  0.00  2.3457     8.5916      455        1961   \n",
      "15   False   0.8  0.00  3.0444    11.1356      365        1409   \n",
      "16   False   0.9  0.00  3.8524    14.1250      271        1010   \n",
      "17   False   1.0  0.00  4.6464    17.1519      205         806   \n",
      "18   False   1.0  0.05  4.6590    17.1847      246         780   \n",
      "19   False   1.0  0.10  4.6458    17.1333      236         812   \n",
      "20   False   1.0  0.20  4.7193    17.3747      227         824   \n",
      "21   False   1.0  0.50  4.7117    17.1884      231         843   \n",
      "22   False   1.0  1.00  4.7324    17.3122      230         784   \n",
      "23   False   1.0  2.00  4.7111    17.2830      253         814   \n",
      "\n",
      "    noSzChangeDrugs  diffWith  drugsWith  the75  the75drugs  \n",
      "0          0.525369  1.269149   2.520745    0.0         4.0  \n",
      "1          0.696778  1.377677   3.184926    0.0         0.0  \n",
      "2          0.832754  1.520039   3.823206    1.0         5.0  \n",
      "3          0.976802  1.651943   4.575063    1.0         3.0  \n",
      "4          1.153126  1.826779   5.368094    1.0         2.0  \n",
      "5          1.225422  2.056948   6.258575    1.0         5.0  \n",
      "6          1.277124  2.020386   6.233450    1.0         2.0  \n",
      "7          1.247739  2.042985   6.265547    1.0         4.0  \n",
      "8          1.225023  2.044769   6.296288    1.0         3.0  \n",
      "9          1.231308  2.024289   6.202626    1.0         4.0  \n",
      "10         1.216455  2.045325   6.247865    1.0         7.0  \n",
      "11         1.193449  2.015316   6.283907    1.0         3.0  \n",
      "12         2.355843  1.939282   5.657916    2.0         5.0  \n",
      "13         2.969207  2.382329   7.617266    3.0        13.0  \n",
      "14         3.439062  2.917900   9.848489    3.0         8.0  \n",
      "15         3.694109  3.543709  12.356070    4.0         7.0  \n",
      "16         3.650495  4.285206  15.301780    5.0        11.0  \n",
      "17         3.424318  5.053731  18.355340    6.0        16.0  \n",
      "18         3.197436  5.053145  18.368004    6.0        23.0  \n",
      "19         3.475369  5.056378  18.340335    6.0        13.0  \n",
      "20         3.483010  5.143091  18.622167    6.0        18.0  \n",
      "21         3.606168  5.145462  18.438790    6.0        21.0  \n",
      "22         3.473214  5.134983  18.489475    6.0        19.0  \n",
      "23         3.121622  5.128565  18.537884    6.0        19.0  \n"
     ]
    }
   ],
   "source": [
    "%reload_ext autoreload\n",
    "%autoreload 2\n",
    "from weargroup_v2 import run_full_cluster_cases\n",
    "run_full_cluster_cases(fn='clusterCase10k.csv',N=10000,numCPUs=9)"
   ]
  }
 ],
 "metadata": {
  "kernelspec": {
   "display_name": "Python 3.9.13 ('deep3g')",
   "language": "python",
   "name": "python3"
  },
  "language_info": {
   "codemirror_mode": {
    "name": "ipython",
    "version": 3
   },
   "file_extension": ".py",
   "mimetype": "text/x-python",
   "name": "python",
   "nbconvert_exporter": "python",
   "pygments_lexer": "ipython3",
   "version": "3.9.13"
  },
  "orig_nbformat": 4,
  "vscode": {
   "interpreter": {
    "hash": "515927336135dd8ee9affbbb9f9d747314abba0a3ac8600bed15b57f61c890b1"
   }
  }
 },
 "nbformat": 4,
 "nbformat_minor": 2
}
