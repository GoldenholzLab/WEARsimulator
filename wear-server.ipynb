{
 "cells": [
  {
   "cell_type": "code",
   "execution_count": 2,
   "metadata": {},
   "outputs": [
    {
     "data": {
      "application/vnd.jupyter.widget-view+json": {
       "model_id": "ce92e21eab37481db94729d54536f708",
       "version_major": 2,
       "version_minor": 0
      },
      "text/plain": [
       "  0%|          | 0/1000 [00:00<?, ?it/s]"
      ]
     },
     "metadata": {},
     "output_type": "display_data"
    }
   ],
   "source": [
    "from weargroup_v2 import run_full_cluster_cases\n",
    "run_full_cluster_cases(fn='tryme',N=1000)\n"
   ]
  },
  {
   "cell_type": "code",
   "execution_count": 7,
   "metadata": {},
   "outputs": [
    {
     "data": {
      "application/vnd.jupyter.widget-view+json": {
       "model_id": "7af2c1c5be0241b3abe02d5dd6854c02",
       "version_major": 2,
       "version_minor": 0
      },
      "text/plain": [
       "  0%|          | 0/10000 [00:00<?, ?it/s]"
      ]
     },
     "metadata": {},
     "output_type": "display_data"
    },
    {
     "name": "stdout",
     "output_type": "stream",
     "text": [
      "1.9981\n"
     ]
    }
   ],
   "source": [
    "# prove that injury case does not need FAR included\n",
    "import numpy as np\n",
    "from tqdm.auto import trange\n",
    "reps = 10000\n",
    "S = np.zeros(reps)\n",
    "for i in trange(reps):\n",
    "    samps = 10*12*30*144\n",
    "    x = np.random.poisson(lam=(29.6/samps),size=samps)\n",
    "    FAR = 10\n",
    "    y = np.random.poisson(lam=10/144,size=samps)\n",
    "    S[i] = np.sum(np.bitwise_and(x>0,y>0))\n",
    "print(np.mean(S))"
   ]
  }
 ],
 "metadata": {
  "kernelspec": {
   "display_name": "Python 3.9.10 ('base')",
   "language": "python",
   "name": "python3"
  },
  "language_info": {
   "codemirror_mode": {
    "name": "ipython",
    "version": 3
   },
   "file_extension": ".py",
   "mimetype": "text/x-python",
   "name": "python",
   "nbconvert_exporter": "python",
   "pygments_lexer": "ipython3",
   "version": "3.9.10"
  },
  "orig_nbformat": 4,
  "vscode": {
   "interpreter": {
    "hash": "a75652ec939923e1a99ff81e423d7576a9a43109440f923e9b71a299bff85a6a"
   }
  }
 },
 "nbformat": 4,
 "nbformat_minor": 2
}
